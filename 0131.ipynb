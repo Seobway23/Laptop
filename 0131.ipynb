{
  "nbformat": 4,
  "nbformat_minor": 0,
  "metadata": {
    "colab": {
      "provenance": [],
      "authorship_tag": "ABX9TyN8iq6s+H9o/ZZ4DVXDBcb3",
      "include_colab_link": true
    },
    "kernelspec": {
      "name": "python3",
      "display_name": "Python 3"
    },
    "language_info": {
      "name": "python"
    }
  },
  "cells": [
    {
      "cell_type": "markdown",
      "metadata": {
        "id": "view-in-github",
        "colab_type": "text"
      },
      "source": [
        "<a href=\"https://colab.research.google.com/github/Seobway23/Laptop/blob/master/0131.ipynb\" target=\"_parent\"><img src=\"https://colab.research.google.com/assets/colab-badge.svg\" alt=\"Open In Colab\"/></a>"
      ]
    },
    {
      "cell_type": "markdown",
      "source": [
        "# 0131 객체 클래스"
      ],
      "metadata": {
        "id": "7vkpc8VEowtu"
      }
    },
    {
      "cell_type": "code",
      "execution_count": 4,
      "metadata": {
        "colab": {
          "base_uri": "https://localhost:8080/"
        },
        "id": "sq5lXgRQMDtU",
        "outputId": "a3051baa-4607-44e7-86d7-6238e6e28a83"
      },
      "outputs": [
        {
          "output_type": "stream",
          "name": "stdout",
          "text": [
            "안녕하세요, aiden님 ^~^//\n",
            "^~^//\n"
          ]
        }
      ],
      "source": [
        "def ko_hello(name):\n",
        "    print(f'안녕하세요, {name}님 ^~^//')\n",
        "\n",
        "def en_hello(name):\n",
        "    print(f'hello {name} ^~^//')\n",
        "\n",
        "\n",
        "def add_emoji(name,func):\n",
        "    func(name)\n",
        "    print('^~^//')\n",
        "\n",
        "add_emoji('aiden',ko_hello)\n"
      ]
    },
    {
      "cell_type": "code",
      "source": [
        "def emoji_decorator(func):\n",
        "    def wrapper(name):\n",
        "        func(name)\n",
        "        print('^~^//')\n",
        "\n",
        "    return wrapper\n",
        "\n"
      ],
      "metadata": {
        "id": "NZjFUkumMXKR"
      },
      "execution_count": null,
      "outputs": []
    },
    {
      "cell_type": "code",
      "source": [
        "class MyClass:\n",
        "    def method(self):\n",
        "        return '인스턴스메서드'\n",
        "\n",
        "    @classmethod\n",
        "    def classmethod(cls):\n",
        "        return '클래스 메서드'\n",
        "\n",
        "    @staticmethod\n",
        "    def staticmethod():\n",
        "        return '슽탯팃 메서드'\n",
        "\n",
        "my_class=MyClass()\n",
        "print(my_class.method())\n",
        "print(my_class.classmethod())\n",
        "print(my_class.staticmethod())"
      ],
      "metadata": {
        "colab": {
          "base_uri": "https://localhost:8080/"
        },
        "id": "UXsKeaskZfmn",
        "outputId": "dd2acbeb-a799-4e39-b1ac-cbdcf2e10b56"
      },
      "execution_count": 7,
      "outputs": [
        {
          "output_type": "stream",
          "name": "stdout",
          "text": [
            "인스턴스메서드\n",
            "클래스 메서드\n",
            "슽탯팃 메서드\n"
          ]
        }
      ]
    },
    {
      "cell_type": "code",
      "source": [
        "class Person:\n",
        "    def __init__(self):\n",
        "        self._age=0\n",
        "\n",
        "    def get_age(self): #getter\n",
        "        print('getter 호출!')\n",
        "        return self._age\n",
        "\n",
        "    def set_age(self,age):\n",
        "        print('setter 호출!')\n",
        "        self._age=age\n",
        "        \n",
        "    age = property(get_age,set_age)\n",
        "    #age public \n",
        "\n",
        "p1=Person()\n",
        "p1.age=25\n",
        "print(p1.age)\n",
        "\n",
        "#불편해..\n",
        "# p1.set_age(25)\n",
        "# print(p1.get_age())\n"
      ],
      "metadata": {
        "colab": {
          "base_uri": "https://localhost:8080/"
        },
        "id": "9EymzFJIZfbX",
        "outputId": "c12d930c-044f-4797-adb7-ee1b8a6cde7c"
      },
      "execution_count": 11,
      "outputs": [
        {
          "output_type": "stream",
          "name": "stdout",
          "text": [
            "setter 호출!\n",
            "getter 호출!\n",
            "25\n"
          ]
        }
      ]
    },
    {
      "cell_type": "code",
      "source": [
        "#decorator\n",
        "\n",
        "class Person:\n",
        "    def __init__(self):\n",
        "        self._age=0\n",
        "\n",
        "    @property\n",
        "    def age(self): #getter\n",
        "        print('getter 호출!')\n",
        "        return self._age\n",
        "\n",
        "    @age.setter\n",
        "    def age(self,age):\n",
        "        print('setter 호출!')\n",
        "        self._age=age\n",
        "\n",
        "        \n",
        "\n",
        "p1=Person()\n",
        "p1.age=25\n",
        "print(p1.age)"
      ],
      "metadata": {
        "colab": {
          "base_uri": "https://localhost:8080/"
        },
        "id": "Yp-IYVrvfpEE",
        "outputId": "795aa84e-f8f6-4ab2-e040-c1e919b6b54e"
      },
      "execution_count": 12,
      "outputs": [
        {
          "output_type": "stream",
          "name": "stdout",
          "text": [
            "setter 호출!\n",
            "getter 호출!\n",
            "25\n"
          ]
        }
      ]
    },
    {
      "cell_type": "code",
      "source": [],
      "metadata": {
        "id": "hsRJdq_Ogyh7"
      },
      "execution_count": null,
      "outputs": []
    }
  ]
}