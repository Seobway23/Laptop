{
  "nbformat": 4,
  "nbformat_minor": 0,
  "metadata": {
    "colab": {
      "provenance": [],
      "authorship_tag": "ABX9TyOJ31myLwrV6D0ZVhlWWFrG",
      "include_colab_link": true
    },
    "kernelspec": {
      "name": "python3",
      "display_name": "Python 3"
    },
    "language_info": {
      "name": "python"
    }
  },
  "cells": [
    {
      "cell_type": "markdown",
      "metadata": {
        "id": "view-in-github",
        "colab_type": "text"
      },
      "source": [
        "<a href=\"https://colab.research.google.com/github/Seobway23/laptop/blob/master/01_24_Day4_review.ipynb\" target=\"_parent\"><img src=\"https://colab.research.google.com/assets/colab-badge.svg\" alt=\"Open In Colab\"/></a>"
      ]
    },
    {
      "cell_type": "markdown",
      "source": [
        "1. list 합 구하기\n",
        "\n",
        "ex)\n",
        "input 10/ output= 1 2 5 10"
      ],
      "metadata": {
        "id": "pqqodYF-uNVv"
      }
    },
    {
      "cell_type": "code",
      "execution_count": 4,
      "metadata": {
        "colab": {
          "base_uri": "https://localhost:8080/"
        },
        "id": "lGgbxVqmtJBC",
        "outputId": "ed619ca8-d6bb-45da-e798-16d7e53292bf"
      },
      "outputs": [
        {
          "output_type": "stream",
          "name": "stdout",
          "text": [
            "10\n",
            "1 2 5 10 "
          ]
        }
      ],
      "source": [
        "N=int(input())\n",
        "\n",
        "for number in range(1,N+1):\n",
        "    if N%number==0:    \n",
        "        print(number,end=' ')\n",
        "        \n"
      ]
    },
    {
      "cell_type": "markdown",
      "source": [
        "2. List 합 구하기 \n"
      ],
      "metadata": {
        "id": "CRqNaZCfvlkd"
      }
    },
    {
      "cell_type": "code",
      "source": [
        "lst=[1,2,3,4,5]\n",
        "\n",
        "def list_sum(lst):\n",
        "    list2_sum=0\n",
        "    for idx in lst:\n",
        "        list2_sum+=idx\n",
        "\n",
        "    return list2_sum\n",
        "\n",
        "list_sum([1,2,3,4,5])\n"
      ],
      "metadata": {
        "colab": {
          "base_uri": "https://localhost:8080/"
        },
        "id": "mX4_2ELut04G",
        "outputId": "328b4325-472e-459f-8499-c2add577d31b"
      },
      "execution_count": 6,
      "outputs": [
        {
          "output_type": "execute_result",
          "data": {
            "text/plain": [
              "15"
            ]
          },
          "metadata": {},
          "execution_count": 6
        }
      ]
    },
    {
      "cell_type": "markdown",
      "source": [
        "3. Dictionary로 이루어진 list의 합을 구하기"
      ],
      "metadata": {
        "id": "ufc-wwHYvq54"
      }
    },
    {
      "cell_type": "code",
      "source": [
        "lst3= ({'name':'kim', 'age':12},{'name':'lee','age':4})\n",
        "\n",
        "def dict_list_sum(lst3):\n",
        "    sum_dic=0\n",
        "    for dic in lst3:\n",
        "        a=dic.get('age')\n",
        "        sum_dic+=a\n",
        "\n",
        "    return sum_dic\n",
        "\n",
        "dict_list_sum(lst3)"
      ],
      "metadata": {
        "colab": {
          "base_uri": "https://localhost:8080/"
        },
        "id": "KBXY99PcvJmE",
        "outputId": "dc5b7fe5-069a-4d9a-b017-d6a4d746c66d"
      },
      "execution_count": 9,
      "outputs": [
        {
          "output_type": "execute_result",
          "data": {
            "text/plain": [
              "16"
            ]
          },
          "metadata": {},
          "execution_count": 9
        }
      ]
    },
    {
      "cell_type": "markdown",
      "source": [
        "4. 2차원 list의 전체 합 구하기"
      ],
      "metadata": {
        "id": "P32YicJuyUlP"
      }
    },
    {
      "cell_type": "code",
      "source": [
        "lst4=([1],[2,3],[4,5,6],[7,8,9,10])\n",
        "\n",
        "def all_list_sum(lst4):\n",
        "    sum_lst4=0\n",
        "    for idx1 in lst4:\n",
        "        for idx2 in idx1:\n",
        "            sum_lst4+=idx2\n",
        "\n",
        "    return sum_lst4\n",
        "\n",
        "all_list_sum(lst4)"
      ],
      "metadata": {
        "colab": {
          "base_uri": "https://localhost:8080/"
        },
        "id": "TjglbyJ1w3TK",
        "outputId": "4397fac6-9225-41bf-d305-fa4c26947aed"
      },
      "execution_count": 11,
      "outputs": [
        {
          "output_type": "execute_result",
          "data": {
            "text/plain": [
              "55"
            ]
          },
          "metadata": {},
          "execution_count": 11
        }
      ]
    },
    {
      "cell_type": "markdown",
      "source": [
        "ASCII 코드\n",
        "\n",
        "A-> 65  \n",
        "Z-> 109  \n",
        "a-> 110  \n",
        "z-> 122"
      ],
      "metadata": {
        "id": "DlTrpaux9IJ9"
      }
    },
    {
      "cell_type": "markdown",
      "source": [
        "5. 숫자의 의미\n",
        "정수 숫자-> 영어 아스키 코드 만들기"
      ],
      "metadata": {
        "id": "o7mgMlcl9bXL"
      }
    },
    {
      "cell_type": "code",
      "source": [],
      "metadata": {
        "colab": {
          "base_uri": "https://localhost:8080/",
          "height": 174
        },
        "id": "YjNBgMm_8kjh",
        "outputId": "6dba9274-df42-4787-9401-f9bc931eee50"
      },
      "execution_count": 12,
      "outputs": [
        {
          "output_type": "error",
          "ename": "NameError",
          "evalue": "ignored",
          "traceback": [
            "\u001b[0;31m---------------------------------------------------------------------------\u001b[0m",
            "\u001b[0;31mNameError\u001b[0m                                 Traceback (most recent call last)",
            "\u001b[0;32m<ipython-input-12-939330b76721>\u001b[0m in \u001b[0;36m<module>\u001b[0;34m\u001b[0m\n\u001b[0;32m----> 1\u001b[0;31m \u001b[0mprint\u001b[0m\u001b[0;34m(\u001b[0m\u001b[0mA\u001b[0m\u001b[0;34m)\u001b[0m\u001b[0;34m\u001b[0m\u001b[0;34m\u001b[0m\u001b[0m\n\u001b[0m",
            "\u001b[0;31mNameError\u001b[0m: name 'A' is not defined"
          ]
        }
      ]
    },
    {
      "cell_type": "code",
      "source": [],
      "metadata": {
        "id": "OjbUkizJ9nSz"
      },
      "execution_count": null,
      "outputs": []
    }
  ]
}