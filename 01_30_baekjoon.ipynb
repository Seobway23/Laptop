{
  "nbformat": 4,
  "nbformat_minor": 0,
  "metadata": {
    "colab": {
      "provenance": [],
      "authorship_tag": "ABX9TyMoXEVzj7NV8rVoAFU27kng",
      "include_colab_link": true
    },
    "kernelspec": {
      "name": "python3",
      "display_name": "Python 3"
    },
    "language_info": {
      "name": "python"
    }
  },
  "cells": [
    {
      "cell_type": "markdown",
      "metadata": {
        "id": "view-in-github",
        "colab_type": "text"
      },
      "source": [
        "<a href=\"https://colab.research.google.com/github/Seobway23/Laptop/blob/master/01_30_baekjoon.ipynb\" target=\"_parent\"><img src=\"https://colab.research.google.com/assets/colab-badge.svg\" alt=\"Open In Colab\"/></a>"
      ]
    },
    {
      "cell_type": "markdown",
      "source": [
        "### 개수세기\n"
      ],
      "metadata": {
        "id": "XIFm2T8QbqjY"
      }
    },
    {
      "cell_type": "code",
      "execution_count": null,
      "metadata": {
        "colab": {
          "base_uri": "https://localhost:8080/"
        },
        "id": "xKA2qIArXs5_",
        "outputId": "1a625881-f5f6-4e27-ce5f-1df175000b53"
      },
      "outputs": [
        {
          "output_type": "stream",
          "name": "stdout",
          "text": [
            "11\n",
            "1 4 1 2 4 2 4 2 3 4 4\n",
            "5\n",
            "0\n"
          ]
        }
      ],
      "source": [
        "total_num=int(input())\n",
        "lst_num= list(map(int, input().split()))\n",
        "object_num=int(input())\n",
        "2\n",
        "count_num=0\n",
        "\n",
        "for indi_num in lst_num:\n",
        "    if indi_num == object_num:\n",
        "        count_num+=1\n",
        "    \n",
        "print(count_num)\n",
        "\n",
        "\n"
      ]
    },
    {
      "cell_type": "markdown",
      "source": [
        "### 배열음을 입력받고 v를 찾는 문제"
      ],
      "metadata": {
        "id": "wGD_ipg_bmlI"
      }
    },
    {
      "cell_type": "code",
      "source": [
        "N,X=map(int,input().split())\n",
        "lst_num=list(map(int,input().split()))\n",
        "rest_lst=[]\n",
        "\n",
        "for i in lst_num:\n",
        "    if i<X:\n",
        "        print(i,end=' ')\n",
        "\n",
        "    "
      ],
      "metadata": {
        "colab": {
          "base_uri": "https://localhost:8080/"
        },
        "id": "_maNWD-zY4p5",
        "outputId": "c92ebf2b-6390-4dc9-9272-1faee9698d1c"
      },
      "execution_count": null,
      "outputs": [
        {
          "output_type": "stream",
          "name": "stdout",
          "text": [
            "10 5\n",
            "1 10 4 9 2 3 8 5 7 6\n",
            "1 4 2 3 "
          ]
        }
      ]
    },
    {
      "cell_type": "code",
      "source": [
        "N=int(input())\n",
        "lst_num=list(map(int,input().split()))\n",
        "\n",
        "a=max(lst_num)\n",
        "b=min(lst_num)\n",
        "\n",
        "print(b , a)\n"
      ],
      "metadata": {
        "colab": {
          "base_uri": "https://localhost:8080/"
        },
        "id": "PIU7mm4SaP7R",
        "outputId": "1f995372-4696-4b48-b23c-4f3df9d84307"
      },
      "execution_count": null,
      "outputs": [
        {
          "output_type": "stream",
          "name": "stdout",
          "text": [
            "5\n",
            "1 2 3 4 5\n",
            "1 5\n"
          ]
        }
      ]
    },
    {
      "cell_type": "code",
      "source": [
        "최댓값"
      ],
      "metadata": {
        "id": "WhNBgvCxcJ8o"
      },
      "execution_count": null,
      "outputs": []
    },
    {
      "cell_type": "code",
      "source": [
        "A_list=[]\n",
        "\n",
        "while True:\n",
        "\n",
        "\n",
        "    try:\n",
        "        A=int(input())\n",
        "        A_list.append(A)\n",
        "\n",
        "        if len(A_list)==9:\n",
        "            break\n",
        "\n",
        "    except ValueError:\n",
        "        break\n",
        "\n",
        "C=max(A_list)\n",
        "\n",
        "print(C)\n",
        "print(A_list.index(C)+1)\n"
      ],
      "metadata": {
        "colab": {
          "base_uri": "https://localhost:8080/"
        },
        "id": "bS9TR1v8bEqJ",
        "outputId": "090debf0-14c5-405b-e2a1-8be0a6b6d850"
      },
      "execution_count": 55,
      "outputs": [
        {
          "output_type": "stream",
          "name": "stdout",
          "text": [
            "1\n",
            "2\n",
            "3\n",
            "4\n",
            "5\n",
            "6\n",
            "7\n",
            "8\n",
            "9\n",
            "9\n",
            "8\n"
          ]
        }
      ]
    },
    {
      "cell_type": "code",
      "source": [
        "A_list=[]\n",
        "\n",
        "while True:\n",
        "\n",
        "    A=int(input())\n",
        "    A_list.append(A)\n",
        "\n",
        "    if len(A_list)==9:\n",
        "        break\n",
        "\n",
        "    # except ValueError:\n",
        "    #     break\n",
        "\n",
        "C=max(A_list)\n",
        "\n",
        "print(C)\n",
        "print(A_list.index(C)+1)\n"
      ],
      "metadata": {
        "id": "lDqIoy_ulJ0C"
      },
      "execution_count": null,
      "outputs": []
    },
    {
      "cell_type": "code",
      "source": [
        "while True:\n",
        "    try:\n",
        "        A, B = map(int, input().split())\n",
        "        print(A+B)\n",
        "    except EOFError:\n",
        "        break\n",
        "\n",
        "#while 예외 처리 "
      ],
      "metadata": {
        "id": "m1DafBq4e-aH"
      },
      "execution_count": null,
      "outputs": []
    },
    {
      "cell_type": "code",
      "source": [
        "A1=int(input())\n",
        "A2=int(input())\n",
        "A3=int(input())\n",
        "A4=int(input())\n",
        "A5=int(input())\n",
        "A6=int(input())\n",
        "A7=int(input())\n",
        "A8=int(input())\n",
        "A9=int(input())\n",
        "\n",
        "B=[A1,A2,A3,A4,A5,A6,A7,A8,A9]\n",
        "C=max(B)\n",
        "\n",
        "\n",
        "print(C)\n",
        "print(B.index(C)+1)"
      ],
      "metadata": {
        "id": "0oeQobWXc2lP",
        "colab": {
          "base_uri": "https://localhost:8080/"
        },
        "outputId": "50bd82ed-d61e-4321-9119-cc1b3480c117"
      },
      "execution_count": 53,
      "outputs": [
        {
          "output_type": "stream",
          "name": "stdout",
          "text": [
            "1\n",
            "2\n",
            "3\n",
            "4\n",
            "5\n",
            "6\n",
            "7\n",
            "8\n",
            "9\n",
            "9\n",
            "9\n"
          ]
        }
      ]
    },
    {
      "cell_type": "code",
      "source": [
        "# 굳이 예외처리까지할 필요가 전혀없음\n",
        "A_list=[]\n",
        "while True:                     # while 일단 true 만들어\n",
        "    if len(A_list)==9:          #9가 되면 STOP!\n",
        "        break\n",
        "\n",
        "    else:                       #else에 내가 넣고 싶은거 넣으면 끝!\n",
        "        A=int(input())\n",
        "        A_list.append(A)\n",
        "\n",
        "\n",
        "B=max(A_list)\n",
        "\n",
        "print(B)\n",
        "print(A_list.index(B)+1)        #list값으로 인덱스 찾는 법\n",
        "                                # list_name.index(list_value)\n"
      ],
      "metadata": {
        "colab": {
          "base_uri": "https://localhost:8080/"
        },
        "id": "ojOyJxhyjnqD",
        "outputId": "74f946ba-6017-48be-8ea4-72cd7ac8d637"
      },
      "execution_count": 56,
      "outputs": [
        {
          "output_type": "stream",
          "name": "stdout",
          "text": [
            "1\n",
            "2\n",
            "3\n",
            "4\n",
            "5\n",
            "6\n",
            "7\n",
            "7\n",
            "8\n",
            "8\n",
            "8\n"
          ]
        }
      ]
    },
    {
      "cell_type": "markdown",
      "source": [
        "따로따로출력이면\n",
        "각각 한 줄 씩에 프린트하면 됨"
      ],
      "metadata": {
        "id": "EuQHYg3kqxMm"
      }
    },
    {
      "cell_type": "code",
      "source": [
        "attendance_all=[]\n",
        "for i in range(1,31):\n",
        "    attendance_all.append(i)\n",
        "\n",
        "#print(attendance_all)\n",
        "\n",
        "while True:\n",
        "    if len(attendance_all)==2:\n",
        "        break\n",
        "\n",
        "    else:\n",
        "        A=int(input())\n",
        "        attendance_all.remove(A)\n",
        "        \n",
        "print(min(attendance_all))\n",
        "print(max(attendance_all))\n",
        "\n"
      ],
      "metadata": {
        "colab": {
          "base_uri": "https://localhost:8080/"
        },
        "id": "HbSoF099j_J7",
        "outputId": "4cc5b9a7-7a46-438b-b135-466c2d5dd7cf"
      },
      "execution_count": 66,
      "outputs": [
        {
          "output_type": "stream",
          "name": "stdout",
          "text": [
            "[1, 2, 3, 4, 5, 6, 7, 8, 9, 10, 11, 12, 13, 14, 15, 16, 17, 18, 19, 20, 21, 22, 23, 24, 25, 26, 27, 28, 29, 30]\n",
            "1\n",
            "[2, 3, 4, 5, 6, 7, 8, 9, 10, 11, 12, 13, 14, 15, 16, 17, 18, 19, 20, 21, 22, 23, 24, 25, 26, 27, 28, 29, 30]\n",
            "2\n",
            "[3, 4, 5, 6, 7, 8, 9, 10, 11, 12, 13, 14, 15, 16, 17, 18, 19, 20, 21, 22, 23, 24, 25, 26, 27, 28, 29, 30]\n",
            "3\n",
            "[4, 5, 6, 7, 8, 9, 10, 11, 12, 13, 14, 15, 16, 17, 18, 19, 20, 21, 22, 23, 24, 25, 26, 27, 28, 29, 30]\n",
            "4\n",
            "[5, 6, 7, 8, 9, 10, 11, 12, 13, 14, 15, 16, 17, 18, 19, 20, 21, 22, 23, 24, 25, 26, 27, 28, 29, 30]\n",
            "5\n",
            "[6, 7, 8, 9, 10, 11, 12, 13, 14, 15, 16, 17, 18, 19, 20, 21, 22, 23, 24, 25, 26, 27, 28, 29, 30]\n",
            "6\n",
            "[7, 8, 9, 10, 11, 12, 13, 14, 15, 16, 17, 18, 19, 20, 21, 22, 23, 24, 25, 26, 27, 28, 29, 30]\n",
            "7\n",
            "[8, 9, 10, 11, 12, 13, 14, 15, 16, 17, 18, 19, 20, 21, 22, 23, 24, 25, 26, 27, 28, 29, 30]\n",
            "8\n",
            "[9, 10, 11, 12, 13, 14, 15, 16, 17, 18, 19, 20, 21, 22, 23, 24, 25, 26, 27, 28, 29, 30]\n",
            "9\n",
            "[10, 11, 12, 13, 14, 15, 16, 17, 18, 19, 20, 21, 22, 23, 24, 25, 26, 27, 28, 29, 30]\n",
            "10\n",
            "[11, 12, 13, 14, 15, 16, 17, 18, 19, 20, 21, 22, 23, 24, 25, 26, 27, 28, 29, 30]\n",
            "11\n",
            "[12, 13, 14, 15, 16, 17, 18, 19, 20, 21, 22, 23, 24, 25, 26, 27, 28, 29, 30]\n",
            "12\n",
            "[13, 14, 15, 16, 17, 18, 19, 20, 21, 22, 23, 24, 25, 26, 27, 28, 29, 30]\n",
            "13\n",
            "[14, 15, 16, 17, 18, 19, 20, 21, 22, 23, 24, 25, 26, 27, 28, 29, 30]\n",
            "14\n",
            "[15, 16, 17, 18, 19, 20, 21, 22, 23, 24, 25, 26, 27, 28, 29, 30]\n",
            "15\n",
            "[16, 17, 18, 19, 20, 21, 22, 23, 24, 25, 26, 27, 28, 29, 30]\n",
            "18\n",
            "[16, 17, 19, 20, 21, 22, 23, 24, 25, 26, 27, 28, 29, 30]\n",
            "19\n",
            "[16, 17, 20, 21, 22, 23, 24, 25, 26, 27, 28, 29, 30]\n",
            "20\n",
            "[16, 17, 21, 22, 23, 24, 25, 26, 27, 28, 29, 30]\n",
            "21\n",
            "[16, 17, 22, 23, 24, 25, 26, 27, 28, 29, 30]\n",
            "22\n",
            "[16, 17, 23, 24, 25, 26, 27, 28, 29, 30]\n",
            "23\n",
            "[16, 17, 24, 25, 26, 27, 28, 29, 30]\n",
            "24\n",
            "[16, 17, 25, 26, 27, 28, 29, 30]\n",
            "25\n",
            "[16, 17, 26, 27, 28, 29, 30]\n",
            "26\n",
            "[16, 17, 27, 28, 29, 30]\n",
            "27\n",
            "[16, 17, 28, 29, 30]\n",
            "28\n",
            "[16, 17, 29, 30]\n",
            "29\n",
            "[16, 17, 30]\n",
            "30\n",
            "[16, 17]\n",
            "[16, 17]\n"
          ]
        }
      ]
    },
    {
      "cell_type": "markdown",
      "source": [
        "# 재귀함수!"
      ],
      "metadata": {
        "id": "LhFB8xZU0j_g"
      }
    },
    {
      "cell_type": "code",
      "source": [
        "#사용자가 입력한 숫자의 각 자릿수를 출력하는 sum_of_digit\n",
        "\n",
        "def sum_of_digit(num):\n",
        "    number=str(num)\n",
        "    a=[]\n",
        "    for i in number:\n",
        "        a.append(int(i))\n",
        "\n",
        "    return sum(a)\n",
        "\n",
        "sum_of_digit(1234)\n",
        "\n",
        "\n",
        "#재귀로 할 생각을 못했네 ㄷㄷ"
      ],
      "metadata": {
        "colab": {
          "base_uri": "https://localhost:8080/"
        },
        "id": "9H0oFkbnnKdJ",
        "outputId": "f159475e-7d2d-4f4c-94c9-67bd376f2e60"
      },
      "execution_count": 68,
      "outputs": [
        {
          "output_type": "execute_result",
          "data": {
            "text/plain": [
              "10"
            ]
          },
          "metadata": {},
          "execution_count": 68
        }
      ]
    },
    {
      "cell_type": "code",
      "source": [
        "# 멈추기 위해서는 멈추는 조건이 필요\n",
        "# 조건을 맞추기 위해서 args바뀌어야 함\n",
        "#N~+...+0\n",
        "\n",
        "def func(n):\n",
        "    if n==0:\n",
        "        return #함수를 멈출 때는 return을 사용\n",
        "\n",
        "    print(n)\n",
        "    #args그냥 바뀌어야 함 -> 바꾸면 됨\n",
        "    func(n-1)\n",
        "\n",
        "func(1)\n"
      ],
      "metadata": {
        "colab": {
          "base_uri": "https://localhost:8080/"
        },
        "id": "9sKgdFRJra-2",
        "outputId": "61e676c4-8cf5-47f3-d345-dff224805eaf"
      },
      "execution_count": 70,
      "outputs": [
        {
          "output_type": "stream",
          "name": "stdout",
          "text": [
            "1\n"
          ]
        }
      ]
    },
    {
      "cell_type": "code",
      "source": [
        "#언제 멈추냐!\n",
        "# 1을 위한 args의 변화가 필요함\n",
        "#+a -> 나의 전 상태를 가지고 나의 상태를 설명한다.\n",
        "\n",
        "def func(n):\n",
        "    if n:\n",
        "        return n\n",
        "\n",
        "    return func(n-1) + n\n",
        "\n"
      ],
      "metadata": {
        "id": "Fp_RVBSItjtE"
      },
      "execution_count": 76,
      "outputs": []
    },
    {
      "cell_type": "code",
      "source": [
        "def func(number):\n",
        "    number=str(number)\n",
        "    if number=='':\n",
        "        return 0\n",
        "    return func(number[:-1])+int(number[-1]) # str일 때 return 하자\n",
        "\n",
        "func(1234)"
      ],
      "metadata": {
        "colab": {
          "base_uri": "https://localhost:8080/"
        },
        "id": "o7mLuiBawsea",
        "outputId": "a653a572-598b-4d2a-e67d-7a7ed796c695"
      },
      "execution_count": 80,
      "outputs": [
        {
          "output_type": "execute_result",
          "data": {
            "text/plain": [
              "10"
            ]
          },
          "metadata": {},
          "execution_count": 80
        }
      ]
    },
    {
      "cell_type": "code",
      "source": [
        "#int일 때 \n",
        "def func(number):\n",
        "\n",
        "    quotient=number//10\n",
        "    remainder=number%10\n",
        "\n",
        "    if quotient==0:\n",
        "        return remainder\n",
        "    return func(quotient)+int(remainder) # str일 때 return 하자\n",
        "\n",
        "func(1234)"
      ],
      "metadata": {
        "colab": {
          "base_uri": "https://localhost:8080/"
        },
        "id": "h6VFCWrUxrCC",
        "outputId": "8ccd79b5-7533-4ac5-89f7-a282d87c2917"
      },
      "execution_count": 84,
      "outputs": [
        {
          "output_type": "execute_result",
          "data": {
            "text/plain": [
              "10"
            ]
          },
          "metadata": {},
          "execution_count": 84
        }
      ]
    },
    {
      "cell_type": "code",
      "source": [
        "#재귀 함수\n",
        "#언젠가는 멈춰야 함\n",
        "#args가 멈추기 위해서는 조건이 숨어있어야 함 \n",
        "#return값을 사용하기 위해 같은 타입을 갖고 있어야 함\n",
        "# return의 function을 조합해서 사용한다"
      ],
      "metadata": {
        "id": "h-5IPXUwy08C"
      },
      "execution_count": null,
      "outputs": []
    },
    {
      "cell_type": "code",
      "source": [
        "# 문제\n",
        "# 두 자연수 A,B가 있을 때,\n",
        "#10개를 입력 받은 후 이를 42로 나눈 나머지를 구해라\n",
        "\n",
        "bronze_2=[]\n",
        "new_2=[]\n",
        "while True:\n",
        "    if len(bronze_2)==10:\n",
        "        break\n",
        "\n",
        "    else:\n",
        "        N=int(input())\n",
        "        bronze_2.append(N)\n",
        "\n",
        "\n",
        "for i in bronze_2:\n",
        "    M=i%42\n",
        "    new_2.append(M)\n",
        "\n",
        "    new_new_2=set(new_2)\n",
        "\n",
        "print(len(new_new_2))\n",
        "\n",
        "\n",
        "\n"
      ],
      "metadata": {
        "colab": {
          "base_uri": "https://localhost:8080/"
        },
        "id": "rkpdhHVc1GSg",
        "outputId": "14b19566-4e25-49ee-82d0-17653789a7f5"
      },
      "execution_count": 86,
      "outputs": [
        {
          "output_type": "stream",
          "name": "stdout",
          "text": [
            "1\n",
            "2\n",
            "3\n",
            "4\n",
            "5\n",
            "5\n"
          ]
        }
      ]
    },
    {
      "cell_type": "code",
      "source": [
        "# 첫재쭐 새로운 평균 -> 절대오차 또는 상대오차가 10-2 이하면 정답\n",
        "\n",
        "num_subject=int(input())\n",
        "subjects=list(map(int,input().split()))\n",
        "New_sub_list=[]\n",
        "\n",
        "for i in subjects:\n",
        "    New_subject=i/70*100\n",
        "    New_sub_list.append(New_subject)\n",
        "\n",
        "#리스트에서 new 과목 점수로 나눴음 -> 새로운 리스트에 넣었음\n",
        "# 다음 작업은 내일!!!\n",
        "\n",
        "\n"
      ],
      "metadata": {
        "colab": {
          "base_uri": "https://localhost:8080/"
        },
        "id": "E1hrBDXn2G9x",
        "outputId": "84235ebf-9d5d-43f1-eb2a-6107502b75b9"
      },
      "execution_count": 87,
      "outputs": [
        {
          "name": "stdout",
          "output_type": "stream",
          "text": [
            "3\n",
            "40 50 60\n"
          ]
        }
      ]
    },
    {
      "cell_type": "code",
      "source": [],
      "metadata": {
        "id": "QtQeyKhR4BOO"
      },
      "execution_count": null,
      "outputs": []
    }
  ]
}