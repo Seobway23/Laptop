{
  "nbformat": 4,
  "nbformat_minor": 0,
  "metadata": {
    "colab": {
      "provenance": [],
      "authorship_tag": "ABX9TyM0+k4Ri5OKwF37U7Nbx6SV",
      "include_colab_link": true
    },
    "kernelspec": {
      "name": "python3",
      "display_name": "Python 3"
    },
    "language_info": {
      "name": "python"
    }
  },
  "cells": [
    {
      "cell_type": "markdown",
      "metadata": {
        "id": "view-in-github",
        "colab_type": "text"
      },
      "source": [
        "<a href=\"https://colab.research.google.com/github/Seobway23/Laptop/blob/master/01_31baekjoon.ipynb\" target=\"_parent\"><img src=\"https://colab.research.google.com/assets/colab-badge.svg\" alt=\"Open In Colab\"/></a>"
      ]
    },
    {
      "cell_type": "code",
      "execution_count": null,
      "metadata": {
        "colab": {
          "base_uri": "https://localhost:8080/"
        },
        "id": "rwUAMN7v7lVV",
        "outputId": "4adb2fc2-5e1f-4f23-c9e2-ca218a0de3d6"
      },
      "outputs": [
        {
          "output_type": "stream",
          "name": "stdout",
          "text": [
            "1\n",
            "OOXXOXXOOO\n",
            "6\n"
          ]
        }
      ],
      "source": [
        "# 8958 OX퀴즈\n",
        "\n",
        "#1try -> 0가 연속일 때 구현못함.\n",
        "O_X_list=[]\n",
        "\n",
        "#1 input 받아서 O_X_list 만들기\n",
        "N=int(input())#test case 개수\n",
        "for i in range(1,N+1):\n",
        "    O_X=input()\n",
        "    O_X_list.append(O_X)\n",
        "\n",
        "#2 리스트 안에서 하나씩 꺼내서 점수 매기기\n",
        "for i in O_X_list:\n",
        "    count_OX=0\n",
        "    OX=list(i)\n",
        "    #print(OX)\n",
        "    for i in OX:\n",
        "        #print(i)\n",
        "        if i =='O':\n",
        "            count_OX+=1\n",
        "\n",
        "        #elif pass:  #만약 다음 것도 O가 연속이라면 O의 개수만큼 점수를 추가해라\n",
        "\n",
        "    print(count_OX)\n",
        "            \n",
        "\n"
      ]
    },
    {
      "cell_type": "markdown",
      "source": [
        "2중 트랩을 쓴 것 같은 느낌\n",
        "score를 통해 O와 X를 1차 판별\n",
        "그리고 O일 때 main-> sum_score 저장 -> 또나오면 1추가\n",
        "\n",
        "X가 나올 때 할당하지 않고 score는 0으로 마무리"
      ],
      "metadata": {
        "id": "stiUzSOzKQhR"
      }
    },
    {
      "cell_type": "code",
      "source": [
        "# 8958번 OX 퀴즈\n",
        "#2try \n",
        "# https://ooyoung.tistory.com/61 참고함\n",
        "\n",
        "\n",
        "\n",
        "N=int(input())\n",
        "#for 밖에다가 변수를 만들면 안됨 -> 글로벌이기 때문에  다음 리스트의 갯수에 영향을 끼침\n",
        "\n",
        "\n",
        "for i in range(N): #i 대신 _(언더바)써도 됨 i사용 안하고 반복된다는 뜻 \n",
        "    OX_list=list(input()) #input을 list()로 바로 리스트화시킬 수 있음\n",
        "    #for 안에서 돌아갈 수 있도록 해야하기 때문에 변수를 for 안에서 설정\n",
        "    cnt_ox=0\n",
        "    sum_cnt_ox=0\n",
        "    for ox in OX_list:\n",
        "        if ox =='O':\n",
        "            cnt_ox+=1\n",
        "            sum_cnt_ox+=cnt_ox\n",
        "\n",
        "        else:\n",
        "            cnt_ox=0\n",
        "    print(sum_cnt_ox)\n",
        "\n",
        "\n",
        "        "
      ],
      "metadata": {
        "id": "MXbco5PtI8IT",
        "colab": {
          "base_uri": "https://localhost:8080/"
        },
        "outputId": "6ed05776-0357-467b-e62d-468a132f3d0b"
      },
      "execution_count": 1,
      "outputs": [
        {
          "output_type": "stream",
          "name": "stdout",
          "text": [
            "1\n",
            "OOXXOXXOOO\n",
            "10\n"
          ]
        }
      ]
    },
    {
      "cell_type": "code",
      "source": [],
      "metadata": {
        "id": "kq2nuFytqdyN"
      },
      "execution_count": null,
      "outputs": []
    },
    {
      "cell_type": "code",
      "source": [],
      "metadata": {
        "id": "zkfYmr-fr2fE"
      },
      "execution_count": null,
      "outputs": []
    }
  ]
}