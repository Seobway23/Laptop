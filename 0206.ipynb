{
  "nbformat": 4,
  "nbformat_minor": 0,
  "metadata": {
    "colab": {
      "provenance": [],
      "authorship_tag": "ABX9TyPXF2ongDnuTOLjX2Ps2yFw",
      "include_colab_link": true
    },
    "kernelspec": {
      "name": "python3",
      "display_name": "Python 3"
    },
    "language_info": {
      "name": "python"
    }
  },
  "cells": [
    {
      "cell_type": "markdown",
      "metadata": {
        "id": "view-in-github",
        "colab_type": "text"
      },
      "source": [
        "<a href=\"https://colab.research.google.com/github/Seobway23/Laptop/blob/master/0206.ipynb\" target=\"_parent\"><img src=\"https://colab.research.google.com/assets/colab-badge.svg\" alt=\"Open In Colab\"/></a>"
      ]
    },
    {
      "cell_type": "code",
      "execution_count": 1,
      "metadata": {
        "id": "TjsOcRwK0AxZ"
      },
      "outputs": [],
      "source": [
        "#getter method and setter method\n",
        "\n",
        "class Person:\n",
        "\n",
        "    def __init__(self,age):\n",
        "        self._age=age\n",
        "\n",
        "    @property  #getter method -> 변수 값을 읽는 메서드\n",
        "    def age(self):\n",
        "        return self._age\n",
        " \n",
        "    @age.setter #setter method -> 변수 값을 설정하는 메서드 if 문\n",
        "    def age(self, new_age):\n",
        "        if new_age<=19:\n",
        "            raise ValueError('Too Young For SSAFY')\n",
        "            return\n",
        "\n",
        "        self._age=new_age\n",
        "\n",
        "    "
      ]
    },
    {
      "cell_type": "markdown",
      "source": [
        "1. Getter, Setter\n",
        "getter -> 변수값 읽는 메서드\n",
        "public , protected, private  _ 개수로 판별\n",
        "\n",
        "setter -> 변수 값 설정하는 메서드\n",
        "raise \n",
        "\n",
        "2. 예외처리 \n",
        "except의 경우\n",
        "except IndexError as err:\n",
        "복수의 경우 \n",
        "except (ValueError, ZerodivisionError):\n",
        "\n",
        "3. OOP 문법\n",
        "class MyClass: #클래스 정의\n",
        "my_instance=MyClass() # 인스턴스 형성\n"
      ],
      "metadata": {
        "id": "f1UGiDQs3oXK"
      }
    },
    {
      "cell_type": "code",
      "source": [
        "TA_area=lambda b,h:0.5*b*h"
      ],
      "metadata": {
        "id": "yVEa7zyW0ceE"
      },
      "execution_count": 2,
      "outputs": []
    },
    {
      "cell_type": "code",
      "source": [
        "print(TA_area(5,6))"
      ],
      "metadata": {
        "colab": {
          "base_uri": "https://localhost:8080/"
        },
        "id": "g0Ayy7Dp7iBx",
        "outputId": "ac0ff770-5ac5-44e5-f31f-ead7c2b58f32"
      },
      "execution_count": 5,
      "outputs": [
        {
          "output_type": "stream",
          "name": "stdout",
          "text": [
            "15.0\n"
          ]
        }
      ]
    },
    {
      "cell_type": "code",
      "source": [
        "# 재귀 함수\n",
        "\n",
        "def factorial(n):\n",
        "    if n==0 or n==1:\n",
        "        return 1\n",
        "    else:\n",
        "    \n",
        "        return n*factorial(n-1)\n",
        "\n",
        "print(factorial(4))"
      ],
      "metadata": {
        "colab": {
          "base_uri": "https://localhost:8080/"
        },
        "id": "HS4csWNu7sw_",
        "outputId": "e8a1be30-3b8c-4839-e01e-64ea1db3255d"
      },
      "execution_count": 9,
      "outputs": [
        {
          "output_type": "stream",
          "name": "stdout",
          "text": [
            "24\n"
          ]
        }
      ]
    },
    {
      "cell_type": "code",
      "source": [],
      "metadata": {
        "id": "qK8FQp_U76dv"
      },
      "execution_count": null,
      "outputs": []
    }
  ]
}