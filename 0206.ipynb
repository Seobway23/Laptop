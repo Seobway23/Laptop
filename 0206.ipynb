{
  "nbformat": 4,
  "nbformat_minor": 0,
  "metadata": {
    "colab": {
      "provenance": [],
      "authorship_tag": "ABX9TyMAWpD849lbMMP+NMKTYU2Z",
      "include_colab_link": true
    },
    "kernelspec": {
      "name": "python3",
      "display_name": "Python 3"
    },
    "language_info": {
      "name": "python"
    }
  },
  "cells": [
    {
      "cell_type": "markdown",
      "metadata": {
        "id": "view-in-github",
        "colab_type": "text"
      },
      "source": [
        "<a href=\"https://colab.research.google.com/github/Seobway23/Laptop/blob/master/0206.ipynb\" target=\"_parent\"><img src=\"https://colab.research.google.com/assets/colab-badge.svg\" alt=\"Open In Colab\"/></a>"
      ]
    },
    {
      "cell_type": "code",
      "execution_count": null,
      "metadata": {
        "id": "TjsOcRwK0AxZ"
      },
      "outputs": [],
      "source": [
        "#getter method and setter method\n",
        "\n",
        "class Person:\n",
        "\n",
        "    def __init__(self,age):\n",
        "        self._age=age\n",
        "\n",
        "    @property  #getter method -> 변수 값을 읽는 메서드\n",
        "    def age(self):\n",
        "        return self._age\n",
        " \n",
        "    @age.setter #setter method -> 변수 값을 설정하는 메서드 if 문\n",
        "    def age(self, new_age):\n",
        "        if new_age<=19:\n",
        "            raise ValueError('Too Young For SSAFY')\n",
        "            return\n",
        "\n",
        "        self._age=new_age\n",
        "\n",
        "    "
      ]
    },
    {
      "cell_type": "markdown",
      "source": [
        "1. Getter, Setter\n",
        "getter -> 변수값 읽는 메서드\n",
        "public , protected, private  _ 개수로 판별\n",
        "\n",
        "setter -> 변수 값 설정하는 메서드\n",
        "raise \n",
        "\n",
        "2. 예외처리 \n",
        "except의 경우\n",
        "except IndexError as err:\n",
        "복수의 경우 \n",
        "except (ValueError, ZerodivisionError):\n",
        "\n",
        "3. OOP 문법\n",
        "class MyClass: #클래스 정의\n",
        "my_instance=MyClass() # 인스턴스 형성\n"
      ],
      "metadata": {
        "id": "f1UGiDQs3oXK"
      }
    },
    {
      "cell_type": "code",
      "source": [
        "TA_area=lambda b,h:0.5*b*h"
      ],
      "metadata": {
        "id": "yVEa7zyW0ceE"
      },
      "execution_count": null,
      "outputs": []
    },
    {
      "cell_type": "code",
      "source": [
        "print(TA_area(5,6))"
      ],
      "metadata": {
        "colab": {
          "base_uri": "https://localhost:8080/"
        },
        "id": "g0Ayy7Dp7iBx",
        "outputId": "ac0ff770-5ac5-44e5-f31f-ead7c2b58f32"
      },
      "execution_count": null,
      "outputs": [
        {
          "output_type": "stream",
          "name": "stdout",
          "text": [
            "15.0\n"
          ]
        }
      ]
    },
    {
      "cell_type": "code",
      "source": [
        "# 재귀 함수\n",
        "\n",
        "def factorial(n):\n",
        "    if n==0 or n==1:\n",
        "        return 1\n",
        "    else:\n",
        "\n",
        "        return n*factorial(n-1)\n",
        "\n",
        "print(factorial(4))"
      ],
      "metadata": {
        "colab": {
          "base_uri": "https://localhost:8080/"
        },
        "id": "HS4csWNu7sw_",
        "outputId": "e8a1be30-3b8c-4839-e01e-64ea1db3255d"
      },
      "execution_count": null,
      "outputs": [
        {
          "output_type": "stream",
          "name": "stdout",
          "text": [
            "24\n"
          ]
        }
      ]
    },
    {
      "cell_type": "code",
      "source": [
        "#튜플 자료형\n",
        "tuple_a=(1) #이거의 경우 int로 나온다.\n",
        "\n",
        "(1,2)*2 #이 값은 (1,2,1,2)가 된다. 리스트형이라 인덱스는 유지되는 듯 하다"
      ],
      "metadata": {
        "id": "qK8FQp_U76dv"
      },
      "execution_count": 8,
      "outputs": []
    },
    {
      "cell_type": "code",
      "source": [
        "N=3\n",
        "arr=[list(map(int,input().split())) for _ in range(N)]"
      ],
      "metadata": {
        "colab": {
          "base_uri": "https://localhost:8080/"
        },
        "id": "xxjXhU-xQgyq",
        "outputId": "82e635c7-8ca4-4371-f33c-914a618250d0"
      },
      "execution_count": 2,
      "outputs": [
        {
          "name": "stdout",
          "output_type": "stream",
          "text": [
            "1 2 3\n",
            "4 5 6\n",
            "7 8 9\n"
          ]
        }
      ]
    },
    {
      "cell_type": "code",
      "source": [
        "#델타검색\n",
        "\n",
        "T=int(input())\n",
        "for test_case in range(1,T+1):\n",
        "    N=int(input())\n",
        "    arr=[list(map(int,input().split())) for _ in range(N)]\n",
        "\n",
        "    di=[1,0,-1,0]\n",
        "    dj=[0,-1,0,1]\n",
        "    ans=0\n",
        "\n",
        "    for i in range(N):\n",
        "        for j in range(N):\n",
        "            Sub_s = 0\n",
        "            for k in range(4): # = for di, dj in ((-1,0),(0,-1),(-1,0),(0,1))\n",
        "                if N>i+di[k]>=0 and N>j+dj[k]>=0:\n",
        "                    Sub_s+=abs(arr[i+di[k]][j+dj[k]]-arr[i][j])\n",
        "\n",
        "            #print(Sub_s, 'k',k,'j',j,'i',i)\n",
        "\n",
        "            ans+=Sub_s\n",
        "\n",
        "\n",
        "    print(f\"#{test_case} {ans}\")\n"
      ],
      "metadata": {
        "id": "gVyKaYsC7JcQ"
      },
      "execution_count": null,
      "outputs": []
    },
    {
      "cell_type": "code",
      "source": [
        "\n",
        "T=int(input())\n",
        "\n",
        "for test_case in range(1,T+1):\n",
        "    zero_cnt = 0\n",
        "    arr=list(map(int,input().split()))\n",
        "    n=len(arr)\n",
        "\n",
        "    for i in range(1,1<<n): #1<<n : 부분 집합의 개수, 공집합 제외\n",
        "        sub_set=0\n",
        "        for j in range(1,n):\n",
        "            if i &(1<<j) : #i의 j번 비트가 1인 경우\n",
        "                sub_set+=arr[j]\n",
        "\n",
        "#이게 문제가 뭐냐면 첫번째에 0으로 설정해놔서 sub_set이 처음에 0이니까 카운트가 무조건 됨\n",
        "#-> 공집합 제외 for문 i 설정할 때 1부터하면 해결 간으\n",
        "        if sub_set==0:\n",
        "            zero_cnt=1\n",
        "            #print(zero_cnt,'i',i,'j',j, sub_set)\n",
        "\n",
        "\n",
        "\n",
        "    print(f\"#{test_case} {zero_cnt}\")\n"
      ],
      "metadata": {
        "id": "jO5XJ7B_az5s"
      },
      "execution_count": null,
      "outputs": []
    },
    {
      "cell_type": "code",
      "source": [
        "#색칠하기 제출용 \n",
        "\n",
        "T=int(input())\n",
        "\n",
        "for test_case in range(1,T+1):\n",
        "    print(test_case)\n",
        "    bd = [[0] * 10 for _ in range(10)]\n",
        "    N=int(input())\n",
        "    ans=0\n",
        "    #같은 색끼리는 겹치지 않는다.\n",
        "    for i in range(1, N+1):\n",
        "        x1,y1,x2,y2,color=map(int,input().split())\n",
        "        for x in range(x1,x2+1):\n",
        "\n",
        "            for y in range(y1,y2+1):\n",
        "                if bd[x][y]!=color:\n",
        "                    bd[x][y]+=color\n",
        "                    #print(color)\n",
        "\n",
        "    for id in range(len(bd)):\n",
        "        for jd in range(len(bd)):\n",
        "            if bd[id][jd]==3:\n",
        "                ans+=1\n",
        "\n",
        "\n",
        "    print(f\"#{test_case} {ans}\")"
      ],
      "metadata": {
        "id": "XWLTQepef1zQ"
      },
      "execution_count": null,
      "outputs": []
    },
    {
      "cell_type": "code",
      "source": [
        "#부분 집합의 합\n",
        "\n",
        "T=int(input())\n",
        "\n",
        "A=[]\n",
        "for i in range(1,12+1):\n",
        "    A.append(i)\n",
        "\n",
        "for test_case in range(1,T+1):\n",
        "    N, K = map(int,input().split()) #N=원소의 갯수, K=합\n",
        "    cnt = 0\n",
        "\n",
        "    for i in range(1<<len(A)):\n",
        "        n_find = 0\n",
        "        k_find = 0\n",
        "        for j in range(len(A)):\n",
        "            if i & (1<<j):\n",
        "                n_find += 1\n",
        "                k_find += A[j]\n",
        "\n",
        "            if N==n_find and K==k_find:\n",
        "                cnt=1\n",
        "                #print(cnt)\n",
        "                break\n",
        "\n",
        "\n",
        "    print(f\"#{test_case} {cnt}\")\n",
        "\n",
        "\n",
        "\n"
      ],
      "metadata": {
        "id": "OXT1rrVyj8WW"
      },
      "execution_count": null,
      "outputs": []
    },
    {
      "cell_type": "code",
      "source": [
        "A=list(range(1,13))"
      ],
      "metadata": {
        "id": "mVgKa-qfwoNV"
      },
      "execution_count": 8,
      "outputs": []
    },
    {
      "cell_type": "code",
      "source": [
        "A[11]"
      ],
      "metadata": {
        "colab": {
          "base_uri": "https://localhost:8080/"
        },
        "id": "fizy36aOwo6u",
        "outputId": "88d85a13-6e25-463b-f1db-4926852b42f0"
      },
      "execution_count": 10,
      "outputs": [
        {
          "output_type": "execute_result",
          "data": {
            "text/plain": [
              "12"
            ]
          },
          "metadata": {},
          "execution_count": 10
        }
      ]
    },
    {
      "cell_type": "code",
      "source": [
        "T=int(input())\n",
        "#lst=[n for n in range(1,13)]\n",
        "\n",
        "for test_case in range(1,T+1):\n",
        "    A = list(range(1, 13))\n",
        "    N, K=map(int,input().split())\n",
        "    ans=0\n",
        "\n",
        "    for i in range(1<<12): # 12비트로 만들 수 있는 모든 조합\n",
        "        N_lst = K_lst= 0\n",
        "        for j in range(12):     #0이 아니면\n",
        "            if i & (1<<j):\n",
        "                N_lst += 1\n",
        "                K_lst += A[j]\n",
        "\n",
        "        if N == N_lst and  K==K_lst: #정답인 경우의 수\n",
        "            ans+=1\n",
        "\n",
        "    print(f\"#{test_case} {ans}\")\n"
      ],
      "metadata": {
        "id": "K70skZ-jwqIt"
      },
      "execution_count": null,
      "outputs": []
    },
    {
      "cell_type": "code",
      "source": [
        "T = int(input())\n",
        "for test_case in range(1, T + 1):\n",
        "    N, K = map(int, input().split())\n",
        "    lst = [n for n in range(1, 13)]     # 1~12 lst 생성\n",
        "    ans = 0\n",
        " \n",
        "    for bit in range(1<<12):    # 12비트(개의 원소)로 만들수 있는 모든조합\n",
        "        sm = cnt = 0\n",
        "        for j in range(12):\n",
        "            if bit&(1<<j):      # 해당 자리 원소 사용\n",
        "                sm += lst[j]\n",
        "                cnt += 1\n",
        "        if sm==K and cnt==N:    # N개 원소로 합이 K\n",
        "            ans += 1\n",
        " \n",
        "    print(f'#{test_case} {ans}')"
      ],
      "metadata": {
        "id": "2GTmmQuN3wRR"
      },
      "execution_count": null,
      "outputs": []
    },
    {
      "cell_type": "code",
      "source": [
        "T=int(input())\n",
        "\n",
        "for test_case in range(1,T+1):\n",
        "    A=list(range(1,13))\n",
        "    N, K = map(int,input().split()) #N=원소의 갯수, K=합\n",
        "    cnt = 0\n",
        "    \n",
        "    for i in range(1<<len(A)):\n",
        "        n_find = k_find=0\n",
        "\n",
        "        for j in range(len(A)):\n",
        "            if i & (1<<j):\n",
        "                n_find += 1\n",
        "                k_find += A[j]\n",
        "\n",
        "#들여쓰기 ㅡㅡ\n",
        "#들여쓰기 잘못해서 Fail 3번남 ㅜㅜ\n",
        "\n",
        "        if N==n_find and K==k_find:\n",
        "            cnt+=1\n",
        "\n",
        "    print(f\"#{test_case} {cnt}\")"
      ],
      "metadata": {
        "id": "FEFmnojl5fYA"
      },
      "execution_count": null,
      "outputs": []
    }
  ]
}