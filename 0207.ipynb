{
  "nbformat": 4,
  "nbformat_minor": 0,
  "metadata": {
    "colab": {
      "provenance": [],
      "authorship_tag": "ABX9TyMp6aQR6j51xvlQfUpOJ2W3",
      "include_colab_link": true
    },
    "kernelspec": {
      "name": "python3",
      "display_name": "Python 3"
    },
    "language_info": {
      "name": "python"
    }
  },
  "cells": [
    {
      "cell_type": "markdown",
      "metadata": {
        "id": "view-in-github",
        "colab_type": "text"
      },
      "source": [
        "<a href=\"https://colab.research.google.com/github/Seobway23/Laptop/blob/master/0207.ipynb\" target=\"_parent\"><img src=\"https://colab.research.google.com/assets/colab-badge.svg\" alt=\"Open In Colab\"/></a>"
      ]
    },
    {
      "cell_type": "code",
      "execution_count": null,
      "metadata": {
        "id": "8S_INH1s4psU"
      },
      "outputs": [],
      "source": [
        "T=int(input())\n",
        "\n",
        "for test_case in range(1,T+1):\n",
        "    arr=[list(range(100)) for i in range(100+1)] : #100X100 행렬\n",
        "    N=[list(map(int, input().split())) for i in range(100)]\n",
        "    ans=0\n",
        "    sh=sv=sm=sp=0\n",
        "    for i in range(100):\n",
        "        for j in range(100):            \n",
        "             #가로 세로 방향\n",
        "             sh+=N[i][j]\n",
        "             sv+=N[j][i]\n",
        "             #대각선 오른쪽 아래 방향\n",
        "             if i==j:\n",
        "                 sm+=N[i][j]\n",
        "\n",
        "            #대각선 오른쪽 위 방향\n",
        "            x1=(100-1)-i\n",
        "            y1=i\n",
        "            sp+=N[x1][y1]\n",
        "\n",
        "\n",
        "\n",
        "        if sh>ans:\n",
        "            sh=ans\n",
        "\n",
        "        if sv>ans:\n",
        "            sv=ans\n",
        "                    \n",
        "        if sm>ans:\n",
        "            ans=sm\n",
        "\n",
        "        if sp>ans:\n",
        "            ans=sp\n",
        "\n",
        "    print(f\"#{test_case} {ans}\")\n",
        "\n",
        "    \n",
        "                \n",
        "\n",
        "\n",
        "\n",
        "\n",
        "\n",
        "    \n"
      ]
    },
    {
      "cell_type": "code",
      "source": [
        "#이진 검색\n",
        "\n",
        "T=int(input())\n",
        "\n",
        "for test_case in range(1,T+1):\n",
        "    N , key= map(int,input().split())\n",
        "    lst = list(map(int,input().split()))\n",
        "    start=0\n",
        "    end=N-1\n",
        "    ans=0\n",
        "\n",
        "    while start <= end:\n",
        "        middle = (start + end)//2\n",
        "        if lst[middle] == key:\n",
        "            ans=1\n",
        "            ans += middle\n",
        "            break\n",
        "\n",
        "        elif lst[middle] >key:\n",
        "            end = middle -1\n",
        "        else:\n",
        "            start = middle +1\n",
        "\n",
        "\n",
        "    print(f\"#{test_case} {ans}\")"
      ],
      "metadata": {
        "id": "yNgDu7DeNeHg"
      },
      "execution_count": null,
      "outputs": []
    },
    {
      "cell_type": "code",
      "source": [
        "A=[5,6,7,8,9,2,1,5,3,4]\n",
        "N=len(A)\n",
        "for i in range(N):\n",
        "    for j in range(i+1,N):\n",
        "        if A[i]>A[j]:\n",
        "            A[i],A[j]=A[j],A[i]\n",
        "\n",
        "\n",
        "print(A)"
      ],
      "metadata": {
        "colab": {
          "base_uri": "https://localhost:8080/"
        },
        "id": "b6f35l9zNhF4",
        "outputId": "dbd4b219-a449-4f8c-aacb-18861b2858a6"
      },
      "execution_count": 3,
      "outputs": [
        {
          "output_type": "stream",
          "name": "stdout",
          "text": [
            "[1, 2, 3, 4, 5, 5, 6, 7, 8, 9]\n"
          ]
        }
      ]
    },
    {
      "cell_type": "code",
      "source": [
        "print(3 and 5)"
      ],
      "metadata": {
        "colab": {
          "base_uri": "https://localhost:8080/"
        },
        "id": "ud9fZw8wNtwq",
        "outputId": "f7a448c3-fb10-490f-fd6c-c7feb06cd3c0"
      },
      "execution_count": 7,
      "outputs": [
        {
          "output_type": "stream",
          "name": "stdout",
          "text": [
            "5\n"
          ]
        }
      ]
    },
    {
      "cell_type": "code",
      "source": [
        "key=2\n",
        "arr=[5,4,3,2,1]\n",
        "N=len(arr) # N=5\n",
        "for i in range(N):\n",
        "    if arr[i]==key:\n",
        "        print(f\"arr의 {i}인덱스에서 키 값{N}를(을) 찾았습니다.\")"
      ],
      "metadata": {
        "colab": {
          "base_uri": "https://localhost:8080/"
        },
        "id": "fky4C-ijPtHX",
        "outputId": "550928e4-5b2b-4af6-f39f-db95ded20e7b"
      },
      "execution_count": 13,
      "outputs": [
        {
          "output_type": "stream",
          "name": "stdout",
          "text": [
            "arr의 3인덱스에서 키 값5를(을) 찾았습니다.\n"
          ]
        }
      ]
    },
    {
      "cell_type": "code",
      "source": [
        "N=len(arr) # N=5\n",
        "key=0\n",
        "for i in range(N):\n",
        "    if arr[i]==key:\n",
        "        print(f\"arr의 {i}인덱스에서 키 값{key}을 찾았습니다.\")\n",
        "\n",
        "    elif arr[i]>key:\n",
        "        print(\"키 값이 없습니다. \")\n",
        "        break"
      ],
      "metadata": {
        "colab": {
          "base_uri": "https://localhost:8080/"
        },
        "id": "m9sgCHcKR6S9",
        "outputId": "c4648bfc-3b0b-45b2-c61f-072ab4033a75"
      },
      "execution_count": 16,
      "outputs": [
        {
          "output_type": "stream",
          "name": "stdout",
          "text": [
            "키 값이 없습니다. \n"
          ]
        }
      ]
    },
    {
      "cell_type": "code",
      "source": [
        "\n",
        "        "
      ],
      "metadata": {
        "colab": {
          "base_uri": "https://localhost:8080/",
          "height": 321
        },
        "id": "gL0qHgjYSxgF",
        "outputId": "171250a2-2a48-4e22-ff60-2c8b980b0d43"
      },
      "execution_count": 101,
      "outputs": [
        {
          "output_type": "stream",
          "name": "stdout",
          "text": [
            "[[0, 0, 0], [0, 0, 0], [0, 0, 0]]\n",
            "[[0, 1, 0], [0, 0, 0], [0, 0, 0]]\n",
            "[[0, 1, 0], [0, 0, 0], [0, 0, 0]]\n",
            "[[0, 1, 0], [0, 2, 0], [0, 0, 0]]\n"
          ]
        },
        {
          "output_type": "error",
          "ename": "IndexError",
          "evalue": "ignored",
          "traceback": [
            "\u001b[0;31m---------------------------------------------------------------------------\u001b[0m",
            "\u001b[0;31mIndexError\u001b[0m                                Traceback (most recent call last)",
            "\u001b[0;32m<ipython-input-101-95ffb46bb6d0>\u001b[0m in \u001b[0;36m<module>\u001b[0;34m\u001b[0m\n\u001b[1;32m     13\u001b[0m     \u001b[0;32mfor\u001b[0m \u001b[0mk\u001b[0m \u001b[0;32min\u001b[0m \u001b[0mrange\u001b[0m\u001b[0;34m(\u001b[0m\u001b[0mi\u001b[0m\u001b[0;34m,\u001b[0m\u001b[0mN\u001b[0m\u001b[0;34m-\u001b[0m\u001b[0;36m1\u001b[0m\u001b[0;34m)\u001b[0m\u001b[0;34m:\u001b[0m\u001b[0;34m\u001b[0m\u001b[0;34m\u001b[0m\u001b[0m\n\u001b[1;32m     14\u001b[0m         \u001b[0;32mif\u001b[0m \u001b[0mN\u001b[0m\u001b[0;34m-\u001b[0m\u001b[0;36m1\u001b[0m\u001b[0;34m+\u001b[0m\u001b[0mi\u001b[0m\u001b[0;34m==\u001b[0m\u001b[0mN\u001b[0m\u001b[0;34m:\u001b[0m\u001b[0;34m\u001b[0m\u001b[0;34m\u001b[0m\u001b[0m\n\u001b[0;32m---> 15\u001b[0;31m             \u001b[0mA\u001b[0m\u001b[0;34m[\u001b[0m\u001b[0mk\u001b[0m\u001b[0;34m+\u001b[0m\u001b[0mi\u001b[0m\u001b[0;34m+\u001b[0m\u001b[0;36m1\u001b[0m\u001b[0;34m]\u001b[0m\u001b[0;34m[\u001b[0m\u001b[0mN\u001b[0m\u001b[0;34m-\u001b[0m\u001b[0;36m1\u001b[0m\u001b[0;34m-\u001b[0m\u001b[0mi\u001b[0m\u001b[0;34m]\u001b[0m\u001b[0;34m+=\u001b[0m\u001b[0mans\u001b[0m\u001b[0;34m\u001b[0m\u001b[0;34m\u001b[0m\u001b[0m\n\u001b[0m\u001b[1;32m     16\u001b[0m             \u001b[0mans\u001b[0m\u001b[0;34m+=\u001b[0m\u001b[0;36m1\u001b[0m\u001b[0;34m\u001b[0m\u001b[0;34m\u001b[0m\u001b[0m\n\u001b[1;32m     17\u001b[0m             \u001b[0mprint\u001b[0m\u001b[0;34m(\u001b[0m\u001b[0mA\u001b[0m\u001b[0;34m)\u001b[0m\u001b[0;34m\u001b[0m\u001b[0;34m\u001b[0m\u001b[0m\n",
            "\u001b[0;31mIndexError\u001b[0m: list index out of range"
          ]
        }
      ]
    },
    {
      "cell_type": "code",
      "source": [
        "## 달팽이 탐색\n",
        "\n",
        "T=int(input())\n",
        "\n",
        "for test_case in range(1,T+1):\n",
        "    N=int(input())\n",
        "    A=[[0]*N for _ in range(N)]\n",
        "    ans=0\n",
        "    i=0\n",
        "\n",
        "#while 문을 쓰면 i는 고정되기 때문에 i가 고정되고 있을 때 조건을 더 많이 잡는 문제들은 \n",
        "# 오히려  while문이 더 편하다.\n",
        "# 문제는 행 렬이 너무 헷갈려서 잘 모르겠다..\n",
        "    while ans<=N**2:\n",
        "\n",
        "        for y in range(i,N-i): #-> 방향\n",
        "            ans += 1\n",
        "            A[i][y]+=ans\n",
        "\n",
        "\n",
        "        if ans==N**2:\n",
        "            break\n",
        "\n",
        "        for x in range(i+1,N-i): # 아래 방향\n",
        "            ans += 1\n",
        "            A[x][N-1-i]+=ans\n",
        "\n",
        "\n",
        "        if ans==N**2:\n",
        "            break\n",
        "\n",
        "        for y in range(N-2-i,i-1,-1): # <- 방향\n",
        "            ans += 1\n",
        "            A[N-1-i][y]+=ans\n",
        "\n",
        "        if ans==N**2:\n",
        "            break\n",
        "\n",
        "        for x in range(N-2-i,i,-1): # 위 방향\n",
        "            ans += 1\n",
        "            A[x][i]+=ans\n",
        "\n",
        "        if ans==N**2:\n",
        "            break\n",
        "\n",
        "        i+=1\n",
        "\n",
        "    print(f\"#{test_case}\")\n",
        "    for i in A:\n",
        "        print(*i)"
      ],
      "metadata": {
        "colab": {
          "base_uri": "https://localhost:8080/"
        },
        "id": "aujkYTJ9uiF8",
        "outputId": "09a0863e-8abc-45a3-b67f-b60324ff57ae"
      },
      "execution_count": 41,
      "outputs": [
        {
          "output_type": "execute_result",
          "data": {
            "text/plain": [
              "9"
            ]
          },
          "metadata": {},
          "execution_count": 41
        }
      ]
    },
    {
      "cell_type": "code",
      "source": [
        "#특별한 정렬\n",
        "# 홀수 오름 차순 / 짝수 내림 차순\n",
        "\n",
        "T=int(input())\n",
        "\n",
        "for test_case in range(1,T+1):\n",
        "    N=int(input())\n",
        "    lstm=list(map(int,input().split()))\n",
        "    lstp=list(lstm) # 리스트 새로 만들기\n",
        "\n",
        "\n",
        "    A=[0]*N\n",
        "\n",
        "    for i in range(N):\n",
        "        for j in range(i+1,N):\n",
        "            if lstp[j]<lstp[i]:\n",
        "                lstp[j],lstp[i]=lstp[i],lstp[j]\n",
        "\n",
        "    for k in range(N-1,-1,-1):\n",
        "        for l in range(k-1,-1,-1):\n",
        "            if lstm[l]<lstm[k]:\n",
        "                lstm[l],lstm[k]=lstm[k],lstm[l]\n",
        "\n",
        "\n",
        "    if N%2==0: # N이 짝수일 때\n",
        "        for i in range(N//2): # 짝수 내림차순\n",
        "            A[2*i]=lstm[i]\n",
        "\n",
        "        for j in range(N//2): # 홀수 오름차순\n",
        "            A[2*j+1]=lstp[j]\n",
        "        pass\n",
        "\n",
        "    if N%2==1:\n",
        "        for i in range(N//2+1): # 짝수 내림차순\n",
        "            A[2*i]=lstm[i]\n",
        "\n",
        "        for j in range(0, N//2): # 홀수 오름차순\n",
        "            A[2*j+1]=lstp[j]\n",
        "\n",
        "\n",
        "    print(f\"#{test_case}\", *A[:10])"
      ],
      "metadata": {
        "colab": {
          "base_uri": "https://localhost:8080/"
        },
        "id": "QaCR3_S9ye-J",
        "outputId": "9fa66ae0-114b-4806-e620-eeb60976f5ad"
      },
      "execution_count": 102,
      "outputs": [
        {
          "output_type": "stream",
          "name": "stdout",
          "text": [
            "[1, 2, 3, 4] [1, 2, 3, 4, 3]\n"
          ]
        }
      ]
    },
    {
      "cell_type": "code",
      "source": [
        "#이진 탐색 페이지 찾기\n",
        "# 관건은 middle=start=end라는 점\n",
        "\n",
        "import sys\n",
        "sys.stdin =open(\"input.txt\",\"r\")\n",
        "\n",
        "T=int(input())\n",
        "\n",
        "for test_case in range(1,T+1):\n",
        "    P,A,B=map(int,input().split())\n",
        "\n",
        "    def binary_search(P,A):\n",
        "        cnt=0\n",
        "        start=1\n",
        "        while start<=P:\n",
        "            middle=int((start+P)/2)\n",
        "\n",
        "            if middle==A:\n",
        "                return cnt\n",
        "            #시작이 middle에서 시작한다는 것을 제대로 못봄\n",
        "            if middle <A:\n",
        "                start=middle\n",
        "\n",
        "            if middle >A:\n",
        "                P=middle\n",
        "\n",
        "            cnt+=1\n",
        "\n",
        "\n",
        "        return -1\n",
        "\n",
        "    if binary_search(P,A)>binary_search(P,B):\n",
        "        print(f\"#{test_case} B\")\n",
        "\n",
        "    if binary_search(P, A) < binary_search(P, B):\n",
        "        print(f\"#{test_case} A\")\n",
        "\n",
        "    if binary_search(P,A)==binary_search(P,B):\n",
        "        print(f\"#{test_case} 0\")\n"
      ],
      "metadata": {
        "id": "fu2g2G19sD1M"
      },
      "execution_count": null,
      "outputs": []
    }
  ]
}