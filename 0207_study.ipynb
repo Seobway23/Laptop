{
  "nbformat": 4,
  "nbformat_minor": 0,
  "metadata": {
    "colab": {
      "provenance": [],
      "authorship_tag": "ABX9TyPqw3YXikeHI0+2Duc79Pio",
      "include_colab_link": true
    },
    "kernelspec": {
      "name": "python3",
      "display_name": "Python 3"
    },
    "language_info": {
      "name": "python"
    }
  },
  "cells": [
    {
      "cell_type": "markdown",
      "metadata": {
        "id": "view-in-github",
        "colab_type": "text"
      },
      "source": [
        "<a href=\"https://colab.research.google.com/github/Seobway23/Laptop/blob/master/0207_study.ipynb\" target=\"_parent\"><img src=\"https://colab.research.google.com/assets/colab-badge.svg\" alt=\"Open In Colab\"/></a>"
      ]
    },
    {
      "cell_type": "code",
      "source": [
        "# (key, value) 반환 : dict.items()\n",
        "dict_1 = {\"a\" : 3, \"b\" : 0, 1 : \"c\"}\n",
        "print(dict_1.items())\n",
        "print(list(dict_1.items())[1])"
      ],
      "metadata": {
        "id": "gl7ooQYGfVud"
      },
      "execution_count": null,
      "outputs": []
    },
    {
      "cell_type": "code",
      "execution_count": null,
      "metadata": {
        "id": "JIa6m_dFe_cp"
      },
      "outputs": [],
      "source": [
        "# 딕셔너리 만들기\n",
        "\n",
        "dict_keys = [1, \"z\", 10, (3, 5)]\n",
        "dict_values = [True, [], \"a\", (1, 2)]\n",
        "A={}\n",
        "\n",
        "for i in range(len(dict_keys)):\n",
        "    A[dict_keys[i]]=dict_values[i]\n",
        "\n",
        "    \n",
        "\n",
        "print(A)"
      ]
    },
    {
      "cell_type": "code",
      "source": [
        "#원하는 밸류 출력\n",
        "\n",
        "# value가 1인 key 모두 출력\n",
        "dict_3 = {\"a\" : 2, \"b\" : 1, \"c\" : 4, \"d\" : 1}\n",
        "\n",
        "for i in dict_3:\n",
        "    if dict_3[i]==1:\n",
        "        print(i,end=\" \")\n"
      ],
      "metadata": {
        "id": "Jh0jOJNZfFcq"
      },
      "execution_count": null,
      "outputs": []
    },
    {
      "cell_type": "code",
      "source": [
        "#원하는 밸류 출력\n",
        "\n",
        "#B=list(dict_3.items())\n",
        "\n",
        "\n",
        "for i,j in list(dict_3.items()):\n",
        "    if j==1:\n",
        "        print(i, end=\" \")"
      ],
      "metadata": {
        "id": "exyWreaCfHTn"
      },
      "execution_count": null,
      "outputs": []
    }
  ]
}