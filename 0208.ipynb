{
  "nbformat": 4,
  "nbformat_minor": 0,
  "metadata": {
    "colab": {
      "provenance": [],
      "authorship_tag": "ABX9TyMp8uAUOg+TAt9MCvfD3Y7f",
      "include_colab_link": true
    },
    "kernelspec": {
      "name": "python3",
      "display_name": "Python 3"
    },
    "language_info": {
      "name": "python"
    }
  },
  "cells": [
    {
      "cell_type": "markdown",
      "metadata": {
        "id": "view-in-github",
        "colab_type": "text"
      },
      "source": [
        "<a href=\"https://colab.research.google.com/github/Seobway23/Laptop/blob/master/0208.ipynb\" target=\"_parent\"><img src=\"https://colab.research.google.com/assets/colab-badge.svg\" alt=\"Open In Colab\"/></a>"
      ]
    },
    {
      "cell_type": "code",
      "execution_count": null,
      "metadata": {
        "colab": {
          "base_uri": "https://localhost:8080/"
        },
        "id": "xUd-WOC4GjAS",
        "outputId": "f486f7bd-b786-40a8-c007-caf04def04e3"
      },
      "outputs": [
        {
          "output_type": "stream",
          "name": "stdout",
          "text": [
            "9\n",
            "8\n",
            "7\n",
            "6\n",
            "5\n",
            "4\n",
            "3\n",
            "2\n",
            "1\n"
          ]
        }
      ],
      "source": [
        "#무조건 다시 푼다, 오늘 집가서 다시 풀기\n",
        "# 1 0 옆에다 붙일 것인지\n",
        "# 2 범위를 정해서 풀 것인지\n",
        "\n",
        "\n",
        "import sys\n",
        "from pprint import pprint\n",
        "sys.stdin =open(\"input.txt\",\"r\")\n",
        "\n",
        "T=int(input())\n",
        "\n",
        "for test_case in range(1,T+1):\n",
        "    N = 5\n",
        "    arr = [ list(map(int,input().split())) for _ in range(N) ]\n",
        "    #pprint(arr)\n",
        "    st = []\n",
        "    dx = [0, 0, 1]  #왼쪽 오른쪽 아래\n",
        "    dy = [-1, 1, 0] #왼쪽 오른쪽 아래\n",
        "    ans=0\n",
        "\n",
        "    #출발 지점 st 구하기\n",
        "    for i in range(N):\n",
        "        if arr[0][i]==1:\n",
        "            st.append((0,i))\n",
        "\n",
        "\n",
        "    #print(st)\n",
        "\n",
        "    for std in st:\n",
        "        x=std[0]\n",
        "        y=std[1]\n",
        "\n",
        "        while y>=0 and x<N-1:\n",
        "            for k in range(3):\n",
        "                if arr[x+dx[k]][y+dy[k]]==2:\n",
        "                        x+=dx[k]\n",
        "                        y+=dy[k]\n",
        "                        ans=std[1]\n",
        "                        break\n",
        "\n",
        "                print(std, x, y, ans)\n",
        "\n",
        "                if arr[x+dx[k]][y+dy[k]]==1:\n",
        "                        x+=dx[k]\n",
        "                        y+=dy[k]\n",
        "\n",
        "\n",
        "        print(std, x, y, ans)\n",
        "\n",
        "\n"
      ]
    },
    {
      "cell_type": "code",
      "source": [
        "#문자열이 같은지 확인\n",
        "\n",
        "str1='CCABCDDfgㅎ'\n",
        "str2='CCABCDDfgㅎ'\n",
        "cnt=0\n",
        "for i in range(len(str2)):\n",
        "    if str2[i]==str1[0]:\n",
        "        if len(str1)==1:\n",
        "            cnt+=1\n",
        "            break\n",
        "\n",
        "        if len(str1)==len(str2):\n",
        "            cnt=len(str1)\n",
        "            break\n",
        "\n",
        "        for j in range(len(str1)):\n",
        "            if i+j<=len(str2)-1:\n",
        "                if str1[j]==str2[i+j]:\n",
        "                    cnt+=1\n",
        "\n",
        "            else:\n",
        "                break\n",
        "\n",
        "    else:\n",
        "        break\n",
        "\n",
        "if cnt==len(str1):\n",
        "    print('일치')\n",
        "\n",
        "else:\n",
        "    print('불일치')\n",
        "            \n"
      ],
      "metadata": {
        "colab": {
          "base_uri": "https://localhost:8080/",
          "height": 248
        },
        "id": "FCbS4DWQGywR",
        "outputId": "9a645980-0c35-4831-d489-eaf4878b70ec"
      },
      "execution_count": null,
      "outputs": [
        {
          "output_type": "error",
          "ename": "IndexError",
          "evalue": "ignored",
          "traceback": [
            "\u001b[0;31m---------------------------------------------------------------------------\u001b[0m",
            "\u001b[0;31mIndexError\u001b[0m                                Traceback (most recent call last)",
            "\u001b[0;32m<ipython-input-18-4261f90a3eb7>\u001b[0m in \u001b[0;36m<module>\u001b[0;34m\u001b[0m\n\u001b[1;32m      6\u001b[0m         \u001b[0;32mfor\u001b[0m \u001b[0mj\u001b[0m \u001b[0;32min\u001b[0m \u001b[0mrange\u001b[0m\u001b[0;34m(\u001b[0m\u001b[0mlen\u001b[0m\u001b[0;34m(\u001b[0m\u001b[0mstr1\u001b[0m\u001b[0;34m)\u001b[0m\u001b[0;34m)\u001b[0m\u001b[0;34m:\u001b[0m\u001b[0;34m\u001b[0m\u001b[0;34m\u001b[0m\u001b[0m\n\u001b[1;32m      7\u001b[0m             \u001b[0;32mif\u001b[0m \u001b[0mi\u001b[0m\u001b[0;34m+\u001b[0m\u001b[0mj\u001b[0m\u001b[0;34m<=\u001b[0m\u001b[0mlen\u001b[0m\u001b[0;34m(\u001b[0m\u001b[0mstr2\u001b[0m\u001b[0;34m)\u001b[0m\u001b[0;34m:\u001b[0m\u001b[0;34m\u001b[0m\u001b[0;34m\u001b[0m\u001b[0m\n\u001b[0;32m----> 8\u001b[0;31m                 \u001b[0;32mif\u001b[0m \u001b[0mstr1\u001b[0m\u001b[0;34m[\u001b[0m\u001b[0mj\u001b[0m\u001b[0;34m]\u001b[0m\u001b[0;34m==\u001b[0m\u001b[0mstr2\u001b[0m\u001b[0;34m[\u001b[0m\u001b[0mi\u001b[0m\u001b[0;34m+\u001b[0m\u001b[0mj\u001b[0m\u001b[0;34m]\u001b[0m\u001b[0;34m:\u001b[0m\u001b[0;34m\u001b[0m\u001b[0;34m\u001b[0m\u001b[0m\n\u001b[0m\u001b[1;32m      9\u001b[0m                     \u001b[0mcnt\u001b[0m\u001b[0;34m+=\u001b[0m\u001b[0;36m1\u001b[0m\u001b[0;34m\u001b[0m\u001b[0;34m\u001b[0m\u001b[0m\n\u001b[1;32m     10\u001b[0m \u001b[0;34m\u001b[0m\u001b[0m\n",
            "\u001b[0;31mIndexError\u001b[0m: string index out of range"
          ]
        }
      ]
    },
    {
      "cell_type": "code",
      "source": [
        "#문자열 판단\n",
        "\n",
        "import sys\n",
        "from pprint import pprint\n",
        "sys.stdin =open(\"input.txt\",\"r\")\n",
        "\n",
        "T=int(input())\n",
        "for test_case in range(1,T+1):\n",
        "    str1=str(input())\n",
        "    str2=str(input())\n",
        "    cnt=0\n",
        "    ans=0\n",
        "    B=len(str2)\n",
        "    A=str1[0]\n",
        "\n",
        "    for i in range(B):\n",
        "        if str2[i]==str1[0]:\n",
        "            if len(str1)==1:\n",
        "                cnt+=1\n",
        "                break\n",
        "\n",
        "            if str1==str2[i:i+len(str1)]:\n",
        "                cnt=len(str1)\n",
        "                break\n",
        "\n",
        "            for j in range(len(str1)):\n",
        "                W=str1[j]\n",
        "                E=str2[i+j]\n",
        "                if i+j<=len(str2)-1:\n",
        "                    if str1[j]==str2[i+j]:\n",
        "                        cnt+=1\n",
        "\n",
        "                else:\n",
        "                    break\n",
        "\n",
        "\n",
        "    if cnt==len(str1):\n",
        "        ans=1\n",
        "\n",
        "    print(f'#{test_case} {ans}')"
      ],
      "metadata": {
        "id": "dEPRMexq3tBJ"
      },
      "execution_count": null,
      "outputs": []
    },
    {
      "cell_type": "code",
      "source": [
        "T=int(input())\n",
        "for test_case in range(1,T+1):\n",
        "    str1=str(input())\n",
        "    str2=str(input())\n",
        "    ans=0\n",
        "\n",
        "    for i in range(len(str2)):\n",
        "        if str1[0]==str2[i]:\n",
        "            if str1==str2[i:i+len(str1)]:\n",
        "                ans=1\n",
        "\n",
        "            else:\n",
        "                ans=0\n",
        "\n",
        "            \n",
        "    print(f\"#{test_case} {ans}\")\n",
        "\n",
        "\n",
        "\n",
        "        \n"
      ],
      "metadata": {
        "id": "K_9xTk_d29yS"
      },
      "execution_count": null,
      "outputs": []
    },
    {
      "cell_type": "code",
      "source": [
        "T=int(input())\n",
        "\n",
        "for test_case in range(1,T+1):\n",
        "    N,M=map(int,input().split())\n",
        "    str1=[list(map(str,input().split())) for _ in range(N)]\n",
        "\n",
        "    for i in str1:\n",
        "        if i==i[::-1]:\n",
        "            print(f\"#{test_case} {i}\")\n",
        "        \n",
        "\n",
        "    \n",
        "\n",
        "\n"
      ],
      "metadata": {
        "id": "hSUp-WUh5x6A",
        "colab": {
          "base_uri": "https://localhost:8080/"
        },
        "outputId": "c8566273-4b5f-4c59-ddc2-e2f3de0b0942"
      },
      "execution_count": 24,
      "outputs": [
        {
          "name": "stdout",
          "output_type": "stream",
          "text": [
            "1\n",
            "1 1\n",
            "asdqwezxc\n"
          ]
        }
      ]
    },
    {
      "cell_type": "code",
      "source": [
        "   print(str1[:len(str1)//2+1])\n"
      ],
      "metadata": {
        "colab": {
          "base_uri": "https://localhost:8080/"
        },
        "id": "BYgONQkJ8rPF",
        "outputId": "5de3b1c9-97ee-45d8-c168-e590ad6e618e"
      },
      "execution_count": 37,
      "outputs": [
        {
          "output_type": "stream",
          "name": "stdout",
          "text": [
            "asdd\n",
            "sddsa\n"
          ]
        }
      ]
    },
    {
      "cell_type": "markdown",
      "source": [
        "## string\n",
        "스트링 인덱스  \n",
        "str1='asddsa'라고 할 때  \n",
        "str1[시작 범위 : 끝 범위 : 간격 ]  \n",
        "range와 같이 설정할 수 있음\n",
        "\n",
        "- 시작 범위의 경우 len(str1)보다 높이 설정해도 가장 마지막 부터 시작함\n",
        "\n"
      ],
      "metadata": {
        "id": "gbmI4s8__ys7"
      }
    },
    {
      "cell_type": "code",
      "source": [
        "if str1[:len(str1)//2+1]==str1[len(str1):len(str1)//2-1-1:-1]:\n",
        "    print(\"일치\")"
      ],
      "metadata": {
        "colab": {
          "base_uri": "https://localhost:8080/"
        },
        "id": "cpzecqtz9Lb0",
        "outputId": "abe178d2-d3e3-4e25-c877-5bd04d4ca771"
      },
      "execution_count": 54,
      "outputs": [
        {
          "output_type": "stream",
          "name": "stdout",
          "text": [
            "일치\n"
          ]
        }
      ]
    },
    {
      "cell_type": "code",
      "source": [
        "b=u[::-1]\n",
        "\n",
        "print(b)"
      ],
      "metadata": {
        "colab": {
          "base_uri": "https://localhost:8080/"
        },
        "id": "-4GL9h58HRmv",
        "outputId": "18bcdb92-31dc-4b79-da05-057c762eb18c"
      },
      "execution_count": 58,
      "outputs": [
        {
          "output_type": "stream",
          "name": "stdout",
          "text": [
            "dsadsa\n"
          ]
        }
      ]
    },
    {
      "cell_type": "code",
      "source": [
        "# 문자열 패착 원인 : 너무 많은 동작 속도가 필요\n",
        "#끝과 끝은 상관 없지만 그렇지 않은 경우, 절대 하면 안됨\n",
        "\n",
        "import sys\n",
        "from pprint import pprint\n",
        "sys.stdin =open(\"input.txt\",\"r\")\n",
        "\n",
        "T = int(input())\n",
        "\n",
        "for test_case in range(1, T + 1):\n",
        "    N, M = map(int, input().split()) #N 글자 갯수, M 글자 길이\n",
        "    str1 = [input() for _ in range(N)]\n",
        "    horz=['']*N\n",
        "\n",
        "    #horz 만들기\n",
        "    for i in str1:\n",
        "        for j in range(N):\n",
        "            horz[j] += i[j]\n",
        "\n",
        "    print(horz)\n",
        "\n",
        "\n",
        "    #가로 체크\n",
        "    for i in str1:\n",
        "        str2 = ''\n",
        "        for j in range(len(i)-1,0-1,-1):\n",
        "            str2+=i[j]\n",
        "\n",
        "        if str2==i:\n",
        "            print(f\"#{test_case} {i}\")\n",
        "\n",
        "    # 세로 체크\n",
        "    for i in horz:\n",
        "        horz1 = ''\n",
        "        for j in range(len(i) - 1, 0 - 1, -1):\n",
        "            horz1 += i[j]\n",
        "\n",
        "        if horz1 == i:\n",
        "            print(f\"#{test_case} {i}\")\n"
      ],
      "metadata": {
        "id": "0DhNtpNfH3Ey"
      },
      "execution_count": null,
      "outputs": []
    }
  ]
}