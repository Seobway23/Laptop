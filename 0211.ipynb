{
  "nbformat": 4,
  "nbformat_minor": 0,
  "metadata": {
    "colab": {
      "provenance": [],
      "authorship_tag": "ABX9TyOgUqWv9EFXJk/KtgPe12KX",
      "include_colab_link": true
    },
    "kernelspec": {
      "name": "python3",
      "display_name": "Python 3"
    },
    "language_info": {
      "name": "python"
    }
  },
  "cells": [
    {
      "cell_type": "markdown",
      "metadata": {
        "id": "view-in-github",
        "colab_type": "text"
      },
      "source": [
        "<a href=\"https://colab.research.google.com/github/Seobway23/Laptop/blob/master/0211.ipynb\" target=\"_parent\"><img src=\"https://colab.research.google.com/assets/colab-badge.svg\" alt=\"Open In Colab\"/></a>"
      ]
    },
    {
      "cell_type": "code",
      "execution_count": null,
      "metadata": {
        "id": "wPtuYSiVplYE"
      },
      "outputs": [],
      "source": [
        "#0211 스도쿠 문제\n",
        "\n",
        "def solve(arr):\n",
        "    #행\n",
        "    for num in arr:\n",
        "        if len(set(num))!=9:    \n",
        "            return 0            #실패\n",
        "\n",
        "    #열          \n",
        "    arr_t=list(zip(*arr))\n",
        "    for num in arr_t:\n",
        "        if len(set(num))!=9:    #실패\n",
        "            return 0\n",
        "\n",
        "\n",
        "    for i in (0,3,6):\n",
        "        for j in (0,3,6):\n",
        "            lst=arr[i][j:j+3]+arr[i+1][j:j+3]+arr[i+2][j:j+3]\n",
        "            if len(set(lst))!=9:\n",
        "                return 0\n",
        "\n",
        "    return 1\n",
        "\n",
        "T=int(input())\n",
        "\n",
        "for test_case in range(1,T+1):\n",
        "    arr=[list(map(int,input().split())) for _ in range(9)]\n",
        "    print(f\"#{test_case} {solve(arr)}\")\n"
      ]
    },
    {
      "cell_type": "code",
      "source": [
        "# zip을 이용해 세로열 비교할 수 있도록 세로열만 리스트화 시킬 수 있음\n",
        "arr1=[[1,2,3,4,5],[6,7,8,9,10]]\n",
        "\n",
        "\n",
        "arr_t1=list(zip(*arr1))\n",
        "\n",
        "print(arr_t1)\n"
      ],
      "metadata": {
        "colab": {
          "base_uri": "https://localhost:8080/"
        },
        "id": "lJ1aUHlUrhnb",
        "outputId": "85ae6c8c-1023-40cf-8350-df40e8dd6c60"
      },
      "execution_count": 3,
      "outputs": [
        {
          "output_type": "stream",
          "name": "stdout",
          "text": [
            "[(1, 6), (2, 7), (3, 8), (4, 9), (5, 10)]\n"
          ]
        }
      ]
    }
  ]
}