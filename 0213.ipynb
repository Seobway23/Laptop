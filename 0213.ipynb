{
  "nbformat": 4,
  "nbformat_minor": 0,
  "metadata": {
    "colab": {
      "provenance": [],
      "authorship_tag": "ABX9TyMT7DHdUcF6zDmxJr7YtHnN",
      "include_colab_link": true
    },
    "kernelspec": {
      "name": "python3",
      "display_name": "Python 3"
    },
    "language_info": {
      "name": "python"
    }
  },
  "cells": [
    {
      "cell_type": "markdown",
      "metadata": {
        "id": "view-in-github",
        "colab_type": "text"
      },
      "source": [
        "<a href=\"https://colab.research.google.com/github/Seobway23/Laptop/blob/master/0213.ipynb\" target=\"_parent\"><img src=\"https://colab.research.google.com/assets/colab-badge.svg\" alt=\"Open In Colab\"/></a>"
      ]
    },
    {
      "cell_type": "code",
      "execution_count": null,
      "metadata": {
        "id": "yvNua_Qv5q6I"
      },
      "outputs": [],
      "source": [
        "# 카운팅 알고리즘\n",
        "data=[0,4,1,3,1,2,4,1]\n",
        "N=4\n",
        "test_data=[0]*(N+1)\n",
        "aligned_data=[0]*(len(data))\n",
        "\n",
        "for i in range(len(data)):\n",
        "    test_data[data[i]]+=1\n",
        "\n",
        "for i in range(1,len(test_data)):\n",
        "    test_data[i]+=test_data[i-1]\n",
        "\n",
        "\n",
        "for i in range(len(aligned_data)-1,-1,-1):\n",
        "    test_data[data[i]]-=1\n",
        "    aligned_data[test_data[data[i]]]=data[i]\n"
      ]
    },
    {
      "cell_type": "code",
      "source": [
        "#지그재그 순회\n",
        "for i in range(n):\n",
        "    for j in range(m):\n",
        "        arr[i][j+(m-1-(2*j))*(i%2)]\n",
        "# i가 홀 수 일 때는 %2가 1이므로 j 다음 식이 0이 아니기 때문에 작동"
      ],
      "metadata": {
        "id": "-4rS3r1M9ImK"
      },
      "execution_count": null,
      "outputs": []
    },
    {
      "cell_type": "code",
      "source": [
        "#비트 연산자\n",
        "arr=[3,6,7,1,5,4]\n",
        "n=len(arr)\n",
        "\n",
        "for i in range(1<<n):\n",
        "    for j in range(n):\n",
        "        if i&(1<<j): # &가 1개이면, 변수의 주소로 쓰인다\n",
        "                     # 이게 무슨 말이냐면, 2^j 자리에 i가 있냐 물어보는거\n",
        "            print(arr[j], end=\" \")\n",
        "    print()"
      ],
      "metadata": {
        "id": "nz87CdU9-2jS"
      },
      "execution_count": null,
      "outputs": []
    },
    {
      "cell_type": "code",
      "source": [
        "#이진검색\n",
        "#항목의 키값 비교-> 검색 진행 (정렬된 상태에서만 가능)\n",
        "a=[1,2,3,4,5,6,7]\n",
        "\n",
        "def binarySearch(a,N,key):\n",
        "    start=0\n",
        "    end=N-1\n",
        "    while start <= end:\n",
        "        middle=(start+end)//2\n",
        "        if a[middle]==key:\n",
        "            return a.index(key)\n",
        "\n",
        "        elif a[middle] > key:\n",
        "            end = middle -1\n",
        "\n",
        "        else:\n",
        "            start = middle +1 \n",
        "    return False\n",
        "\n",
        "binarySearch(a,len(a),2)"
      ],
      "metadata": {
        "colab": {
          "base_uri": "https://localhost:8080/"
        },
        "id": "nfOsuW9X-3GC",
        "outputId": "4388da9f-3c99-4a50-9883-39b946d8b67b"
      },
      "execution_count": null,
      "outputs": [
        {
          "output_type": "execute_result",
          "data": {
            "text/plain": [
              "1"
            ]
          },
          "metadata": {},
          "execution_count": 11
        }
      ]
    },
    {
      "cell_type": "code",
      "source": [
        "i=1\n",
        "pascals=[[1,2],[3,4]]\n",
        "\n",
        "stack = pascals[i-1][]\n",
        "\n",
        "print(stack)"
      ],
      "metadata": {
        "colab": {
          "base_uri": "https://localhost:8080/"
        },
        "id": "TbIYqMxa562s",
        "outputId": "9cbd41bd-2b16-4c45-c711-17d43c6d986c"
      },
      "execution_count": 15,
      "outputs": [
        {
          "output_type": "stream",
          "name": "stdout",
          "text": [
            "[1, 2]\n"
          ]
        }
      ]
    },
    {
      "cell_type": "code",
      "source": [],
      "metadata": {
        "id": "bE-DfPkG6DhU"
      },
      "execution_count": null,
      "outputs": []
    }
  ]
}