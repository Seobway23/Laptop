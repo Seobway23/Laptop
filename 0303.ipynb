{
  "nbformat": 4,
  "nbformat_minor": 0,
  "metadata": {
    "colab": {
      "provenance": [],
      "authorship_tag": "ABX9TyOvIcSsU0+B4bEV+k6MpVRz",
      "include_colab_link": true
    },
    "kernelspec": {
      "name": "python3",
      "display_name": "Python 3"
    },
    "language_info": {
      "name": "python"
    }
  },
  "cells": [
    {
      "cell_type": "markdown",
      "metadata": {
        "id": "view-in-github",
        "colab_type": "text"
      },
      "source": [
        "<a href=\"https://colab.research.google.com/github/Seobway23/Laptop/blob/master/0303.ipynb\" target=\"_parent\"><img src=\"https://colab.research.google.com/assets/colab-badge.svg\" alt=\"Open In Colab\"/></a>"
      ]
    },
    {
      "cell_type": "code",
      "execution_count": null,
      "metadata": {
        "id": "WvoCZNXtcyQz"
      },
      "outputs": [],
      "source": [
        "#Magnatic 문제\n",
        "\n",
        "T = 10\n",
        "for test_case in range(1, T+1):\n",
        "    N = int(input())\n",
        "    arr = [ list(map(int,input().split()))for _ in range(N)]\n",
        "    arr_v = list(zip(*arr))\n",
        "    cnt = 0\n",
        "    for [*idx] in arr_v: #튜플을 언패킹으로 해서 리스트로 만들기\n",
        "        while True: #1 N극, 2 S극\n",
        "            #종료조건\n",
        "            if idx[0] == 1 and idx[-1] == 2: #같은 극을 만나면 종료\n",
        "                break\n",
        "\n",
        "            #filtering 시작\n",
        "            if idx[0] == 2 or idx[0] == 0:\n",
        "                idx.pop(0)\n",
        "\n",
        "            elif idx[-1] == 1 or idx[-1] ==0:\n",
        "                idx.pop()\n",
        "\n",
        "        q = []\n",
        "        for i in idx:\n",
        "            #1을 만나면 q에 넣기\n",
        "            if i == 1:\n",
        "                q.append(i)\n",
        "\n",
        "            if q and i == 2:\n",
        "                cnt += 1\n",
        "                q = []\n",
        "\n",
        "        #1을 만나면 q에 넣기\n",
        "        #q가 있고, 2를 만나면 cnt+=1 q는 비우기\n",
        "\n",
        "    print(f\"#{test_case} {cnt}\")"
      ]
    },
    {
      "cell_type": "code",
      "source": [
        "# 카드 count\n",
        "T = int(input())\n",
        "for test_case in range(1, T+1):\n",
        "    lst = list(input())\n",
        "    # Spade, Diamond, Heart, Clover\n",
        "    Sp = [0] * 14  # 0부터 13까지\n",
        "    Di = [0] * 14\n",
        "    He = [0] * 14\n",
        "    Cl = [0] * 14\n",
        "\n",
        "    for i in range(0, len(lst), 3):\n",
        "        S, T, O = lst[i], lst[i + 1], lst[i + 2]\n",
        "        # spade\n",
        "        if S == 'S' and T == '0':\n",
        "            Sp[int(O)] += 1\n",
        "        if S == 'S' and T == '1':\n",
        "            Sp[10 + int(O)] += 1\n",
        "\n",
        "        # Diamond\n",
        "        if S == 'D' and T == '0':\n",
        "            Di[int(O)] += 1\n",
        "        if S == 'D' and T == '1':\n",
        "            Di[10 + int(O)] += 1\n",
        "\n",
        "        # Heart\n",
        "        if S == 'H' and T == '0':\n",
        "            He[int(O)] += 1\n",
        "        if S == 'H' and T == '1':\n",
        "            He[10 + int(O)] += 1\n",
        "\n",
        "        # Clover\n",
        "        if S == 'C' and T == '0':\n",
        "            Cl[int(O)] += 1\n",
        "        if S == 'C' and T == '1':\n",
        "            Cl[10 + int(O)] += 1\n",
        "\n",
        "    #계산\n",
        "    S_cnt = 0\n",
        "    D_cnt = 0\n",
        "    H_cnt = 0\n",
        "    C_cnt = 0\n",
        "    flag = 0\n",
        "    #Spade\n",
        "    for j in Sp:\n",
        "        if j == 1:\n",
        "            S_cnt += 1\n",
        "        elif j >= 2:\n",
        "            flag = 1\n",
        "            break\n",
        "    #Diamond\n",
        "    for j in Di:\n",
        "        if j == 1:\n",
        "            D_cnt += 1\n",
        "        elif j >= 2:\n",
        "            flag = 1\n",
        "            break\n",
        "    #Heart\n",
        "    for j in He:\n",
        "        if j == 1:\n",
        "            H_cnt += 1\n",
        "        elif j >= 2:\n",
        "            flag = 1\n",
        "\n",
        "    #clover\n",
        "    for j in Cl:\n",
        "        if j == 1:\n",
        "            C_cnt += 1\n",
        "        elif j >= 2:\n",
        "            flag = 1\n",
        "            break\n",
        "    if flag ==1:\n",
        "        print(f\"#{test_case} ERROR\")\n",
        "    else:\n",
        "        print(f\"#{test_case} {13-S_cnt} {13-D_cnt} {13-H_cnt} {13-C_cnt}\")"
      ],
      "metadata": {
        "id": "lPoVPMxKc5oU"
      },
      "execution_count": null,
      "outputs": []
    },
    {
      "cell_type": "code",
      "source": [
        "#풍선팡\n",
        "\n",
        "T = int(input())\n",
        "for test_case in range(1,T+1):\n",
        "    N, M = map(int, input().split()) #N 행, M 열\n",
        "    arr = [list(map(int, input().split())) for _ in range(N)]\n",
        "    ans = 0\n",
        "    for i in range(N):# 행\n",
        "        for j in range(M): #열\n",
        "            cnt = 0\n",
        "            cnt += arr[i][j]\n",
        "            K = arr[i][j]\n",
        "            for k in range(1,K+1): #k번 터지므로 1부터 k까지 반복문\n",
        "                for di, dj in (k,0),(-k,0),(0,k),(0,-k):\n",
        "                    ni = i + di\n",
        "                    nj = j + dj\n",
        "                    if 0 <= ni < N and 0 <= nj <M:\n",
        "                        cnt += arr[ni][nj]\n",
        "\n",
        "            #최댓값 갱신\n",
        "            if cnt > ans:\n",
        "                ans = cnt\n",
        "\n",
        "\n",
        "    print(f\"#{test_case} {ans}\")"
      ],
      "metadata": {
        "id": "LNbNOruD370d"
      },
      "execution_count": null,
      "outputs": []
    },
    {
      "cell_type": "code",
      "source": [
        "#자기방으로 돌아가기\n",
        "# 지나간 길 cnt\n",
        "T = int(input())\n",
        "for test_case in range(1, T + 1):\n",
        "    N = int(input())\n",
        "    mx = 0\n",
        "    v = [0] * 200  # 총 400//2 = 200 1,2를 한칸으로 놈\n",
        "    for _ in range(N):\n",
        "        A, B = map(int, input().split())\n",
        "        # 1,2를 하나의 인덱스(0)로 놓기 위해 number-1 후 //2\n",
        "        if A<B: #A가 더 클 때,\n",
        "            for i in range((A-1)//2, (B-1)//2 + 1):\n",
        "                v[i] += 1  # 지나간 길 cnt\n",
        "\n",
        "        else: #B가 더 클 때\n",
        "            A, B = B, A\n",
        "            for i in range((A - 1) // 2, (B - 1) // 2 + 1):\n",
        "                v[i] += 1  # 지나간 길 cnt\n",
        "\n",
        "    # 최대값 갱신\n",
        "    for k in v:\n",
        "        if k > mx:\n",
        "            mx = k\n",
        "\n",
        "    print(f\"#{test_case} {mx}\")"
      ],
      "metadata": {
        "id": "hz4yqTut7K8s"
      },
      "execution_count": null,
      "outputs": []
    },
    {
      "cell_type": "code",
      "source": [
        "#세로로 말해요\n",
        "T = int(input())\n",
        "for test_case in range(1, T + 1):\n",
        "    v = [''] * 15\n",
        "    for _ in range(5):\n",
        "        lst = list(input())\n",
        "\n",
        "            #15개 이하의 문자열이므로\n",
        "        for i in range(len(lst)):\n",
        "            v[i] += lst[i]\n",
        "\n",
        "    print(f\"#{test_case}\", end=' ') #end는 프린트 끝마칠 때 어떻게 할 껀지 디폴트 enter\n",
        "    print(*v, sep='') #sep은 리스트 출력할 때 리스트 인덱스 마다 어떻게 분리시킬건지 디폴트 space"
      ],
      "metadata": {
        "id": "Sfv-nWkM8bGt"
      },
      "execution_count": null,
      "outputs": []
    },
    {
      "cell_type": "code",
      "source": [
        "#직사각형을 만드는 방법\n",
        "T = int(input())\n",
        "ans = 0\n",
        "for i in range(1, T+1):\n",
        "    q = []\n",
        "    d = (i+1)//2 +1\n",
        "    for k in range(2,(i+1)//2 +1):\n",
        "\n",
        "        if i % k == 0:\n",
        "            if k in q:\n",
        "                break\n",
        "            else:\n",
        "                ans += 1\n",
        "                q.append(i//k)\n",
        "\n",
        "    ans += 1\n",
        "\n",
        "print(ans)"
      ],
      "metadata": {
        "id": "1DhmVEHUjGbh"
      },
      "execution_count": null,
      "outputs": []
    },
    {
      "cell_type": "code",
      "source": [],
      "metadata": {
        "id": "yYQ1HF_8jJJY"
      },
      "execution_count": null,
      "outputs": []
    }
  ]
}