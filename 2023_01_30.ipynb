{
  "nbformat": 4,
  "nbformat_minor": 0,
  "metadata": {
    "colab": {
      "provenance": [],
      "authorship_tag": "ABX9TyOIWN2wrMihvzzRWAS5d3zi",
      "include_colab_link": true
    },
    "kernelspec": {
      "name": "python3",
      "display_name": "Python 3"
    },
    "language_info": {
      "name": "python"
    }
  },
  "cells": [
    {
      "cell_type": "markdown",
      "metadata": {
        "id": "view-in-github",
        "colab_type": "text"
      },
      "source": [
        "<a href=\"https://colab.research.google.com/github/Seobway23/Laptop/blob/master/2023_01_30.ipynb\" target=\"_parent\"><img src=\"https://colab.research.google.com/assets/colab-badge.svg\" alt=\"Open In Colab\"/></a>"
      ]
    },
    {
      "cell_type": "markdown",
      "source": [
        "클래스 , 인스턴스"
      ],
      "metadata": {
        "id": "nDKjc9QZam2Y"
      }
    },
    {
      "cell_type": "code",
      "execution_count": 16,
      "metadata": {
        "colab": {
          "base_uri": "https://localhost:8080/",
          "height": 266
        },
        "id": "bjLL24-Z93Ka",
        "outputId": "1e19c422-4aec-4587-e197-44b09d6dcbd5"
      },
      "outputs": [
        {
          "output_type": "stream",
          "name": "stdout",
          "text": [
            "인구수는 2입니다\n",
            "인구수는 2입니다\n",
            "인구수는 2입니다\n"
          ]
        },
        {
          "output_type": "error",
          "ename": "NameError",
          "evalue": "ignored",
          "traceback": [
            "\u001b[0;31m---------------------------------------------------------------------------\u001b[0m",
            "\u001b[0;31mNameError\u001b[0m                                 Traceback (most recent call last)",
            "\u001b[0;32m<ipython-input-16-9c4cc0a6ee5e>\u001b[0m in \u001b[0;36m<module>\u001b[0;34m\u001b[0m\n\u001b[1;32m     18\u001b[0m \u001b[0mperson2\u001b[0m\u001b[0;34m.\u001b[0m\u001b[0mnumber_of_population\u001b[0m\u001b[0;34m(\u001b[0m\u001b[0;34m)\u001b[0m\u001b[0;34m\u001b[0m\u001b[0;34m\u001b[0m\u001b[0m\n\u001b[1;32m     19\u001b[0m \u001b[0;34m\u001b[0m\u001b[0m\n\u001b[0;32m---> 20\u001b[0;31m \u001b[0mprint\u001b[0m\u001b[0;34m(\u001b[0m\u001b[0mname\u001b[0m\u001b[0;34m)\u001b[0m\u001b[0;34m\u001b[0m\u001b[0;34m\u001b[0m\u001b[0m\n\u001b[0m",
            "\u001b[0;31mNameError\u001b[0m: name 'name' is not defined"
          ]
        }
      ],
      "source": [
        "class Person:\n",
        "    count=0\n",
        "    def __init__(self, name):\n",
        "        self.name=name\n",
        "        Person.count+=1\n",
        "\n",
        "\n",
        "    @classmethod\n",
        "\n",
        "    def number_of_population(cls):\n",
        "        print(f'인구수는 {cls.count}입니다')\n",
        "\n",
        "person1=Person('아이유')\n",
        "person2=Person('이찬혁')\n",
        "\n",
        "Person.number_of_population()\n",
        "person1.number_of_population()\n",
        "person2.number_of_population()"
      ]
    },
    {
      "cell_type": "markdown",
      "source": [
        "데일리과제 7-2. 객체지향 프로그래밍의 이해와 기본 사용 예제 1\t\t\n",
        "데일리과제 7-4. 객체지향 프로그래밍의 이해와 기본 사용 예제 2"
      ],
      "metadata": {
        "id": "3uRmMiHQaqAo"
      }
    },
    {
      "cell_type": "code",
      "source": [
        "class Doggy:\n",
        "    num_of_dogs=0\n",
        "    birth_of_dogs=0\n",
        "\n",
        "    def bark():\n",
        "        print('bowwow')\n",
        "\n",
        "    def get_status(self,num):\n",
        "        if num == -1:\n",
        "            Doggy.num_of_dogs-=1\n",
        "\n",
        "        elif num==1:\n",
        "            Doggy.num_of_dogs+=1\n",
        "            Doggy.birth_of_dogs+=1\n",
        "\n",
        "\n",
        "dog=Doggy()\n",
        "dog.bark()\n",
        "dog.get_status(1)"
      ],
      "metadata": {
        "colab": {
          "base_uri": "https://localhost:8080/",
          "height": 230
        },
        "id": "nRdES3SNaqaI",
        "outputId": "8bc16c69-40a4-43bd-9e1e-03d8b8af8fe3"
      },
      "execution_count": 18,
      "outputs": [
        {
          "output_type": "error",
          "ename": "TypeError",
          "evalue": "ignored",
          "traceback": [
            "\u001b[0;31m---------------------------------------------------------------------------\u001b[0m",
            "\u001b[0;31mTypeError\u001b[0m                                 Traceback (most recent call last)",
            "\u001b[0;32m<ipython-input-18-e5bf2838989f>\u001b[0m in \u001b[0;36m<module>\u001b[0;34m\u001b[0m\n\u001b[1;32m     16\u001b[0m \u001b[0;34m\u001b[0m\u001b[0m\n\u001b[1;32m     17\u001b[0m \u001b[0mdog\u001b[0m\u001b[0;34m=\u001b[0m\u001b[0mDoggy\u001b[0m\u001b[0;34m(\u001b[0m\u001b[0;34m)\u001b[0m\u001b[0;34m\u001b[0m\u001b[0;34m\u001b[0m\u001b[0m\n\u001b[0;32m---> 18\u001b[0;31m \u001b[0mdog\u001b[0m\u001b[0;34m.\u001b[0m\u001b[0mbark\u001b[0m\u001b[0;34m(\u001b[0m\u001b[0;34m)\u001b[0m\u001b[0;34m\u001b[0m\u001b[0;34m\u001b[0m\u001b[0m\n\u001b[0m\u001b[1;32m     19\u001b[0m \u001b[0mdog\u001b[0m\u001b[0;34m.\u001b[0m\u001b[0mget_status\u001b[0m\u001b[0;34m(\u001b[0m\u001b[0;36m1\u001b[0m\u001b[0;34m)\u001b[0m\u001b[0;34m\u001b[0m\u001b[0;34m\u001b[0m\u001b[0m\n",
            "\u001b[0;31mTypeError\u001b[0m: bark() takes 0 positional arguments but 1 was given"
          ]
        }
      ]
    },
    {
      "cell_type": "code",
      "source": [
        "class Pig:\n",
        "    belly_price=1000 # class 변수\n",
        "\n",
        "    def __init__(self,stock):\n",
        "        self.stock=stock\n",
        "\n",
        "\n",
        "\n",
        "\n",
        "\n",
        "\n",
        "\n",
        "    # 주문이 들어왔을 때 가격 계산\n",
        "    def order_price(self, amount):\n",
        "        if self.stock>=amount:\n",
        "            return self.belly_price*amount\n",
        "            #클래스 안에 있는 변수라고 얘기해야 함\n",
        "            #-> self는 class의 모든 정보를 가져올 수 있음\n",
        "\n",
        "        else:\n",
        "            return f\"재고가 {self.stock}만큼 있습니다.\"\n",
        "            #없다고 말해준다\n",
        "        \n",
        "        #재고가 있으면 가격을 ㅈ고, 재고가 없으면 재고가 없다고 말해주고 싶습니다.\n",
        "        pass\n",
        "\n",
        "    def order(self,amount,money):\n",
        "        #class안에서 order_price 콜하는 방법\n",
        "        price=self.order_price(amount)\n",
        "        if price <=money:\n",
        "            #재고가 줄어듬\n",
        "            #거스름돈을 받음\n",
        "            #print('살 수 있음')\n",
        "            self.stock=self.stock-amount\n",
        "            change=money-price\n",
        "            return change\n",
        "\n",
        "        else: \n",
        "            return '못 사!'\n",
        "\n",
        "\n",
        "\n",
        "\n",
        "a_pig=Pig(100)\n",
        "b_pig=Pig(150)\n",
        "# print(a_pig.stock)\n",
        "# print(b_pig.stock)\n",
        "\n",
        "\n",
        "# print(a_pig.order_price(50))\n",
        "\n",
        "# print(a_pig.order_price(150))\n",
        "print(a_pig.order(50,100000))"
      ],
      "metadata": {
        "colab": {
          "base_uri": "https://localhost:8080/"
        },
        "id": "ICaEldQ2fysO",
        "outputId": "bf21eec6-72cb-42f3-c74f-e7539747437f"
      },
      "execution_count": 46,
      "outputs": [
        {
          "output_type": "stream",
          "name": "stdout",
          "text": [
            "50000\n"
          ]
        }
      ]
    },
    {
      "cell_type": "code",
      "source": [
        "class Doggy:\n",
        "    num_of_dogs=0\n",
        "    birth_of_dogs=0\n",
        "\n",
        "\n",
        "    def __init__(self,name,species):\n",
        "        self.name=name\n",
        "        self.species=species\n",
        "\n",
        "\n",
        "\n",
        "    def bark(self):\n",
        "        print('bowwow')\n",
        "\n",
        "    def get_status(self, num):\n",
        "        if num == -1:\n",
        "            Doggy.num_of_dogs -= 1\n",
        "\n",
        "            return self.num_of_dogs\n",
        "\n",
        "        elif num == 1:\n",
        "            Doggy.num_of_dogs += 1\n",
        "            Doggy.birth_of_dogs += 1\n",
        "            return self.num_of_dogs,self.birth_of_dogs\n",
        "\n",
        "dog = Doggy('dog','pome')\n",
        "dog.bark()\n",
        "#dog.get_status(-1)\n"
      ],
      "metadata": {
        "colab": {
          "base_uri": "https://localhost:8080/"
        },
        "id": "KjD28uV8ie1l",
        "outputId": "fe5dc0af-b3e4-409f-db51-3d38a988be2b"
      },
      "execution_count": 34,
      "outputs": [
        {
          "output_type": "stream",
          "name": "stdout",
          "text": [
            "bowwow\n"
          ]
        }
      ]
    },
    {
      "cell_type": "code",
      "source": [],
      "metadata": {
        "colab": {
          "base_uri": "https://localhost:8080/"
        },
        "id": "E-1_l-Hs06AA",
        "outputId": "9c5e14c7-4853-41b3-9e6e-8e349f621b5c"
      },
      "execution_count": 35,
      "outputs": [
        {
          "output_type": "stream",
          "name": "stdout",
          "text": [
            "<__main__.Doggy object at 0x7f8b056c5790>\n"
          ]
        }
      ]
    },
    {
      "cell_type": "code",
      "source": [
        "class Pig:\n",
        "#class 변수 설정\n",
        "    belly_price = 1000 # 클래스 변수\n",
        "\n",
        "    def __init__(self,stock):\n",
        "        self.stock=stock\n",
        "\n",
        "\n",
        "    #1 B 돼지 할인 80%\n",
        "    def sales(self,sales_point):\n",
        "        self.sales_point=sales_point\n",
        "        sales_price=self.belly_price*sales_point/100\n",
        "\n",
        "        return sales_price\n",
        "\n",
        "    #원래 가격\n",
        "    def origin_price():\n",
        "        belly_price= self.belly_price\n",
        "        return belly_price\n",
        "\n",
        "\n",
        "\n",
        "    #3 B돼지 살껴\n",
        "    def compare_price(self, stocks):\n",
        "        self.stocks=stocks\n",
        "        origin_price=stocks*self.belly_price\n",
        "        sales_price=origin_price*(self.sales_point/100)\n",
        "        print(self.sales_point)\n",
        "\n",
        "\n",
        "        return f\"원가{origin_price} \\n  할인된 가격{int(sales_price)}\"\n",
        "\n",
        "\n",
        "\n",
        "        \n",
        "        \n",
        "        \n",
        "        pass\n",
        "\n",
        "    #2. 원래 가격 \n",
        "\n",
        "\n",
        "\n",
        "#3. B돼지 살꺼야\n",
        "\n",
        "b_pig=Pig(150)\n",
        "b_pig.sales(80)\n",
        "b_pig.compare_price(50)\n",
        "b_pig.origin_price()"
      ],
      "metadata": {
        "colab": {
          "base_uri": "https://localhost:8080/",
          "height": 230
        },
        "id": "Y5caXCoS2M6g",
        "outputId": "5d234c35-4b97-4b2e-9729-34a455b438b3"
      },
      "execution_count": 76,
      "outputs": [
        {
          "output_type": "stream",
          "name": "stdout",
          "text": [
            "80\n"
          ]
        },
        {
          "output_type": "error",
          "ename": "TypeError",
          "evalue": "ignored",
          "traceback": [
            "\u001b[0;31m---------------------------------------------------------------------------\u001b[0m",
            "\u001b[0;31mTypeError\u001b[0m                                 Traceback (most recent call last)",
            "\u001b[0;32m<ipython-input-76-dc3fba44f646>\u001b[0m in \u001b[0;36m<module>\u001b[0;34m\u001b[0m\n\u001b[1;32m     47\u001b[0m \u001b[0mb_pig\u001b[0m\u001b[0;34m.\u001b[0m\u001b[0msales\u001b[0m\u001b[0;34m(\u001b[0m\u001b[0;36m80\u001b[0m\u001b[0;34m)\u001b[0m\u001b[0;34m\u001b[0m\u001b[0;34m\u001b[0m\u001b[0m\n\u001b[1;32m     48\u001b[0m \u001b[0mb_pig\u001b[0m\u001b[0;34m.\u001b[0m\u001b[0mcompare_price\u001b[0m\u001b[0;34m(\u001b[0m\u001b[0;36m50\u001b[0m\u001b[0;34m)\u001b[0m\u001b[0;34m\u001b[0m\u001b[0;34m\u001b[0m\u001b[0m\n\u001b[0;32m---> 49\u001b[0;31m \u001b[0mb_pig\u001b[0m\u001b[0;34m.\u001b[0m\u001b[0morigin_price\u001b[0m\u001b[0;34m(\u001b[0m\u001b[0;34m)\u001b[0m\u001b[0;34m\u001b[0m\u001b[0;34m\u001b[0m\u001b[0m\n\u001b[0m",
            "\u001b[0;31mTypeError\u001b[0m: origin_price() takes 0 positional arguments but 1 was given"
          ]
        }
      ]
    },
    {
      "cell_type": "code",
      "source": [],
      "metadata": {
        "id": "CnXQ3h7Q8D9E"
      },
      "execution_count": null,
      "outputs": []
    }
  ]
}