{
  "nbformat": 4,
  "nbformat_minor": 0,
  "metadata": {
    "colab": {
      "provenance": [],
      "authorship_tag": "ABX9TyPMr1DK3xga5P5kaz7kTcfi",
      "include_colab_link": true
    },
    "kernelspec": {
      "name": "python3",
      "display_name": "Python 3"
    },
    "language_info": {
      "name": "python"
    }
  },
  "cells": [
    {
      "cell_type": "markdown",
      "metadata": {
        "id": "view-in-github",
        "colab_type": "text"
      },
      "source": [
        "<a href=\"https://colab.research.google.com/github/Seobway23/Laptop/blob/master/2023_01_30.ipynb\" target=\"_parent\"><img src=\"https://colab.research.google.com/assets/colab-badge.svg\" alt=\"Open In Colab\"/></a>"
      ]
    },
    {
      "cell_type": "markdown",
      "source": [
        "# 2023.01.30 Class, instance\n",
        "\n",
        "클래스 , 인스턴스"
      ],
      "metadata": {
        "id": "nDKjc9QZam2Y"
      }
    },
    {
      "cell_type": "code",
      "execution_count": 81,
      "metadata": {
        "colab": {
          "base_uri": "https://localhost:8080/"
        },
        "id": "bjLL24-Z93Ka",
        "outputId": "d2acb0e2-ac6a-477f-c273-dd27a0d109c1"
      },
      "outputs": [
        {
          "output_type": "stream",
          "name": "stdout",
          "text": [
            "인구수는 2입니다\n",
            "인구수는 2입니다\n",
            "인구수는 2입니다\n"
          ]
        }
      ],
      "source": [
        "class Person:\n",
        "    count=0\n",
        "    def __init__(self, name):\n",
        "        self.name=name\n",
        "        Person.count+=1\n",
        "\n",
        "\n",
        "    @classmethod\n",
        "\n",
        "    def number_of_population(cls):\n",
        "        print(f'인구수는 {cls.count}입니다')\n",
        "\n",
        "person1=Person('아이유')\n",
        "person2=Person('이찬혁')\n",
        "\n",
        "Person.number_of_population()\n",
        "person1.number_of_population()\n",
        "person2.number_of_population()"
      ]
    },
    {
      "cell_type": "markdown",
      "source": [
        "데일리과제 7-2. 객체지향 프로그래밍의 이해와 기본 사용 예제 1\t\t\n",
        "데일리과제 7-4. 객체지향 프로그래밍의 이해와 기본 사용 예제 2"
      ],
      "metadata": {
        "id": "3uRmMiHQaqAo"
      }
    },
    {
      "cell_type": "code",
      "source": [
        "class Pig:\n",
        "    belly_price=1000 # class 변수\n",
        "\n",
        "    def __init__(self,stock):\n",
        "        self.stock=stock\n",
        "\n",
        "\n",
        "\n",
        "    # 주문이 들어왔을 때 가격 계산\n",
        "    def order_price(self, amount):\n",
        "        if self.stock>=amount:\n",
        "            return self.belly_price*amount\n",
        "            #클래스 안에 있는 변수라고 얘기해야 함\n",
        "            #-> self는 class의 모든 정보를 가져올 수 있음\n",
        "\n",
        "        else:\n",
        "            return f\"재고가 {self.stock}만큼 있습니다.\"\n",
        "            #없다고 말해준다\n",
        "        \n",
        "        #재고가 있으면 가격을 ㅈ고, 재고가 없으면 재고가 없다고 말해주고 싶습니다.\n",
        "        pass\n",
        "\n",
        "    def order(self,amount,money):\n",
        "        #class안에서 order_price 콜하는 방법\n",
        "        price=self.order_price(amount)\n",
        "        if price <=money:\n",
        "            #재고가 줄어듬\n",
        "            #거스름돈을 받음\n",
        "            #print('살 수 있음')\n",
        "            self.stock=self.stock-amount\n",
        "            change=money-price\n",
        "            return change\n",
        "\n",
        "        else: \n",
        "            return '못 사!'\n",
        "\n",
        "\n",
        "\n",
        "\n",
        "a_pig=Pig(100)\n",
        "b_pig=Pig(150)\n",
        "# print(a_pig.stock)\n",
        "# print(b_pig.stock)\n",
        "\n",
        "\n",
        "# print(a_pig.order_price(50))\n",
        "\n",
        "# print(a_pig.order_price(150))\n",
        "print(a_pig.order(50,100000))"
      ],
      "metadata": {
        "colab": {
          "base_uri": "https://localhost:8080/"
        },
        "id": "ICaEldQ2fysO",
        "outputId": "bf21eec6-72cb-42f3-c74f-e7539747437f"
      },
      "execution_count": 46,
      "outputs": [
        {
          "output_type": "stream",
          "name": "stdout",
          "text": [
            "50000\n"
          ]
        }
      ]
    },
    {
      "cell_type": "code",
      "source": [
        "class Pig:\n",
        "#class 변수 설정\n",
        "    belly_price = 1000 # 클래스 변수\n",
        "\n",
        "    def __init__(self,stock):\n",
        "        self.stock=stock\n",
        "\n",
        "\n",
        "    #1 B 돼지 할인 80%\n",
        "    def sales(self,sales_point):\n",
        "        self.sales_point=sales_point\n",
        "        sales_price=self.belly_price*sales_point/100\n",
        "\n",
        "        return sales_price\n",
        "\n",
        "    #2 원래 가격\n",
        "    def origin_price(self, ):\n",
        "        belly_price= self.belly_price\n",
        "        return self.belly_price\n",
        "\n",
        "\n",
        "\n",
        "    #3 B돼지 살껴\n",
        "    def compare_price(self, stocks):\n",
        "        self.stocks=stocks\n",
        "        origin_price=stocks*self.belly_price\n",
        "        sales_price=origin_price*(self.sales_point/100)\n",
        "        print(self.sales_point)\n",
        "\n",
        "\n",
        "        return f\"원가{origin_price} \\n  할인된 가격{int(sales_price)}\"\n",
        "\n",
        "\n",
        "\n",
        "        \n",
        "        \n",
        "        \n",
        "        pass\n",
        "\n",
        "    #2. 원래 가격 \n",
        "\n",
        "\n",
        "\n",
        "#3. B돼지 살꺼야\n",
        "\n",
        "b_pig=Pig(150)\n",
        "#b_pig.sales(80)\n",
        "#b_pig.compare_price(50)\n",
        "b_pig.origin_price()"
      ],
      "metadata": {
        "colab": {
          "base_uri": "https://localhost:8080/"
        },
        "id": "Y5caXCoS2M6g",
        "outputId": "658f5e19-352b-4e1f-b6cb-5cdf97bc8eb4"
      },
      "execution_count": 80,
      "outputs": [
        {
          "output_type": "execute_result",
          "data": {
            "text/plain": [
              "1000"
            ]
          },
          "metadata": {},
          "execution_count": 80
        }
      ]
    },
    {
      "cell_type": "code",
      "source": [
        "class Dog:\n",
        "    num_of_dogs=0\n",
        "    birth_of_dogs=0\n",
        "\n",
        "    def __init__(self,name,species):\n",
        "        self.name=name\n",
        "        self.species=species\n",
        "\n",
        "    def bark(self,):\n",
        "        print('bowowowowowowow')\n",
        "\n",
        "    def get_status(self,num_dogs):\n",
        "        self.num_dogs=num_dogs\n",
        "        if num_dogs>=1:\n",
        "            self.num_of_dogs+=num_dogs\n",
        "            self.birth_of_dogs+=num_dogs\n",
        "\n",
        "        elif num_dogs<=-1:\n",
        "            self.num_of_dogs-=num_dogs\n",
        "\n",
        "\n",
        "        return self.birth_of_dogs ,self.num_of_dogs\n",
        "\n",
        "\n",
        "\n",
        "dog_1=Dog('dog1','spich')\n",
        "dog_1.bark()\n",
        "dog_1.get_status(-1)\n",
        "\n",
        "\n"
      ],
      "metadata": {
        "colab": {
          "base_uri": "https://localhost:8080/"
        },
        "id": "CnXQ3h7Q8D9E",
        "outputId": "f2d2aa96-6e6f-49c7-9a58-7328865d6dfa"
      },
      "execution_count": 102,
      "outputs": [
        {
          "output_type": "stream",
          "name": "stdout",
          "text": [
            "bowowowowowowow\n"
          ]
        },
        {
          "output_type": "execute_result",
          "data": {
            "text/plain": [
              "(0, 1)"
            ]
          },
          "metadata": {},
          "execution_count": 102
        }
      ]
    },
    {
      "cell_type": "markdown",
      "source": [
        "### TypeError: bark() takes 0 positional arguments but 1 was given\n",
        "\n",
        "def bark():  \n",
        "    print('bowowowowowowow')   \n",
        "를 하니 위와 같은 에러가 나옴\n",
        "-> 이 뜻은 파라미터 0개인 함수에다가 파라미터 없이 호출을 해야 하는데, 파라미터를 호출했기 때문임 "
      ],
      "metadata": {
        "id": "D92zkbZkEimP"
      }
    },
    {
      "cell_type": "code",
      "source": [
        "#주어진 수가 1이 될 때까지 다음 작업을 반복하면, 모든 수를 1로 만들수 있다는 추측\n",
        "\n",
        "\n",
        "#1 짝수라면 2를 나눈다\n",
        "#2 홀수라면 3을 곱하고 1을 더한다\n",
        "#3 결과로 나온 수에 같은 작업을 1이 될 때까지 반복한다.\n",
        "\n",
        "\n",
        "def collatz(x):\n",
        "    count_x=0\n",
        "    while True:\n",
        "        if x==1:\n",
        "            if count_x<500:\n",
        "                return count_x\n",
        "            else:\n",
        "                return -1\n",
        "\n",
        "        else:\n",
        "            if x%2==0:\n",
        "                x=int(x/2)\n",
        "                count_x+=1\n",
        "\n",
        "            else:\n",
        "                x=3*x+1\n",
        "                count_x+=1\n",
        "    \n",
        "\n"
      ],
      "metadata": {
        "colab": {
          "base_uri": "https://localhost:8080/"
        },
        "id": "kn4Lwg33KXwj",
        "outputId": "6cb8a840-a2dc-4b0c-a7eb-215e75b34925"
      },
      "execution_count": 151,
      "outputs": [
        {
          "output_type": "execute_result",
          "data": {
            "text/plain": [
              "111"
            ]
          },
          "metadata": {},
          "execution_count": 151
        }
      ]
    },
    {
      "cell_type": "code",
      "source": [
        "collatz(6) #=> 8\n",
        "collatz(16) #=> 4\n",
        "collatz(27) #=> 111\n",
        "collatz(626331) #=> -1\n"
      ],
      "metadata": {
        "id": "KVHznHDND7dg"
      },
      "execution_count": null,
      "outputs": []
    },
    {
      "cell_type": "code",
      "source": [
        "x=6\n",
        "count_x=0\n",
        "\n",
        "while True:\n",
        "    if x==1:\n",
        "        print('어이')\n",
        "        print(x)\n",
        "        break\n",
        "\n",
        "    else:\n",
        "        if x%2==0:\n",
        "            x=int(x/2)\n",
        "            count_x+=1\n",
        "\n",
        "        else:\n",
        "            x=3*x+1\n",
        "            count_x+=1\n",
        " \n",
        "    "
      ],
      "metadata": {
        "colab": {
          "base_uri": "https://localhost:8080/"
        },
        "id": "dw3b8BH9J4Hb",
        "outputId": "129e5bd0-9bcf-46a0-ad62-8365cee998a6"
      },
      "execution_count": 142,
      "outputs": [
        {
          "output_type": "stream",
          "name": "stdout",
          "text": [
            "3\n",
            "10\n",
            "5\n",
            "16\n",
            "8\n",
            "4\n",
            "2\n",
            "1\n",
            "어이\n",
            "1\n"
          ]
        }
      ]
    },
    {
      "cell_type": "code",
      "source": [],
      "metadata": {
        "id": "RW_2SH8-PZiY"
      },
      "execution_count": null,
      "outputs": []
    }
  ]
}