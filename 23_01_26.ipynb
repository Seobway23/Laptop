{
  "nbformat": 4,
  "nbformat_minor": 0,
  "metadata": {
    "colab": {
      "provenance": [],
      "authorship_tag": "ABX9TyMQ4rOHXDi5ZUAdxkGKHsO3",
      "include_colab_link": true
    },
    "kernelspec": {
      "name": "python3",
      "display_name": "Python 3"
    },
    "language_info": {
      "name": "python"
    }
  },
  "cells": [
    {
      "cell_type": "markdown",
      "metadata": {
        "id": "view-in-github",
        "colab_type": "text"
      },
      "source": [
        "<a href=\"https://colab.research.google.com/github/Seobway23/laptop/blob/master/23_01_26.ipynb\" target=\"_parent\"><img src=\"https://colab.research.google.com/assets/colab-badge.svg\" alt=\"Open In Colab\"/></a>"
      ]
    },
    {
      "cell_type": "code",
      "execution_count": 12,
      "metadata": {
        "colab": {
          "base_uri": "https://localhost:8080/"
        },
        "id": "M8QQ6AXEZDwZ",
        "outputId": "4b7b1643-5864-4033-c7a8-dd0c4f2c00a3"
      },
      "outputs": [
        {
          "output_type": "stream",
          "name": "stdout",
          "text": [
            "char: 8, digit: 3,symbol: 7\n"
          ]
        }
      ],
      "source": [
        "# 문자열이 주어지면, 숫자, 문자, 기호가 몇개인지 출력하는 함수를 만들어봐\n",
        "\n",
        "def check(input_str):\n",
        "    char_count=0\n",
        "    digit_count=0\n",
        "    symbol_count=0\n",
        "\n",
        "    for char in input_str:\n",
        "        if char.isalpha():\n",
        "            char_count+=1\n",
        "            \n",
        "        \n",
        "        elif char.isdigit():\n",
        "            digit_count+=1\n",
        "\n",
        "        else:\n",
        "            symbol_count+=1\n",
        "\n",
        "    return char_count,digit_count,symbol_count\n",
        "    #return은 하나만 할 수 있음 -> 묶어서 해도 됨, 괄호 안써도 됨\n",
        "\n",
        "\n",
        "input_str=\"123##$%$%iden_snow\"\n",
        "\n",
        "char_count, digit_count, symbol_count=check(input_str)\n",
        "\n",
        "print(f\"char: {char_count}, digit: {digit_count},symbol: {symbol_count}\")\n",
        "\n",
        "\n",
        "\n",
        "#튜플로 묶여서 반환한다 무슨 뜻? 바뀌지 않는 값을 반환한다는 뜻?"
      ]
    },
    {
      "cell_type": "code",
      "source": [
        "# 순서가 없는 데이터구조 set-> 집합\n",
        "\n"
      ],
      "metadata": {
        "id": "IZif1tyGaAlK"
      },
      "execution_count": null,
      "outputs": []
    },
    {
      "cell_type": "code",
      "source": [
        "s={1,2,3}  # set은 중복을 허용하지 않는 데이터 구조\n",
        "\n",
        "\n",
        "s.pop() #제거하고 제거한 값을 반환한다.\n",
        "\n",
        "\n",
        "\n",
        "s"
      ],
      "metadata": {
        "colab": {
          "base_uri": "https://localhost:8080/"
        },
        "id": "4Sm4qLEEawc_",
        "outputId": "b30d2b9a-97dc-4561-ef74-a896f73d30fb"
      },
      "execution_count": 26,
      "outputs": [
        {
          "output_type": "execute_result",
          "data": {
            "text/plain": [
              "{2, 3}"
            ]
          },
          "metadata": {},
          "execution_count": 26
        }
      ]
    },
    {
      "cell_type": "code",
      "source": [
        "sample_list=[11,22,33,44,55]\n",
        "\n",
        "# 주어진 list의 4번째 자리에 있는 항목을 제거하고 변수에 할당해주세요\n",
        "\n",
        "a=sample_list.pop(3)\n",
        "\n",
        "print(a)\n",
        "\n",
        "\n",
        "#sample_list의 가장 뒤에 77을 추가해보세요\n",
        "\n",
        "sample_list.append(77)\n",
        "print(sample_list)\n",
        "\n",
        "#g할당해 놓은 변수의 값을 sample_list의 2번 index에 추가해보세요\n",
        "\n",
        "sample_list.insert(2, a)\n",
        "print(sample_list)\n",
        "# sample_list.insert(index, 넣고 싶은 값)\n"
      ],
      "metadata": {
        "colab": {
          "base_uri": "https://localhost:8080/"
        },
        "id": "uaVT6e9PhDk0",
        "outputId": "fff2aea3-3183-41ea-dd52-04495c29f5c4"
      },
      "execution_count": 38,
      "outputs": [
        {
          "output_type": "stream",
          "name": "stdout",
          "text": [
            "44\n",
            "[11, 22, 33, 55, 77]\n",
            "[11, 22, 44, 33, 55, 77]\n"
          ]
        }
      ]
    },
    {
      "cell_type": "code",
      "source": [
        "my_tuple=(11,22,33,44,55,66)\n",
        "\n",
        "#주어진 튜플에서 44와 55의 값을 새로운 튜플에 할당해보세요.\n",
        "\n",
        "new_tuple=my_tuple[3:5]\n",
        "print(new_tuple)\n",
        "#튜플은 슬라이싱하면 된다.\n"
      ],
      "metadata": {
        "colab": {
          "base_uri": "https://localhost:8080/"
        },
        "id": "OJjsLgqMconv",
        "outputId": "6c866653-197f-4b21-c872-c944d577cb0e"
      },
      "execution_count": 48,
      "outputs": [
        {
          "output_type": "stream",
          "name": "stdout",
          "text": [
            "(44, 55)\n"
          ]
        }
      ]
    },
    {
      "cell_type": "code",
      "source": [],
      "metadata": {
        "id": "PECJW35gjMNL"
      },
      "execution_count": null,
      "outputs": []
    }
  ]
}