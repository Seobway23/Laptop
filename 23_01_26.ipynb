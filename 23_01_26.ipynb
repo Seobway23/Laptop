{
  "nbformat": 4,
  "nbformat_minor": 0,
  "metadata": {
    "colab": {
      "provenance": [],
      "authorship_tag": "ABX9TyN4Zuu82DMlrw4gt44yXXrk",
      "include_colab_link": true
    },
    "kernelspec": {
      "name": "python3",
      "display_name": "Python 3"
    },
    "language_info": {
      "name": "python"
    }
  },
  "cells": [
    {
      "cell_type": "markdown",
      "metadata": {
        "id": "view-in-github",
        "colab_type": "text"
      },
      "source": [
        "<a href=\"https://colab.research.google.com/github/Seobway23/laptop/blob/master/23_01_26.ipynb\" target=\"_parent\"><img src=\"https://colab.research.google.com/assets/colab-badge.svg\" alt=\"Open In Colab\"/></a>"
      ]
    },
    {
      "cell_type": "code",
      "execution_count": 11,
      "metadata": {
        "colab": {
          "base_uri": "https://localhost:8080/"
        },
        "id": "M8QQ6AXEZDwZ",
        "outputId": "030a0e97-05ef-486b-a3d4-b591eac1916d"
      },
      "outputs": [
        {
          "output_type": "execute_result",
          "data": {
            "text/plain": [
              "(8, 3, 7)"
            ]
          },
          "metadata": {},
          "execution_count": 11
        }
      ],
      "source": [
        "# 문자열이 주어지면, 숫자, 문자, 기호가 몇개인지 출력하는 함수를 만들어봐\n",
        "\n",
        "def check(input_str):\n",
        "    char_count=0\n",
        "    digit_count=0\n",
        "    symbol_count=0\n",
        "\n",
        "    for char in input_str:\n",
        "        if char.isalpha():\n",
        "            char_count+=1\n",
        "            \n",
        "        \n",
        "        elif char.isdigit():\n",
        "            digit_count+=1\n",
        "\n",
        "        else:\n",
        "            symbol_count+=1\n",
        "\n",
        "    return char_count,digit_count,symbol_count\n",
        "    #return은 하나만 할 수 있음 -> 묶어서 해도 됨, 괄호 안써도 됨\n",
        "\n",
        "\n",
        "input_str=\"123##$%$%iden_snow\"\n",
        "\n",
        "check(input_str)\n",
        "\n",
        "\n",
        "\n",
        "#튜플로 묶여서 반환한다 무슨 뜻? 바뀌지 않는 값을 반환한다는 뜻?"
      ]
    },
    {
      "cell_type": "code",
      "source": [],
      "metadata": {
        "id": "IZif1tyGaAlK"
      },
      "execution_count": null,
      "outputs": []
    },
    {
      "cell_type": "code",
      "source": [],
      "metadata": {
        "id": "4Sm4qLEEawc_"
      },
      "execution_count": null,
      "outputs": []
    }
  ]
}