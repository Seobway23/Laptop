{
  "nbformat": 4,
  "nbformat_minor": 0,
  "metadata": {
    "colab": {
      "provenance": [],
      "authorship_tag": "ABX9TyPxNqGU0Sk1UhyKSPYFYlXq",
      "include_colab_link": true
    },
    "kernelspec": {
      "name": "python3",
      "display_name": "Python 3"
    },
    "language_info": {
      "name": "python"
    }
  },
  "cells": [
    {
      "cell_type": "markdown",
      "metadata": {
        "id": "view-in-github",
        "colab_type": "text"
      },
      "source": [
        "<a href=\"https://colab.research.google.com/github/Seobway23/Laptop/blob/master/codeup_greedy.ipynb\" target=\"_parent\"><img src=\"https://colab.research.google.com/assets/colab-badge.svg\" alt=\"Open In Colab\"/></a>"
      ]
    },
    {
      "cell_type": "markdown",
      "source": [
        "# 2001: 최소 대금\n",
        "\n",
        "input 5개-> 대금의 최솟값\n",
        "3개는 파스타\n",
        "2개는 쥬스\n",
        "\n",
        "최소 파스타와 쥬스를 설정한 후\n",
        "합계의 10% 부가세 넣기\n"
      ],
      "metadata": {
        "id": "kHmqOZOLyFyn"
      }
    },
    {
      "cell_type": "code",
      "execution_count": null,
      "metadata": {
        "colab": {
          "base_uri": "https://localhost:8080/"
        },
        "id": "DM0nGaI-x6eh",
        "outputId": "6ff44056-a5c6-482c-9f65-7e7ba706e91b"
      },
      "outputs": [
        {
          "output_type": "stream",
          "name": "stdout",
          "text": [
            "800\n",
            "700\n",
            "900\n",
            "198\n",
            "330\n",
            "[800, 700, 900]\n",
            "[198, 330]\n",
            "987.8\n"
          ]
        }
      ],
      "source": [
        "pasta_list=[]\n",
        "juice_list=[]\n",
        "for i in range(3):\n",
        "    N=int(input())\n",
        "    pasta_list.append(N)\n",
        "\n",
        "\n",
        "for i in range(2):\n",
        "    N=int(input())\n",
        "    juice_list.append(N)\n",
        "\n",
        "min_list=min(pasta_list)+min(juice_list)\n",
        "final_cost=min_list*(1+0.1)\n",
        "\n",
        "\n",
        "print(round(final_cost,1))\n",
        "\n"
      ]
    },
    {
      "cell_type": "markdown",
      "source": [
        "# 3120: 리모컨\n",
        "\n",
        "a,b input받음  \n",
        "a= 현재 온도  \n",
        "b= 목표 온도\n"
      ],
      "metadata": {
        "id": "5203ZeUO1r4F"
      }
    },
    {
      "cell_type": "code",
      "source": [
        "# 잘못 접근함\n",
        "# 22 3 의 경우 19인데 -> 20 -1 로 할 수 있음\n",
        "# 이렇게 될 경우, -1은 고려하지 않게 되므로 더 효율적인 버튼 누르기가 될 수 없음\n",
        "\n",
        "a,b=map(int,input().split())\n",
        "cnt=0\n",
        "\n",
        "# 목표 온도가 더 큰 경우(겨울일 때)\n",
        "if a<b:\n",
        "    while True:\n",
        "        if b-a==0:\n",
        "            print(cnt)\n",
        "            break\n",
        "\n",
        "        else:\n",
        "            if b-a>=10:\n",
        "                b=b-10\n",
        "                cnt+=1\n",
        "\n",
        "\n",
        "            elif 10>b-a and b-a>=5:\n",
        "                b=b-5\n",
        "                cnt+=1\n",
        "\n",
        "\n",
        "            elif 5>b-a and b-a>=1:\n",
        "                b=b-1\n",
        "                cnt+=1\n",
        "\n",
        "            elif b-a==4 or 9:\n",
        "                cnt+=2\n",
        "                break\n",
        "\n",
        "            elif b-a==8:\n",
        "                cnt+=3\n",
        "                break\n",
        "\n",
        "\n",
        "\n",
        "# 목표 온도가 더 작은 경우(여름일 때)\n",
        "elif a>b:\n",
        "    \n",
        "    while True:\n",
        "        if a-b==0:\n",
        "            print(cnt)\n",
        "            break\n",
        "\n",
        "        else:\n",
        "            if a-b>=10:\n",
        "                a=a-10\n",
        "                cnt+=1\n",
        "                print(a-b,'10')\n",
        "                print(cnt,'cnt10')\n",
        "\n",
        "            elif 10>a-b and a-b>=5:\n",
        "                a=a-5\n",
        "                cnt+=1\n",
        "                print(a-b,'5')\n",
        "                print(cnt,'cnt5')\n",
        "\n",
        "            elif 5>a-b and a-b>=1:\n",
        "                a=a-1\n",
        "                cnt+=1\n",
        "                print(a-b,'1')\n",
        "                print(cnt,'cnt1')                \n",
        "\n",
        "#목표 온도가 같은 경우\n",
        "elif a==b:\n",
        "    print(0)\n",
        "            \n",
        "\n",
        "\n"
      ],
      "metadata": {
        "id": "EQIymMS1zKpe",
        "colab": {
          "base_uri": "https://localhost:8080/"
        },
        "outputId": "e937fe74-58d6-4a72-e74a-63a9aba5c6fd"
      },
      "execution_count": null,
      "outputs": [
        {
          "output_type": "stream",
          "name": "stdout",
          "text": [
            "22 3\n",
            "9 10\n",
            "1 cnt10\n",
            "4 5\n",
            "2 cnt5\n",
            "3 1\n",
            "3 cnt1\n",
            "2 1\n",
            "4 cnt1\n",
            "1 1\n",
            "5 cnt1\n",
            "0 1\n",
            "6 cnt1\n",
            "6\n"
          ]
        }
      ]
    },
    {
      "cell_type": "code",
      "source": [
        "a,b=map(int,input().split())\n",
        "cnt=0\n",
        "c=abs(b-a) #절댓값을 사용하여 b-a가 양수이거나 음수일 경우를 고려하지 않아도 됨\n",
        "\n",
        "while True:\n",
        "    if c==0:\n",
        "        break\n",
        "\n",
        "    else:\n",
        "        if c>=10:\n",
        "            c=c-10\n",
        "            cnt+=1\n",
        "\n",
        "\n",
        "        elif c==4 or c==9: #c==4 or 9 와 c==4 or c==9의 차이는?\n",
        "            cnt+=2\n",
        "\n",
        "            break\n",
        "\n",
        "        elif c==8:\n",
        "            cnt+=3\n",
        "            break  \n",
        "\n",
        "        elif 10>c and c>=5:\n",
        "            c=c-5\n",
        "            cnt+=1\n",
        "\n",
        "        elif 5>c and c>=1:\n",
        "            c=c-1\n",
        "            cnt+=1\n",
        "\n",
        "\n",
        "print(cnt)\n",
        "\n",
        "# 키포인트는 +뿐만 아니라 -도 사용한다는 것!\n",
        "\n",
        "\n",
        "#https://hei-jayden.tistory.com/40"
      ],
      "metadata": {
        "colab": {
          "base_uri": "https://localhost:8080/"
        },
        "id": "a8Mzez3jPquu",
        "outputId": "eb8b209b-1871-453f-9714-037a501e8b99"
      },
      "execution_count": null,
      "outputs": [
        {
          "output_type": "stream",
          "name": "stdout",
          "text": [
            "7 34\n",
            "5\n"
          ]
        }
      ]
    },
    {
      "cell_type": "code",
      "source": [
        "#이런식으로도 풀어볼까\n",
        "\n",
        "a,b = map(int,input().split())\n",
        "#7 34\n",
        "btn=[10,5,1]\n",
        "c=abs(b-a)\n",
        "\n",
        "cnt=0; i=0\n",
        "while c!=0:\n",
        "    if c>=btn[i]:\n",
        "        c=c-btn[i]\n",
        "        cnt+=1\n",
        "    else:\n",
        "        i+=1\n",
        "\n",
        "print(cnt)\n",
        "\n"
      ],
      "metadata": {
        "id": "hmFqmzbU_C5v",
        "colab": {
          "base_uri": "https://localhost:8080/"
        },
        "outputId": "5e5aad5e-0b8d-4a4d-afd9-e45fd4e7adbd"
      },
      "execution_count": null,
      "outputs": [
        {
          "output_type": "stream",
          "name": "stdout",
          "text": [
            "7 34\n",
            "5\n"
          ]
        }
      ]
    },
    {
      "cell_type": "code",
      "source": [
        "a,b=map(int,input().split())\n",
        "btn=[10,5,1]\n",
        "c=abs(b-a)\n",
        "\n",
        "\n",
        "cnt=0; i=0\n",
        "while c!=0: #c가 0이 되면 그만!\n",
        "    if c>=btn[i]:\n",
        "        c=c-btn[i]\n",
        "        cnt+=1\n",
        "\n",
        "    elif c==4 or c== 9:\n",
        "        cnt+=2\n",
        "        break\n",
        "\n",
        "    elif c==7 or 8:\n",
        "        cnt+=3\n",
        "        break\n",
        "\n",
        "    else:\n",
        "        i+=1\n",
        "\n",
        "print(cnt)\n",
        "\n"
      ],
      "metadata": {
        "colab": {
          "base_uri": "https://localhost:8080/"
        },
        "id": "xy4_PhwaJQQK",
        "outputId": "8a7b2023-f7ca-4b5d-9915-0b1ab9a5bdcc"
      },
      "execution_count": null,
      "outputs": [
        {
          "output_type": "stream",
          "name": "stdout",
          "text": [
            "0 31\n",
            "6\n"
          ]
        }
      ]
    },
    {
      "cell_type": "code",
      "source": [
        "#이런식으로도 풀어볼까\n",
        "\n",
        "a,b = map(int,input().split())\n",
        "#7 34\n",
        "btn=[10,5,1]\n",
        "c=abs(b-a)\n",
        "\n",
        "cnt=0; i=0\n",
        "while c!=0:\n",
        "    if c>=btn[i]:\n",
        "        c=c-btn[i]\n",
        "        cnt+=1\n",
        "    else:\n",
        "        i+=1\n",
        "\n",
        "print(cnt)\n",
        "\n"
      ],
      "metadata": {
        "id": "L4NmyySgKcb5"
      },
      "execution_count": null,
      "outputs": []
    },
    {
      "cell_type": "markdown",
      "source": [
        "# Array "
      ],
      "metadata": {
        "id": "meUQQz9f9pJx"
      }
    },
    {
      "cell_type": "code",
      "source": [
        "# 오름 차순 정렬 \n",
        "\n",
        "\n",
        "T=int(input())\n",
        "\n",
        "for i in range(T):\n",
        "    N=int(input())\n",
        "    B=list(map(int,input().split()))\n",
        "\n",
        "    #오름차순 정렬\n",
        "\n",
        "#-> 이거는 지금 리스트 하나에서만 어떻게 되는지 판별하는 것\n",
        "\n",
        "    for  i in range(1,N): #-> 0,1,2,3,4\n",
        "        print(B[i-1])\n",
        "        print(B[i])\n",
        "\n",
        "\n",
        "\n"
      ],
      "metadata": {
        "colab": {
          "base_uri": "https://localhost:8080/"
        },
        "id": "AhOrn1Qg8Cnq",
        "outputId": "394281d5-ef3e-44bd-b125-e56ceaf1eba3"
      },
      "execution_count": null,
      "outputs": [
        {
          "output_type": "stream",
          "name": "stdout",
          "text": [
            "1\n",
            "3\n",
            "12 5 1\n",
            "12\n",
            "5\n",
            "5\n",
            "1\n"
          ]
        }
      ]
    },
    {
      "cell_type": "code",
      "source": [
        "arr10=[[0]*3 for _ in range(3)]\n",
        "\n",
        "arr=[[0,0,0],[0,0,0],[0,0,0]]\n",
        "#list comprehension\n",
        "N=int(input())\n",
        "arr11=[[0]+list(map(int,input().split()))+[0] for _ in range(N)]"
      ],
      "metadata": {
        "colab": {
          "base_uri": "https://localhost:8080/"
        },
        "id": "fMTrID_lJO4a",
        "outputId": "1495fb9d-628d-4539-b16a-d48068f5d5a3"
      },
      "execution_count": null,
      "outputs": [
        {
          "name": "stdout",
          "output_type": "stream",
          "text": [
            "3\n",
            "1 2 3\n",
            "4 5 6\n",
            "7 8 9\n"
          ]
        }
      ]
    },
    {
      "cell_type": "code",
      "source": [
        "#Gravity 문제 풀기\n",
        "#7 4 2 0 0 6 0 7 0\n",
        "\n",
        "def bubbleSort(a,N):\n",
        "    for i in range(N-1,0,-1):\n",
        "        for J in range(0,i):\n",
        "            if j in range(0,i):\n",
        "                if a[j]>a[j+1]:\n",
        "                    a[j],a[j+1]=a[j+1],a[j]\n",
        "\n",
        "    return a[0]\n",
        "\n",
        "\n",
        "Box_TC=int(input()) \n",
        "N=int(input())\n",
        "box=list(map(int,input().split()))\n",
        "ans=[0]*N\n",
        "\n",
        "# i 0부터 N-1 박스 i의 오른쪽에 있는 애들 중에 작은 애들 개수\n",
        "for i in range(N):\n",
        "    cnt=0\n",
        "\n",
        "    for j in range(i+1,N-1):\n",
        "        if box[i]>box[j]:\n",
        "            cnt+=1\n",
        "\n",
        "    ans[i]=cnt\n",
        "\n",
        "print(max(ans))\n",
        "\n",
        "### 잘 모르겠음!!"
      ],
      "metadata": {
        "colab": {
          "base_uri": "https://localhost:8080/"
        },
        "id": "1_kqXLb_ZGOf",
        "outputId": "c4e4d2bd-6366-4c80-8cfd-6eb8cd3eb2bb"
      },
      "execution_count": null,
      "outputs": [
        {
          "output_type": "stream",
          "name": "stdout",
          "text": [
            "1\n",
            "5\n",
            "5 4 3 2 1\n",
            "3\n"
          ]
        }
      ]
    },
    {
      "cell_type": "code",
      "source": [
        "T=int(input())\n",
        "for test_case in range(1,T+1):\n",
        "    N=int(input())\n",
        "    lst=list(map(int,input().split()))\n",
        "    #ans는 인트형으로 놓고 최종 프린트 할 것\n",
        "    ans=0\n",
        "\n",
        "    for i in range(N-1):\n",
        "        cnt=0# 각 i 마다 cnt 초기화\n",
        "        for j in range(i+1,N): #N-1을 빼야 하므로 N까지 설정\n",
        "            if lst[i]>lst[j]:\n",
        "                cnt+=1\n",
        "            \n",
        "            if ans<cnt:      #최댓 값 갱신\n",
        "                ans=cnt\n",
        "\n",
        "    print(f\"#{test_case} {ans}\")\n"
      ],
      "metadata": {
        "colab": {
          "base_uri": "https://localhost:8080/"
        },
        "id": "PDa-80KFhc7C",
        "outputId": "a14ad830-4a9f-43b1-dd72-3d2d491ba2a4"
      },
      "execution_count": null,
      "outputs": [
        {
          "output_type": "stream",
          "name": "stdout",
          "text": [
            "1\n",
            "5\n",
            "5 0 0 2 3\n",
            "#1 4\n"
          ]
        }
      ]
    },
    {
      "cell_type": "code",
      "source": [
        "# 가장 큰 수와 가장 작은 수의 차이\n",
        "\n",
        "T = int(input())\n",
        "for test_case in range(1, T + 1):\n",
        "    N=int(input())\n",
        "    lst=list(map(int,input().split()))\n",
        "\n",
        "    max_N=lst[0]\n",
        "    min_N=lst[0]\n",
        "    for i in range(N-1):\n",
        "        for j in range(i+1,N):\n",
        "\n",
        "            if lst[i]<lst[j]:\n",
        "                if lst[i]<min_N:\n",
        "                    min_N=lst[i]\n",
        "                   \n",
        "                if lst[j]>max_N:\n",
        "                    max_N=lst[j]\n",
        "                                    \n",
        "\n",
        "            if lst[i]>lst[j]:\n",
        "\n",
        "                if min_N>lst[j]:\n",
        "                    min_N=lst[j]\n",
        "   \n",
        "                #print(max_N,'max')\n",
        "\n",
        "\n",
        "    print(f\"#{test_case} {max_N-min_N}\")   \n"
      ],
      "metadata": {
        "colab": {
          "base_uri": "https://localhost:8080/"
        },
        "id": "eYTm239vrXq2",
        "outputId": "b0e9a5dc-8450-42b1-f147-b93e6f24f46d"
      },
      "execution_count": null,
      "outputs": [
        {
          "output_type": "stream",
          "name": "stdout",
          "text": [
            "1\n",
            "10\n",
            "784386 279993 982220 996285 614710 992232 195265 359810 919192 158175\n",
            "#1 838110\n"
          ]
        }
      ]
    },
    {
      "cell_type": "code",
      "source": [
        "max_N=0\n",
        "min_N=0\n",
        "for i in range(N-1):\n",
        "    for j in range(i+1,N):\n",
        "\n",
        "        if lst[i]<lst[j]:\n",
        "            min_N=lst[i]\n",
        "            #print('min',min_N)        \n",
        "        \n",
        "        if lst[i]>lst[j]:\n",
        "\n",
        "            if min_N>lst[j]:\n",
        "                min_N=lst[j]\n",
        "\n",
        "            max_N=lst[i]\n",
        "            max_N\n",
        "            #print(max_N,'max')\n",
        "\n",
        "\n",
        "print(f\"#{test_case} {max_N-min_N}\")\n",
        "    \n",
        "#걍 갱신하면 되는 거 였음 ...\n",
        "\n"
      ],
      "metadata": {
        "colab": {
          "base_uri": "https://localhost:8080/"
        },
        "id": "qstGMMgYsoxb",
        "outputId": "611abf2b-a9a6-44e8-d3c6-3494688520b8"
      },
      "execution_count": null,
      "outputs": [
        {
          "output_type": "stream",
          "name": "stdout",
          "text": [
            "min 477162\n",
            "min 477162\n",
            "min 477162\n",
            "477162 max\n",
            "min 658880\n",
            "min 658880\n",
            "658880 max\n",
            "min 751280\n",
            "751280 max\n",
            "927930 max\n",
            "#1 630739\n"
          ]
        }
      ]
    },
    {
      "cell_type": "code",
      "source": [],
      "metadata": {
        "id": "OnhsKGkP5wdr"
      },
      "execution_count": null,
      "outputs": []
    },
    {
      "cell_type": "code",
      "source": [
        "\n",
        "min_N=1000000\n",
        "max_N=1\n",
        "#초기값은 그냥 설정하면 된다.\n",
        "#어떻게 설정할지 고민했는데, 너무 간단한 것이었음\n",
        "\n",
        "for i in range(N):\n",
        "    if max_N<lst[i]:\n",
        "        max_N=lst[i]\n",
        "\n",
        "    elif min_N>lst[i]:\n",
        "        min_N=lst[i]\n",
        "\n",
        "\n",
        "print(f\"#{test_case} {max_N-min_N}\")"
      ],
      "metadata": {
        "id": "lMgh7RoEsuVj"
      },
      "execution_count": null,
      "outputs": []
    },
    {
      "cell_type": "code",
      "source": [
        "T = int(input())\n",
        "for test_case in range(1, T + 1):\n",
        "    N, M = map(int, input().split())\n",
        "    lst = list(map(int, input().split()))\n",
        " \n",
        "    # [1] 가능한 모든 경우 실행\n",
        "    mn, mx의 초기값 설정=>무조건 갱신되는 값\n",
        "    mn = M*10000\n",
        "    mx = 0\n",
        " \n",
        "    for i in range(N-M+1):\n",
        "        sm = 0\n",
        "        for j in range(i, i+M):\n",
        "            sm += lst[j]\n",
        "        if mx<sm:\n",
        "            mx=sm\n",
        "        if mn>sm:\n",
        "            mn=sm\n",
        " \n",
        "    # [2] 루프를 줄인방법\n",
        "    sm = 0\n",
        "    for i in range(M):\n",
        "        sm += lst[i]\n",
        "    mn = mx = sm        # mn, mx값 초기화 필요\n",
        "    for i in range(M, N):\n",
        "        sm += lst[i]    # i위치 값 추가\n",
        "        sm -= lst[i-M]  # i-M 위치 값 제거\n",
        "        if mx<sm:\n",
        "            mx=sm\n",
        "        if mn>sm:\n",
        "            mn=sm\n",
        "    print(f'#{test_case} {mx-mn}')\n"
      ],
      "metadata": {
        "id": "MS6Ldu0ACYp-"
      },
      "execution_count": null,
      "outputs": []
    },
    {
      "cell_type": "code",
      "source": [
        "T=int(input())\n",
        "for test_case in range(1,T+1):\n",
        "    N,M=map(int,input().split())\n",
        "    lst=list(map(int,input().split()))\n",
        "\n",
        "    mx=0\n",
        "    mn=M*10000\n",
        "\n",
        "    for i in range(N-M+1):\n",
        "        sm=0\n",
        "        for j in range(i,i+M):\n",
        "            sm+=lst[j]\n",
        "        #작은거 부터 하는 것 중요성 -> 파이썬 핵심임 작은 것부터 min값먼저해야 함 \n",
        "\n",
        "        if sm<mn:\n",
        "            mn=sm\n",
        "\n",
        "        if sm>mx:\n",
        "            mx=sm\n",
        "\n",
        "    print(f\"#{test_case} {mx-mn}\")\n",
        "            \n"
      ],
      "metadata": {
        "colab": {
          "base_uri": "https://localhost:8080/"
        },
        "id": "fRoOFee4ChIc",
        "outputId": "b6db876e-955b-4e8b-8abc-c8c71822762d"
      },
      "execution_count": null,
      "outputs": [
        {
          "output_type": "stream",
          "name": "stdout",
          "text": [
            "1\n",
            "10 3\n",
            "1 2 3 4 5 6 7 8 9 10\n",
            "#1 -29994\n",
            "#1 -29991\n",
            "#1 -29988\n",
            "#1 -29985\n",
            "#1 -29982\n",
            "#1 -29979\n",
            "#1 -29976\n",
            "#1 -29973\n"
          ]
        }
      ]
    },
    {
      "cell_type": "code",
      "source": [
        "N,M=map(int,input().split())\n",
        "lst=list(map(int,input().split()))\n",
        "\n",
        "mx=0\n",
        "mn=10000*M\n",
        "\n",
        "for i in range(N-M+1):\n",
        "    sm=0\n",
        "    for j in range(i,i+M):\n",
        "        sm+=lst[j]\n",
        "        print(sm,\"sm임\")\n",
        "\n",
        "        if mx<sm:\n",
        "            mx=sm\n",
        "            \n",
        "\n",
        "        elif mn>sm:\n",
        "            mn=sm\n",
        "        \n",
        "    print(f'#{test_case} {mx-mn}')\n"
      ],
      "metadata": {
        "colab": {
          "base_uri": "https://localhost:8080/"
        },
        "id": "5RX2mFw4FnhU",
        "outputId": "31e9163f-df90-467b-860c-f78f00589b0d"
      },
      "execution_count": null,
      "outputs": [
        {
          "output_type": "stream",
          "name": "stdout",
          "text": [
            "10 3\n",
            "1 2 3 4 5 6 7 8 9 10\n",
            "1 sm임\n",
            "3 sm임\n",
            "6 sm임\n",
            "#1 -29994\n",
            "2 sm임\n",
            "5 sm임\n",
            "9 sm임\n",
            "#1 7\n",
            "3 sm임\n",
            "7 sm임\n",
            "12 sm임\n",
            "#1 10\n",
            "4 sm임\n",
            "9 sm임\n",
            "15 sm임\n",
            "#1 13\n",
            "5 sm임\n",
            "11 sm임\n",
            "18 sm임\n",
            "#1 16\n",
            "6 sm임\n",
            "13 sm임\n",
            "21 sm임\n",
            "#1 19\n",
            "7 sm임\n",
            "15 sm임\n",
            "24 sm임\n",
            "#1 22\n",
            "8 sm임\n",
            "17 sm임\n",
            "27 sm임\n",
            "#1 25\n"
          ]
        }
      ]
    },
    {
      "cell_type": "code",
      "source": [
        "T = int(input())\n",
        "for test_case in range(1, T + 1):\n",
        "    N=int(input())\n",
        "    lst=list(map(int,input().split()))\n",
        "    for i in range(N-1,-1,-1):\n",
        "        for j in range(0,i):\n",
        "            if lst[i]<lst[j]:\n",
        "                lst[i],lst[j]=lst[j],lst[i]\n",
        "\n",
        "\n",
        "    \n",
        "    print(f\"#{test_case}\",end=' ')  \n",
        "    for i in lst:\n",
        "        print(i,end=' ')\n",
        "        print('\\n')\n"
      ],
      "metadata": {
        "id": "f9EsNHPdGLP8",
        "colab": {
          "base_uri": "https://localhost:8080/"
        },
        "outputId": "ed5fe5cc-b3f2-4cc5-83cf-90cf862e8d59"
      },
      "execution_count": null,
      "outputs": [
        {
          "output_type": "stream",
          "name": "stdout",
          "text": [
            "1\n",
            "5\n",
            "0 3 4 5 9\n",
            "#1 0 3 4 5 9 "
          ]
        }
      ]
    },
    {
      "cell_type": "code",
      "source": [
        "#드디어 풀었다.\n",
        "T = int(input())\n",
        "for test_case in range(1, T + 1):\n",
        "    N=int(input())\n",
        "    lst=list(map(int,input().split()))\n",
        "    for i in range(N-1,-1,-1):\n",
        "        for j in range(0,i):\n",
        "            if lst[i]<lst[j]:\n",
        "                lst[i],lst[j]=lst[j],lst[i]\n",
        "    result=' '.join(map(str,lst)) #join 함수 -> int는 안되니 str로 바꿔서 join써준다.\n",
        "    print(f\"#{test_case} {result}\")\n",
        "\n"
      ],
      "metadata": {
        "colab": {
          "base_uri": "https://localhost:8080/"
        },
        "id": "SjyEjuq2VSQM",
        "outputId": "ad783b3c-8e17-45ee-bbf8-38069bbffa71"
      },
      "execution_count": null,
      "outputs": [
        {
          "output_type": "stream",
          "name": "stdout",
          "text": [
            "1\n",
            "5\n",
            "3 2 4 0 1\n",
            "#1 0 1 2 3 4\n"
          ]
        }
      ]
    },
    {
      "cell_type": "code",
      "source": [
        "T = int(input())\n",
        "for test_case in range(1, T + 1):\n",
        "    N=int(input())\n",
        "    lst=list(map(int,input().split()))\n",
        "    w_cnt=0\n",
        "    for i in range(2,N-3+1):#N-3까지 이므로 +1\n",
        "        cnt=0\n",
        "        max_w=0\n",
        "        for j in range(i-2,i+2+1):#i가 5개 숫자의 기준이기 때문에 +-2해줘야 함\n",
        "            if lst[i]>lst[j]:\n",
        "                cnt+=1\n",
        "                if max_w<lst[j]:\n",
        "                    max_w=lst[j]\n",
        "\n",
        "                # print(max_w)\n",
        "                # print(cnt,'cnt')\n",
        "\n",
        "            if cnt==4:\n",
        "                w_cnt+=lst[i]-max_w\n",
        "        \n",
        "    print(f\"#{test_case} {w_cnt}\")\n",
        "            \n",
        "\n",
        "\n"
      ],
      "metadata": {
        "colab": {
          "base_uri": "https://localhost:8080/"
        },
        "id": "XIZ0RdDgWCSd",
        "outputId": "c171f634-2009-4a9f-9824-46d859d30f1a"
      },
      "execution_count": null,
      "outputs": [
        {
          "output_type": "stream",
          "name": "stdout",
          "text": [
            "3\n",
            "100\n",
            "0 0 225 214 82 73 241 233 179 219 135 62 36 13 6 71 179 77 67 139 31 90 9 37 93 203 150 69 19 137 28 174 32 80 64 54 18 0 158 73 173 20 0 102 107 48 50 161 246 145 225 31 0 153 185 157 44 126 153 233 0 201 83 103 191 0 45 0 131 87 97 105 97 209 157 22 0 29 132 74 2 232 44 203 0 51 0 244 212 212 89 53 50 244 207 144 72 143 0 0 \n",
            "#1 691\n",
            "1000\n",
            "0 0 225 214 82 73 241 233 179 219 135 62 36 13 6 71 179 77 67 139 31 90 9 37 93 203 150 69 19 137 28 174 32 80 64 54 18 0 158 73 173 20 0 102 107 48 50 161 246 145 225 31 0 153 185 157 44 126 153 233 0 201 83 103 191 0 45 0 131 87 97 105 97 209 157 22 0 29 132 74 2 232 44 203 0 51 0 244 212 212 89 53 50 244 207 144 72 143 230 29 229 247 120 135 14 80 212 141 123 21 59 130 0 146 100 206 133 105 248 106 150 14 22 103 212 74 208 104 250 187 173 36 121 82 37 229 244 211 0 11 197 89 151 138 118 208 201 104 73 121 8 64 177 106 17 0 214 11 151 47 21 154 193 225 126 168 167 194 84 154 217 209 144 40 217 161 94 225 156 217 0 165 12 180 101 0 137 130 122 120 99 38 218 109 98 150 52 0 63 94 0 227 40 0 29 194 63 7 15 5 27 97 197 44 70 0 0 141 0 235 0 208 0 140 135 115 208 130 219 70 43 250 127 240 84 50 170 104 11 252 202 125 137 65 253 0 246 123 153 211 0 58 166 83 11 0 94 236 76 230 180 14 173 0 202 0 157 77 121 0 124 193 0 135 35 0 135 76 90 78 153 61 96 177 173 65 103 165 159 24 21 0 254 209 4 47 143 83 67 175 202 213 211 0 90 101 42 7 161 101 180 192 50 0 77 143 86 219 200 216 136 56 107 0 249 208 113 72 0 41 134 153 0 28 79 184 176 87 223 108 141 217 67 0 165 121 247 21 224 96 110 123 91 0 143 92 229 74 50 0 132 195 167 74 238 111 47 106 16 155 129 41 138 233 71 129 0 205 0 129 140 16 154 205 87 80 191 28 3 127 137 185 52 0 229 2 0 13 0 236 184 115 81 125 216 211 1 80 22 67 131 21 152 44 139 14 188 202 61 148 146 175 181 144 94 64 128 2 23 54 33 125 0 30 141 168 184 217 175 191 148 29 229 0 70 242 129 127 203 54 73 2 0 26 247 38 64 163 185 136 173 42 178 0 229 220 119 235 105 0 147 13 235 154 4 178 0 164 188 95 195 214 33 169 4 1 0 187 28 0 207 214 69 41 168 204 234 237 0 132 43 55 237 122 92 250 33 60 133 129 125 238 228 233 7 198 102 163 185 0 50 244 2 44 30 116 67 11 55 146 83 181 62 14 251 70 38 126 122 237 151 202 0 0 110 176 0 155 58 64 186 228 0 97 146 0 120 74 195 89 14 10 196 190 227 1 255 0 137 101 81 5 74 190 0 25 161 105 250 103 191 25 209 0 8 81 192 236 148 236 0 246 175 149 227 221 0 79 56 253 0 239 229 196 222 156 94 54 190 86 135 106 54 108 60 10 73 5 0 215 177 152 116 34 88 116 239 84 223 57 0 103 27 92 119 107 147 167 179 2 4 182 34 228 221 123 61 92 196 188 242 201 15 144 36 30 75 0 40 98 184 253 73 49 202 0 69 57 170 28 206 189 179 201 0 22 246 134 19 0 183 0 120 2 238 19 186 0 198 42 207 71 33 221 162 0 18 224 0 110 98 61 238 168 12 208 127 63 192 203 255 0 100 51 154 0 0 97 116 131 12 131 35 68 92 24 48 225 52 119 154 74 251 73 84 2 78 10 194 159 124 140 63 77 10 116 154 75 0 187 148 108 90 46 100 152 0 238 51 72 0 241 161 14 181 128 62 11 0 183 17 118 105 8 21 28 233 184 183 218 19 96 89 37 242 109 210 131 69 160 236 15 2 143 228 249 209 34 0 3 0 23 174 5 198 127 192 106 66 63 49 177 119 144 4 237 18 127 0 69 116 109 154 117 48 144 165 75 142 112 163 42 10 107 217 0 214 50 129 119 84 73 73 14 157 0 211 4 253 164 0 31 116 0 125 186 54 52 35 68 44 169 157 193 113 242 208 72 0 95 150 0 95 23 0 51 195 146 8 170 240 28 173 79 133 88 0 30 86 187 159 37 235 13 29 7 1 236 213 124 8 72 0 208 163 232 80 0 43 227 227 32 45 40 80 23 231 247 226 0 207 101 88 45 0 220 98 60 250 0 39 104 171 45 193 155 97 252 191 211 21 192 162 165 0 7 97 0 219 177 229 68 225 115 141 156 206 87 172 0 157 58 6 0 0 0 87 0 215 147 203 206 191 105 135 0 130 249 31 109 159 198 29 134 204 36 129 178 113 189 59 117 41 13 178 101 68 231 0 0 \n",
            "#2 9092\n",
            "1000\n",
            "0 0 181 0 107 28 209 220 26 63 202 123 117 118 202 231 0 184 113 176 53 78 80 248 222 85 108 247 187 61 193 119 241 76 188 89 0 27 192 0 252 23 162 32 157 2 45 167 47 112 159 212 91 75 41 106 252 79 115 63 163 142 22 191 19 0 0 106 0 165 148 81 103 195 232 156 85 169 133 7 38 139 74 96 34 242 8 11 195 60 7 127 60 26 128 199 239 0 34 1 245 250 142 226 0 130 218 48 223 0 18 70 247 73 178 148 202 133 45 28 0 93 105 246 198 34 64 0 196 249 1 96 38 91 237 2 216 149 186 27 122 72 20 164 224 0 23 174 147 67 214 0 78 241 216 229 130 229 149 19 0 228 253 198 152 7 0 242 95 59 200 157 102 193 203 98 35 175 186 240 190 109 69 139 0 57 0 138 175 163 191 216 0 18 86 116 139 0 218 241 111 180 66 246 228 85 120 190 255 214 218 153 137 65 185 106 126 115 221 39 141 157 254 92 155 195 77 169 64 64 233 63 72 64 106 0 51 68 90 250 181 161 0 234 55 1 114 0 84 225 243 251 0 18 147 224 213 56 32 165 246 78 93 28 42 0 127 46 147 206 0 0 132 80 145 33 5 237 177 181 83 194 23 71 93 66 189 163 72 176 17 168 237 166 118 201 86 146 194 141 68 52 190 16 172 33 169 128 53 67 181 161 187 87 136 73 207 109 188 229 53 107 96 242 101 138 117 133 11 216 113 196 135 181 0 106 109 0 62 70 5 69 190 188 205 222 0 67 242 211 208 230 219 0 75 196 158 58 152 144 137 49 206 17 0 0 247 163 7 46 144 180 183 0 12 71 199 153 0 117 0 181 58 231 122 171 20 93 217 244 33 42 16 222 24 182 191 8 163 251 187 233 223 0 139 74 224 129 235 199 42 29 76 82 0 39 82 176 0 253 85 250 79 148 0 29 144 242 0 91 4 178 200 200 108 132 191 205 121 170 121 168 80 0 3 234 13 230 164 248 61 0 82 0 99 13 59 48 116 5 61 201 91 9 110 9 118 103 149 252 23 3 175 125 0 0 0 190 246 100 175 0 30 83 17 231 156 213 94 86 6 48 22 146 231 63 237 238 0 241 76 22 250 203 207 133 132 98 197 13 53 226 179 82 220 137 208 79 57 44 138 0 133 177 0 246 232 148 134 183 1 99 37 91 98 66 24 0 18 103 80 23 0 0 240 228 0 199 209 2 125 83 0 221 49 0 59 54 159 72 120 162 3 252 94 11 144 168 0 46 237 36 75 0 178 218 167 0 239 75 84 64 165 137 255 189 75 187 8 145 75 156 3 241 0 252 57 103 195 61 38 80 0 216 249 92 112 214 22 18 196 87 151 73 243 14 199 176 18 194 166 71 44 207 104 227 190 163 245 174 60 66 106 165 0 195 151 24 132 208 127 45 119 42 220 94 166 34 152 246 0 33 85 152 130 33 229 184 247 50 211 32 57 0 216 109 205 37 103 143 45 10 34 76 71 4 98 189 254 6 179 208 167 23 85 197 141 211 188 177 110 232 17 0 252 153 176 232 93 63 168 1 171 0 61 174 116 37 105 168 59 249 87 125 246 228 231 13 0 0 45 13 98 5 241 134 196 108 48 0 122 80 154 175 62 59 18 148 63 0 49 95 158 0 196 61 242 201 73 176 196 83 118 12 19 201 178 250 209 174 154 248 101 0 125 215 39 179 224 60 231 62 251 32 102 12 58 81 219 0 189 238 111 163 217 238 194 117 149 153 100 0 45 13 92 87 146 187 0 106 232 0 172 181 6 45 211 173 250 247 241 216 131 0 208 81 149 243 173 72 216 0 188 127 41 214 161 206 24 155 248 160 104 215 206 0 146 197 38 93 67 113 117 130 217 60 37 159 234 92 22 130 189 89 25 142 207 145 115 60 79 181 96 149 0 74 142 186 224 40 157 92 0 254 165 68 1 205 0 0 24 104 0 99 0 250 187 0 93 128 19 225 119 75 30 138 0 127 42 198 47 151 0 234 112 223 196 92 58 248 0 24 96 87 0 44 106 199 227 59 21 226 192 253 209 156 113 190 65 184 228 219 191 81 252 72 213 83 15 12 196 255 102 195 1 106 192 28 179 254 207 88 55 248 186 209 156 232 153 113 39 52 252 54 0 150 100 181 195 153 199 148 224 32 17 14 59 224 158 115 157 225 0 165 0 0 65 156 0 112 0 227 198 52 176 25 162 166 0 0 \n",
            "#3 8998\n"
          ]
        }
      ]
    },
    {
      "cell_type": "code",
      "source": [
        "#python\n",
        "\n",
        "T=int(input())\n",
        "for test_case in range(1,T+1):\n",
        "    N=int(input())\n",
        "    lst=list(map(int,input().split()))\n",
        "    \n",
        "    for i in range(N): #0부터 N-1까지\n",
        "        for j in range(i+1,N): #i+1부터 N-1까지\n",
        "            if lst[i]<lst[j]:\n",
        "                lst[i],lst[j]=lst[j],lst[i]\n",
        "\n",
        "    print(f\"#{test_case}\", *lst)"
      ],
      "metadata": {
        "colab": {
          "base_uri": "https://localhost:8080/"
        },
        "id": "ARlmA1qEPR4w",
        "outputId": "7d76ab3a-22a9-4143-f292-4529d2fb22e9"
      },
      "execution_count": 1,
      "outputs": [
        {
          "output_type": "stream",
          "name": "stdout",
          "text": [
            "1\n",
            "5\n",
            "0 4 2 1 5\n",
            "#1 5 4 2 1 0\n"
          ]
        }
      ]
    },
    {
      "cell_type": "code",
      "source": [
        "def Counting_Sort(A,B,k)\n",
        "#A [] -- 입력 배열 (0 to k)\n",
        "#B [] -- 정렬된 배열.\n",
        "#C [] -- 카운트 배열.\n",
        "    C=[0]*(k+1)\n",
        "\n",
        "    for i in range(0,len(A)):\n",
        "        C[A[i]]+=1\n",
        "\n",
        "    for i in range(1, len(C)):\n",
        "        C[i]+=C[i-1]\n",
        "\n",
        "    for i in range(len(B)-1,-1,-1):\n",
        "        C[A[i]]-=1\n",
        "        B[C[A[i]]]=A[i]\n",
        "\n",
        "\n",
        "A=list(map(int,input().split()))\n",
        "\n"
      ],
      "metadata": {
        "id": "Mq0efmbC_Zjh"
      },
      "execution_count": null,
      "outputs": []
    },
    {
      "cell_type": "markdown",
      "source": [
        "\n",
        "\n",
        "\n",
        "\n",
        "\n",
        "\n",
        "\n",
        "\n",
        "\n",
        "\n",
        "\n",
        "\n",
        "\n",
        "# 정렬된 배열이란?\n",
        "\n",
        "\n",
        "\n",
        "\n",
        "\n",
        "\n",
        "\n"
      ],
      "metadata": {
        "id": "1HTWZc37Ae8A"
      }
    },
    {
      "cell_type": "code",
      "source": [
        "#주어진 N 길이의 숫자열 오름차순 정렬\n",
        "T = int(input())\n",
        "for test_case in range(1, T + 1):\n",
        "    N=int(input())\n",
        "    lst=list(map(int,input().split()))\n",
        "\n",
        "    F_lst=[0]*N\n",
        "    H=30\n",
        "    cnt_lst=[0]*H\n",
        "\n",
        "    for i in lst:\n",
        "        cnt_lst[i]+=1\n",
        "\n",
        "    for i in range(1,len(cnt_lst)):\n",
        "        cnt_lst[i]+=cnt_lst[i-1]\n",
        "    \n",
        "\n",
        "    for i in range(N-1,-1,-1):\n",
        "        cnt_lst[lst[i]]-=1\n",
        "        F_lst[cnt_lst[lst[i]]]=lst[i]\n",
        "\n",
        "    print(f\"#{test_case}\",*F_lst)\n",
        "\n",
        "\n",
        "\n",
        "\n"
      ],
      "metadata": {
        "colab": {
          "base_uri": "https://localhost:8080/"
        },
        "id": "J1znnuW0CKtI",
        "outputId": "a72c0051-8465-4151-9aab-db11d5b99846"
      },
      "execution_count": 42,
      "outputs": [
        {
          "output_type": "stream",
          "name": "stdout",
          "text": [
            "1\n",
            "5\n",
            "1 8 6 2 4\n",
            "#1 1 2 4 6 8\n"
          ]
        }
      ]
    },
    {
      "cell_type": "code",
      "source": [
        "#Baby Gin game\n",
        "T = int(input())\n",
        "for test_case in range(1, T + 1):\n",
        "    num=int(input())\n",
        "    c=[0]*12 # i를 9까지 뽑기 때문에 #22를 만족해야 함\n",
        "\n",
        "    for i in range(6):\n",
        "        c[num%10]+=1\n",
        "        num//=10\n",
        "\n",
        "    i=0\n",
        "    tri=rn=0\n",
        "\n",
        "    while i<10:\n",
        "        if c[i]>=3:\n",
        "            c[i]-=3\n",
        "            tri+=1\n",
        "            continue;\n",
        "\n",
        "        if c[i]>=1 and c[i+1]>=1 and c[i+2]>=1: #22\n",
        "            c[i]-=1\n",
        "            c[i+1]-=1\n",
        "            c[i+2]-=1\n",
        "            run+=1\n",
        "            continue\n",
        "        i+=1\n",
        "\n",
        "    if rn+tri==2: print(f\"#{test_case} 1\") #이기면 1\n",
        "    else: print(f\"#{test_case} 0\") # 지면0\n",
        "\n"
      ],
      "metadata": {
        "colab": {
          "base_uri": "https://localhost:8080/"
        },
        "id": "hoCAIkrRW7fq",
        "outputId": "a1c6aa42-9370-4642-bfc0-fbf73e4f306a"
      },
      "execution_count": 56,
      "outputs": [
        {
          "output_type": "stream",
          "name": "stdout",
          "text": [
            "3\n",
            "444345\n",
            "#1 1\n",
            "102034\n",
            "#2 0\n",
            "676767\n",
            "#3 1\n"
          ]
        }
      ]
    },
    {
      "cell_type": "code",
      "source": [
        "#숫자 카드\n",
        "T = int(input())\n",
        "for test_case in range(1, T + 1):\n",
        "    N=int(input())\n",
        "    lst=list(map(int,input()))\n",
        "    cnt=[0]*10 #0부터 9까지\n",
        "    mx=1 #max 카드 장수/모두 한장일 때를 생각해 1로 놓음\n",
        "    cd=0 # 가장 많은 카드\n",
        "\n",
        "    for i in lst:\n",
        "        cnt[i]+=1\n",
        "\n",
        "    for i in range(len(cnt)): \n",
        "\n",
        "        if mx==cnt[i]: #같을 때\n",
        "            cd=i\n",
        "\n",
        "\n",
        "        if cnt[i]>mx: #클 때 \n",
        "            mx=cnt[i]\n",
        "            cd=i\n",
        "    \n",
        "    print(f\"#{test_case} {cd} {mx}\")"
      ],
      "metadata": {
        "colab": {
          "base_uri": "https://localhost:8080/"
        },
        "id": "4mOT2M1VguoE",
        "outputId": "04074f53-af7c-4a7d-fdab-f04c67d4a7e7"
      },
      "execution_count": 81,
      "outputs": [
        {
          "output_type": "stream",
          "name": "stdout",
          "text": [
            "1\n",
            "5\n",
            "49679\n",
            "#1 9 2\n"
          ]
        }
      ]
    },
    {
      "cell_type": "code",
      "source": [
        "#전기버스\n",
        "T = int(input())\n",
        "for test_case in range(1, T + 1):\n",
        "    K,N,M=map(int,input().split())\n",
        "\n",
        "    lst=list(map(int,input().split()))\n",
        "\n",
        "    cnt_lst=[0]*(N+K+1)\n",
        "    st=0\n",
        "    charge_cnt=0\n",
        "    charge_stage=0\n",
        "    final_charge=0\n",
        "    for i in lst:\n",
        "        cnt_lst[i]+=1\n",
        "\n",
        "    while True:\n",
        "        if st+K>=N:\n",
        "            print(f\"#{test_case} {final_charge-1}\")\n",
        "            break\n",
        "\n",
        "        else:\n",
        "\n",
        "            for i in range(st+1,st+1+K):#K의 범위에서 하나씩 차근차근 충전기 확인\n",
        "                if cnt_lst[i]==1:\n",
        "                    charge_stage=i\n",
        "                    charge_cnt+=1\n",
        "\n",
        "            if charge_cnt==0: #만약 K만큼 가지 못한다면 0 출력\n",
        "                print(f\"#{test_case} 0\")\n",
        "                break\n",
        "\n",
        "            if charge_cnt>0: #가장 최신 정류소를 찾으면 final_charge에 +1 추가하고 charge_cnt 초기화\n",
        "                final_charge+=1\n",
        "                charge_cnt=0\n",
        "\n",
        "            st=charge_stage\n",
        "\n",
        "\n",
        "\n",
        "\n",
        "#지나온 정류장만 누적하여 가장 최신 충전소를 갱신\n",
        "#K를 "
      ],
      "metadata": {
        "colab": {
          "base_uri": "https://localhost:8080/"
        },
        "id": "aZ4iQGrVm27H",
        "outputId": "be40fa86-b97c-491d-e03a-059107b12a7e"
      },
      "execution_count": 90,
      "outputs": [
        {
          "name": "stdout",
          "output_type": "stream",
          "text": [
            "1\n",
            "3 10 5\n",
            "1 3 5 7 9\n"
          ]
        }
      ]
    },
    {
      "cell_type": "code",
      "source": [
        " \n",
        " "
      ],
      "metadata": {
        "id": "d8HKLUR8uUoj"
      },
      "execution_count": null,
      "outputs": []
    }
  ]
}