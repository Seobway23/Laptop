{
  "nbformat": 4,
  "nbformat_minor": 0,
  "metadata": {
    "colab": {
      "provenance": [],
      "authorship_tag": "ABX9TyP3RQBFFd9TOZU3xA0VODE4",
      "include_colab_link": true
    },
    "kernelspec": {
      "name": "python3",
      "display_name": "Python 3"
    },
    "language_info": {
      "name": "python"
    }
  },
  "cells": [
    {
      "cell_type": "markdown",
      "metadata": {
        "id": "view-in-github",
        "colab_type": "text"
      },
      "source": [
        "<a href=\"https://colab.research.google.com/github/Seobway23/Laptop/blob/master/0304.ipynb\" target=\"_parent\"><img src=\"https://colab.research.google.com/assets/colab-badge.svg\" alt=\"Open In Colab\"/></a>"
      ]
    },
    {
      "cell_type": "code",
      "execution_count": null,
      "metadata": {
        "id": "nrIRHo3ieB5Y"
      },
      "outputs": [],
      "source": [
        "#롤케이크\n",
        "\n",
        "L = int(input())\n",
        "N = int(input())\n",
        "mx1 = 0\n",
        "ans1 = 0\n",
        "v=[0] *(L+1)\n",
        "for t in range(1, N+1):\n",
        "    A, B =map(int,input().split())\n",
        "    #1\n",
        "    if mx1 < B-A:\n",
        "        mx1 = B-A\n",
        "        ans1 = t\n",
        "    \n",
        "    for i in range(A,B+1):\n",
        "        if v[i] == 0:\n",
        "            v[i] = t\n",
        "    \n",
        "#2\n",
        "mx2 = 0\n",
        "ans2 = 0\n",
        "cnt = [0] * (N+1)\n",
        "for j in v:\n",
        "    if j != 0:\n",
        "        cnt[j] += 1\n",
        "for k in range(len(cnt)):\n",
        "    if cnt[k] >mx2:\n",
        "        mx2 = cnt[k]\n",
        "        ans2 = k\n",
        "\n",
        "print(ans1)\n",
        "print(ans2)"
      ]
    },
    {
      "cell_type": "code",
      "source": [
        "#색종이\n",
        "N = 100\n",
        "arr = [ [0]* (N+1) for _ in range(N+1)]\n",
        "\n",
        "T = int(input())\n",
        "l = 10\n",
        "cnt = 0\n",
        "for _ in range(T):\n",
        "    si, sj = map(int, input().split())\n",
        "    for i in range(si,si+l):\n",
        "        for j in range(sj, sj+l):\n",
        "            if arr[i][j] == 0:\n",
        "                arr[i][j] = 1\n",
        "                cnt += 1\n",
        "\n",
        "print(cnt)\n",
        "\n",
        "\n",
        "\n"
      ],
      "metadata": {
        "colab": {
          "base_uri": "https://localhost:8080/"
        },
        "id": "JFfkZJ18gB4j",
        "outputId": "bee966d7-e5fe-4ee4-e57f-38d690824f65"
      },
      "execution_count": 3,
      "outputs": [
        {
          "output_type": "stream",
          "name": "stdout",
          "text": [
            "3\n",
            "3 7\n",
            "15 7\n",
            "5 2\n",
            "260\n"
          ]
        }
      ]
    },
    {
      "cell_type": "code",
      "source": [
        "#색종이 2\n",
        "N = 100\n",
        "arr = [ [0]* (N+1) for _ in range(N+1)]\n",
        "v = [ [0]* (N+1) for _ in range(N+1)]\n",
        "\n",
        "T = int(input())\n",
        "l = 10\n",
        "cnt = 0\n",
        "for _ in range(T):\n",
        "    si, sj = map(int, input().split())\n",
        "    for i in range(si,si+l):\n",
        "        for j in range(sj, sj+l):\n",
        "            arr[i][j] +=1\n",
        "ans = 0\n",
        "q= []\n",
        "q.append((si,sj))\n",
        "while q:\n",
        "    t = q.pop(0)\n",
        "    cnt = 0\n",
        "    for di, dj in (1,0),(-1,0),(0,1),(0,-1):\n",
        "        ni = t[0] + di\n",
        "        nj = t[1] + dj\n",
        "\n",
        "\n",
        "        #1이면 q에 추가\n",
        "        if v[ni][nj]==0 and arr[ni][nj] ==1:\n",
        "            q.append((ni,nj))\n",
        "            v[ni][nj] = 1\n",
        "\n",
        "        #\n",
        "        if  v[ni][nj]==0 and arr[ni][nj] == 0:\n",
        "            cnt +=1\n",
        "            v[ni][nj] = 9\n",
        "\n",
        "\n",
        "\n",
        "print(cnt)        \n",
        "          \n",
        "        \n",
        "    \n"
      ],
      "metadata": {
        "colab": {
          "base_uri": "https://localhost:8080/"
        },
        "id": "7EWl-3rHiCfL",
        "outputId": "4301e922-1418-400b-a070-0edaa346900d"
      },
      "execution_count": 3,
      "outputs": [
        {
          "output_type": "stream",
          "name": "stdout",
          "text": [
            "4\n",
            "3 7\n",
            "5 2\n",
            "15 7\n",
            "13 14\n",
            "2\n"
          ]
        }
      ]
    }
  ]
}