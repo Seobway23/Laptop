{
  "nbformat": 4,
  "nbformat_minor": 0,
  "metadata": {
    "colab": {
      "provenance": [],
      "authorship_tag": "ABX9TyOlwskbTSFVmck9nKKG27tT",
      "include_colab_link": true
    },
    "kernelspec": {
      "name": "python3",
      "display_name": "Python 3"
    },
    "language_info": {
      "name": "python"
    }
  },
  "cells": [
    {
      "cell_type": "markdown",
      "metadata": {
        "id": "view-in-github",
        "colab_type": "text"
      },
      "source": [
        "<a href=\"https://colab.research.google.com/github/Seobway23/Laptop/blob/master/Algorithm_02_04.ipynb\" target=\"_parent\"><img src=\"https://colab.research.google.com/assets/colab-badge.svg\" alt=\"Open In Colab\"/></a>"
      ]
    },
    {
      "cell_type": "code",
      "execution_count": null,
      "metadata": {
        "id": "zlVUKO02fDKU"
      },
      "outputs": [],
      "source": [
        "T = int(input())\n",
        "ans=0\n",
        "for test_case in range(1, T + 1):\n",
        "    N = int(input())\n",
        "    cnts = [0] * 1001\n",
        "    for _ in range(N):\n",
        "        B, S, E = map(int, input().split())\n",
        "        if B == 1:  # 일반버스\n",
        "            for i in range(S, E + 1):\n",
        "                cnts[i] += 1\n",
        "\n",
        "        elif B == 2:  # 광역버스\n",
        "            cnts[E] += 1  # 홀수이던 짝수이던 무조건 +2\n",
        "            for i in range(S, E, 2):\n",
        "                cnts[i] += 1\n",
        "\n",
        "        else:\n",
        "            cnts[S] += 1\n",
        "            cnts[E] += 1\n",
        "            for i in range(S + 1, E):\n",
        "                # 짝수이면서 4의 배수 또는 홀수& 3의 배수& 10의 배수\n",
        "                if (S % 2 == 0 and i % 4 == 0) or (S % 2 != 0 and i % 3 == 0 and i % 10 != 0):\n",
        "                    cnts[i] += 1\n",
        "\n",
        "    for n in cnts:  # 최댓값\n",
        "        if ans < n:\n",
        "            ans = n\n",
        "\n",
        "    print(ans)"
      ]
    }
  ]
}