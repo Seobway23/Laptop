{
 "cells": [
  {
   "cell_type": "code",
   "execution_count": 1,
   "metadata": {},
   "outputs": [],
   "source": [
    "import os\n",
    "os.environ.setdefault(\"DJANGO_SETTINGS_MODULE\", \"crawl_pjt.settings\")\n",
    "\n",
    "import django\n",
    "django.setup()\n",
    "\n",
    "from articles.models import Article\n",
    "import json\n",
    "\n",
    "import csv\n",
    "import requests\n",
    "from bs4 import BeautifulSoup"
   ]
  },
  {
   "cell_type": "code",
   "execution_count": 2,
   "metadata": {},
   "outputs": [
    {
     "data": {
      "text/plain": [
       "52"
      ]
     },
     "execution_count": 2,
     "metadata": {},
     "output_type": "execute_result"
    }
   ],
   "source": [
    "url = 'https://finance.naver.com/sise/sise_market_sum.nhn?&page='\n",
    "\n",
    "filename = \"KOSPI200.csv\"\n",
    "f = open(filename, \"w\", encoding=\"utf-8-sig\", newline=\"\") # newline 은 줄바꿈 엔터 없애줌\n",
    "writer = csv.writer(f)\n",
    "\n",
    "title =['N', '종목명','현재가','전일비','등락률','액면가',\t'시가총액','상장주식수','외국인비율','거래량','PER','ROE']\n",
    "writer.writerow(title)"
   ]
  },
  {
   "cell_type": "code",
   "execution_count": null,
   "metadata": {},
   "outputs": [],
   "source": []
  },
  {
   "cell_type": "code",
   "execution_count": 7,
   "metadata": {},
   "outputs": [
    {
     "name": "stdout",
     "output_type": "stream",
     "text": [
      "[<td class=\"blank_08\" colspan=\"10\"></td>]\n",
      "[<td class=\"blank_06\" colspan=\"13\"></td>]\n",
      "[<td class=\"division_line\" colspan=\"13\"></td>]\n",
      "[<td class=\"blank_08\" colspan=\"13\"></td>]\n",
      "[<td class=\"blank_06\" colspan=\"13\"></td>]\n",
      "[<td class=\"division_line\" colspan=\"13\"></td>]\n",
      "[<td class=\"blank_08\" colspan=\"13\"></td>]\n",
      "[<td class=\"blank_06\" colspan=\"13\"></td>]\n",
      "[<td class=\"division_line\" colspan=\"13\"></td>]\n",
      "[<td class=\"blank_08\" colspan=\"13\"></td>]\n",
      "[<td class=\"blank_06\" colspan=\"13\"></td>]\n",
      "[<td class=\"division_line\" colspan=\"13\"></td>]\n",
      "[<td class=\"blank_08\" colspan=\"13\"></td>]\n",
      "[<td class=\"blank_06\" colspan=\"13\"></td>]\n",
      "[<td class=\"division_line\" colspan=\"13\"></td>]\n",
      "[<td class=\"blank_08\" colspan=\"13\"></td>]\n",
      "[<td class=\"blank_06\" colspan=\"13\"></td>]\n",
      "[<td class=\"division_line\" colspan=\"13\"></td>]\n",
      "[<td class=\"blank_08\" colspan=\"13\"></td>]\n",
      "[<td class=\"blank_06\" colspan=\"13\"></td>]\n",
      "[<td class=\"division_line\" colspan=\"13\"></td>]\n",
      "[<td class=\"blank_08\" colspan=\"13\"></td>]\n",
      "[<td class=\"blank_06\" colspan=\"13\"></td>]\n",
      "[<td class=\"division_line\" colspan=\"13\"></td>]\n",
      "[<td class=\"blank_08\" colspan=\"13\"></td>]\n",
      "[<td class=\"blank_06\" colspan=\"13\"></td>]\n",
      "[<td class=\"division_line\" colspan=\"13\"></td>]\n",
      "[<td class=\"blank_08\" colspan=\"13\"></td>]\n",
      "[<td class=\"blank_09\" colspan=\"13\"></td>]\n",
      "[<td class=\"division_line_1\" colspan=\"13\"></td>]\n",
      "[<td class=\"blank_09\" colspan=\"13\"></td>]\n",
      "[<td class=\"blank_08\" colspan=\"10\"></td>]\n",
      "[<td class=\"blank_06\" colspan=\"13\"></td>]\n",
      "[<td class=\"division_line\" colspan=\"13\"></td>]\n",
      "[<td class=\"blank_08\" colspan=\"13\"></td>]\n",
      "[<td class=\"blank_06\" colspan=\"13\"></td>]\n",
      "[<td class=\"division_line\" colspan=\"13\"></td>]\n",
      "[<td class=\"blank_08\" colspan=\"13\"></td>]\n",
      "[<td class=\"blank_06\" colspan=\"13\"></td>]\n",
      "[<td class=\"division_line\" colspan=\"13\"></td>]\n",
      "[<td class=\"blank_08\" colspan=\"13\"></td>]\n",
      "[<td class=\"blank_06\" colspan=\"13\"></td>]\n",
      "[<td class=\"division_line\" colspan=\"13\"></td>]\n",
      "[<td class=\"blank_08\" colspan=\"13\"></td>]\n",
      "[<td class=\"blank_06\" colspan=\"13\"></td>]\n",
      "[<td class=\"division_line\" colspan=\"13\"></td>]\n",
      "[<td class=\"blank_08\" colspan=\"13\"></td>]\n",
      "[<td class=\"blank_06\" colspan=\"13\"></td>]\n",
      "[<td class=\"division_line\" colspan=\"13\"></td>]\n",
      "[<td class=\"blank_08\" colspan=\"13\"></td>]\n",
      "[<td class=\"blank_06\" colspan=\"13\"></td>]\n",
      "[<td class=\"division_line\" colspan=\"13\"></td>]\n",
      "[<td class=\"blank_08\" colspan=\"13\"></td>]\n",
      "[<td class=\"blank_06\" colspan=\"13\"></td>]\n",
      "[<td class=\"division_line\" colspan=\"13\"></td>]\n",
      "[<td class=\"blank_08\" colspan=\"13\"></td>]\n",
      "[<td class=\"blank_06\" colspan=\"13\"></td>]\n",
      "[<td class=\"division_line\" colspan=\"13\"></td>]\n",
      "[<td class=\"blank_08\" colspan=\"13\"></td>]\n",
      "[<td class=\"blank_09\" colspan=\"13\"></td>]\n",
      "[<td class=\"division_line_1\" colspan=\"13\"></td>]\n",
      "[<td class=\"blank_09\" colspan=\"13\"></td>]\n",
      "[<td class=\"blank_08\" colspan=\"10\"></td>]\n",
      "[<td class=\"blank_06\" colspan=\"13\"></td>]\n",
      "[<td class=\"division_line\" colspan=\"13\"></td>]\n",
      "[<td class=\"blank_08\" colspan=\"13\"></td>]\n",
      "[<td class=\"blank_06\" colspan=\"13\"></td>]\n",
      "[<td class=\"division_line\" colspan=\"13\"></td>]\n",
      "[<td class=\"blank_08\" colspan=\"13\"></td>]\n",
      "[<td class=\"blank_06\" colspan=\"13\"></td>]\n",
      "[<td class=\"division_line\" colspan=\"13\"></td>]\n",
      "[<td class=\"blank_08\" colspan=\"13\"></td>]\n",
      "[<td class=\"blank_06\" colspan=\"13\"></td>]\n",
      "[<td class=\"division_line\" colspan=\"13\"></td>]\n",
      "[<td class=\"blank_08\" colspan=\"13\"></td>]\n",
      "[<td class=\"blank_06\" colspan=\"13\"></td>]\n",
      "[<td class=\"division_line\" colspan=\"13\"></td>]\n",
      "[<td class=\"blank_08\" colspan=\"13\"></td>]\n",
      "[<td class=\"blank_06\" colspan=\"13\"></td>]\n",
      "[<td class=\"division_line\" colspan=\"13\"></td>]\n",
      "[<td class=\"blank_08\" colspan=\"13\"></td>]\n",
      "[<td class=\"blank_06\" colspan=\"13\"></td>]\n",
      "[<td class=\"division_line\" colspan=\"13\"></td>]\n",
      "[<td class=\"blank_08\" colspan=\"13\"></td>]\n",
      "[<td class=\"blank_06\" colspan=\"13\"></td>]\n",
      "[<td class=\"division_line\" colspan=\"13\"></td>]\n",
      "[<td class=\"blank_08\" colspan=\"13\"></td>]\n",
      "[<td class=\"blank_06\" colspan=\"13\"></td>]\n",
      "[<td class=\"division_line\" colspan=\"13\"></td>]\n",
      "[<td class=\"blank_08\" colspan=\"13\"></td>]\n",
      "[<td class=\"blank_09\" colspan=\"13\"></td>]\n",
      "[<td class=\"division_line_1\" colspan=\"13\"></td>]\n",
      "[<td class=\"blank_09\" colspan=\"13\"></td>]\n",
      "[<td class=\"blank_08\" colspan=\"10\"></td>]\n",
      "[<td class=\"blank_06\" colspan=\"13\"></td>]\n",
      "[<td class=\"division_line\" colspan=\"13\"></td>]\n",
      "[<td class=\"blank_08\" colspan=\"13\"></td>]\n",
      "[<td class=\"blank_06\" colspan=\"13\"></td>]\n",
      "[<td class=\"division_line\" colspan=\"13\"></td>]\n",
      "[<td class=\"blank_08\" colspan=\"13\"></td>]\n",
      "[<td class=\"blank_06\" colspan=\"13\"></td>]\n",
      "[<td class=\"division_line\" colspan=\"13\"></td>]\n",
      "[<td class=\"blank_08\" colspan=\"13\"></td>]\n",
      "[<td class=\"blank_06\" colspan=\"13\"></td>]\n",
      "[<td class=\"division_line\" colspan=\"13\"></td>]\n",
      "[<td class=\"blank_08\" colspan=\"13\"></td>]\n",
      "[<td class=\"blank_06\" colspan=\"13\"></td>]\n",
      "[<td class=\"division_line\" colspan=\"13\"></td>]\n",
      "[<td class=\"blank_08\" colspan=\"13\"></td>]\n",
      "[<td class=\"blank_06\" colspan=\"13\"></td>]\n",
      "[<td class=\"division_line\" colspan=\"13\"></td>]\n",
      "[<td class=\"blank_08\" colspan=\"13\"></td>]\n",
      "[<td class=\"blank_06\" colspan=\"13\"></td>]\n",
      "[<td class=\"division_line\" colspan=\"13\"></td>]\n",
      "[<td class=\"blank_08\" colspan=\"13\"></td>]\n",
      "[<td class=\"blank_06\" colspan=\"13\"></td>]\n",
      "[<td class=\"division_line\" colspan=\"13\"></td>]\n",
      "[<td class=\"blank_08\" colspan=\"13\"></td>]\n",
      "[<td class=\"blank_06\" colspan=\"13\"></td>]\n",
      "[<td class=\"division_line\" colspan=\"13\"></td>]\n",
      "[<td class=\"blank_08\" colspan=\"13\"></td>]\n",
      "[<td class=\"blank_09\" colspan=\"13\"></td>]\n",
      "[<td class=\"division_line_1\" colspan=\"13\"></td>]\n",
      "[<td class=\"blank_09\" colspan=\"13\"></td>]\n"
     ]
    }
   ],
   "source": [
    "for page in range(1,5):\n",
    "    res = requests.get(url + str(page))\n",
    "    res.raise_for_status()\n",
    "    soup = BeautifulSoup(res.text, \"lxml\")\n",
    "    data_rows = soup.find(\"table\", attrs={\"class\":\"type_2\"}).find(\"tbody\").find_all(\"tr\")\n",
    "    #print(soup)\n",
    "    #print('res:',res)\n",
    "    #print('data_rows:',data_rows)\n",
    "    for row in data_rows:\n",
    "        columns = row.find_all(\"td\")\n",
    "        #print(columns)\n",
    "        \n",
    "        if len(columns)<= 1: #의미 없는 데이터는 skip\n",
    "            #print(columns)\n",
    "            continue\n",
    "        data = [column.get_text().strip() for column in columns] # strip() -> 문자열의 시작과 끝에 주어진 문자가 아닌 것을 제거 (예를 들어 띄어 쓰기) \n",
    "        writer.writerow(data)\n",
    "    #의미 없는 데이터 컬럼을 지우기위해서는 어떻게 해야 할까?가 오늘의 관건"
   ]
  },
  {
   "cell_type": "code",
   "execution_count": 8,
   "metadata": {},
   "outputs": [
    {
     "name": "stdout",
     "output_type": "stream",
     "text": [
      "['200', 'KODEX 단기채권PLUS', '106,400', '15', '+0.01%', '0', '12,369', '11,625', '0.00', '38,929', 'N/A', 'N/A', '']\n"
     ]
    }
   ],
   "source": [
    "print(data)"
   ]
  },
  {
   "cell_type": "code",
   "execution_count": 10,
   "metadata": {},
   "outputs": [
    {
     "name": "stdout",
     "output_type": "stream",
     "text": [
      "<tr onmouseout=\"mouseOut(this)\" onmouseover=\"mouseOver(this)\">\n",
      "<td class=\"no\">151</td>\n",
      "<td><a class=\"tltle\" href=\"/item/main.naver?code=042700\">한미반도체</a></td>\n",
      "<td class=\"number\">20,150</td>\n",
      "<td class=\"number\">\n",
      "<img alt=\"하락\" height=\"6\" src=\"https://ssl.pstatic.net/imgstock/images/images4/ico_down.gif\" style=\"margin-right:4px;\" width=\"7\"/><span class=\"tah p11 nv01\">\n",
      "\t\t\t\t200\n",
      "\t\t\t\t</span>\n",
      "</td>\n",
      "<td class=\"number\">\n",
      "<span class=\"tah p11 nv01\">\n",
      "\t\t\t\t-0.98%\n",
      "\t\t\t\t</span>\n",
      "</td>\n",
      "<td class=\"number\">100</td>\n",
      "<td class=\"number\">19,614</td>\n",
      "<td class=\"number\">97,339</td>\n",
      "<td class=\"number\">5.71</td>\n",
      "<td class=\"number\">525,798</td>\n",
      "<td class=\"number\">21.57</td>\n",
      "<td class=\"number\">25.04</td>\n",
      "<td class=\"center\"><a href=\"/item/board.naver?code=042700\"><img alt=\"토론실\" height=\"13\" src=\"https://ssl.pstatic.net/imgstock/images5/ico_debatebl2.gif\" width=\"15\"/></a></td>\n",
      "</tr>\n"
     ]
    }
   ],
   "source": [
    "print(data_rows[1])"
   ]
  },
  {
   "cell_type": "code",
   "execution_count": null,
   "metadata": {},
   "outputs": [],
   "source": []
  }
 ],
 "metadata": {
  "kernelspec": {
   "display_name": "Python 3",
   "language": "python",
   "name": "python3"
  },
  "language_info": {
   "codemirror_mode": {
    "name": "ipython",
    "version": 3
   },
   "file_extension": ".py",
   "mimetype": "text/x-python",
   "name": "python",
   "nbconvert_exporter": "python",
   "pygments_lexer": "ipython3",
   "version": "3.9.13"
  },
  "orig_nbformat": 4
 },
 "nbformat": 4,
 "nbformat_minor": 2
}
