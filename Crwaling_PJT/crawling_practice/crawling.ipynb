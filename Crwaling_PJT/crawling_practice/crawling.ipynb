{
 "cells": [
  {
   "cell_type": "code",
   "execution_count": 13,
   "metadata": {},
   "outputs": [],
   "source": [
    "from bs4 import BeautifulSoup"
   ]
  },
  {
   "cell_type": "code",
   "execution_count": 3,
   "metadata": {},
   "outputs": [],
   "source": [
    "#셀레니움은 웹 프라우저를 컨트롤하여 자동화를 구현\n",
    "from selenium import webdriver\n"
   ]
  },
  {
   "cell_type": "code",
   "execution_count": 2,
   "metadata": {},
   "outputs": [],
   "source": [
    "# 웹 드라이버 매니저 설치\n",
    "from webdriver_manager.chrome import ChromeDriverManager"
   ]
  },
  {
   "cell_type": "code",
   "execution_count": 9,
   "metadata": {},
   "outputs": [],
   "source": [
    "import csv\n",
    "import time"
   ]
  },
  {
   "cell_type": "code",
   "execution_count": 18,
   "metadata": {},
   "outputs": [
    {
     "data": {
      "text/plain": [
       "65"
      ]
     },
     "execution_count": 18,
     "metadata": {},
     "output_type": "execute_result"
    }
   ],
   "source": [
    "#1. csv file open\n",
    "csv_name = \"main_today.csv\"\n",
    "csv_open = open(csv_name, \"w+\", encoding=\"utf-8\")\n",
    "csv_writer = csv.writer(csv_open)\n",
    "csv_writer.writerow((\"profile_image\", \"name\", \"display_date\", \"image\", \"like_count\", \"title\", \"sub_copy\"))"
   ]
  },
  {
   "cell_type": "code",
   "execution_count": 11,
   "metadata": {},
   "outputs": [
    {
     "name": "stderr",
     "output_type": "stream",
     "text": [
      "C:\\Users\\SSAFY\\AppData\\Local\\Temp\\ipykernel_564\\2010810093.py:2: DeprecationWarning: executable_path has been deprecated, please pass in a Service object\n",
      "  driver = webdriver.Chrome(ChromeDriverManager().install())\n"
     ]
    }
   ],
   "source": [
    "#2 Driver BeautifulSoup\n",
    "driver = webdriver.Chrome(ChromeDriverManager())\n",
    "\n",
    "crawling_url = \"https://store.kakaofriends.com/kr/index?tab=today\"\n",
    "driver.get(crawling_url)"
   ]
  },
  {
   "cell_type": "code",
   "execution_count": 14,
   "metadata": {},
   "outputs": [],
   "source": [
    "#3 Parsing html code\n",
    "full_html = driver.page_source\n",
    "soup = BeautifulSoup(full_html, 'html.parser')\n",
    "time.sleep(2)"
   ]
  },
  {
   "cell_type": "code",
   "execution_count": 15,
   "metadata": {},
   "outputs": [],
   "source": [
    "#4 Get element selector (1)\n",
    "#html에서 문서를 추출하기 위해\n",
    "'''\n",
    "#Article: \"Article\"이라는 ID를 가진 요소를 찾는 CSS ID 선택기입니다. \"#\" 기호는 CSS에서 ID를 나타냅니다.\n",
    "main: <main> 요소를 찾는 HTML 태그 선택기입니다.\n",
    "div.today__Wrap-sc-1gh0i9h-0.fCbncI: 클래스 이름이 \"today__Wrap-sc-\"인 <div> 요소를 찾는 태그 이름과 클래스 이름 선택기의 조합입니다. 1gh0i9h-0\" 및 \"fCbncI\".\n",
    "article: <article> 요소를 찾는 HTML 태그 선택기입니다.\n",
    "종합하면 코드는 클래스 이름이 \"today__Wrap-sc-1gh0i9h-0\" 및 \"fCbncI\"인 <div> 요소의 하위인 모든 <article> 요소를 찾으려고 합니다. , BeautifulSoup로 구문 분석되는 HTML 문서에서 ID가 \"Article\"인 요소의 하위인 <main> 요소의 하위입니다.\n",
    "\n",
    "'''\n",
    "articles = soup.select('#Article > main > div.today__Wrap-sc-1gh0i9h-0.fCbncI > article')"
   ]
  },
  {
   "cell_type": "code",
   "execution_count": 16,
   "metadata": {},
   "outputs": [],
   "source": [
    "#5 Get element selector (2)\n",
    "for i in range(1, len(articles)+1):\n",
    "    profile_image   = driver.find_element_by_css_selector(f'#mArticle > main > div.today__Wrap-sc-1gh0i9h-0.fCbncI > article:nth-child({i}) > section.header__Wrap-sc-1uyrtg9-0.hXrGqX > div.header__ImageWrap-sc-1uyrtg9-1.kmIBex > img')\n",
    "    name            = driver.find_element_by_css_selector(f'#mArticle > main > div.today__Wrap-sc-1gh0i9h-0.fCbncI > article:nth-child({i}) > section.header__Wrap-sc-1uyrtg9-0.hXrGqX > div:nth-child(2) > p')\n",
    "    display_date    = driver.find_element_by_css_selector(f'#mArticle > main > div.today__Wrap-sc-1gh0i9h-0.fCbncI > article:nth-child({i}) > section.header__Wrap-sc-1uyrtg9-0.hXrGqX > div:nth-child(2) > div > span.header__DisplayDate-sc-1uyrtg9-7.bbyqry')\n",
    "    like_count      = driver.find_element_by_css_selector(f'#mArticle > main > div.today__Wrap-sc-1gh0i9h-0.fCbncI > article:nth-child({i}) > section:nth-child(2) > div.contents__LikeCountWrap-sc-1b0iw5u-2.fDHkJk > span > span > span')\n",
    "    title           = driver.find_element_by_css_selector(f'#mArticle > main > div.today__Wrap-sc-1gh0i9h-0.fCbncI > article:nth-child({i}) > section:nth-child(2) > p')\n",
    "    sub_copy        = driver.find_element_by_css_selector(f'#mArticle > main > div.today__Wrap-sc-1gh0i9h-0.fCbncI > article:nth-child({i}) > section:nth-child(2) > div.contents__SubCopy-sc-1b0iw5u-6.dLrCHR')\n",
    "\n",
    "    images = soup.select(f'#mArticle > main > div.today__Wrap-sc-1gh0i9h-0.fCbncI > article:nth-child({i}) > section:nth-child(2) > div.media-slider__Wrap-bw8abp-0.ksgZQS > div > div > div')\n",
    "    \n",
    "    #6. Get image url\n",
    "    for j in range(1, len(images)+1):\n",
    "        image = driver.find_element_by_css_selector(f'#mArticle > main > div.today__Wrap-sc-1gh0i9h-0.fCbncI > article:nth-child({i}) > section:nth-child(2) > div.media-slider__Wrap-bw8abp-0.ksgZQS > div > div > div:nth-child({j}) > div > div > img')\n",
    "\n",
    "        img_url = image.get_attribute('src')\n",
    "\n",
    "        #7. Create csv file    \n",
    "        if i == 0:\n",
    "                csv_writer.writerow((profile_image.get_attribute('src'), name.text, display_date.text, img_url, like_count.text, title.text, sub_copy.text))\n",
    "        else:\n",
    "            csv_writer.writerow((profile_image.get_attribute('src'), name.text, display_date.text, img_url, like_count.text, title.text, sub_copy.text))"
   ]
  },
  {
   "cell_type": "code",
   "execution_count": 13,
   "metadata": {},
   "outputs": [
    {
     "name": "stdout",
     "output_type": "stream",
     "text": [
      "응답코드: 200\n"
     ]
    }
   ],
   "source": [
    "import requests\n",
    "\n",
    "res = requests.get(\"http://google.com\")\n",
    "res.raise_for_status() #문제가 있다면 종료, 없다면 아래 코드 실행\n",
    "\n",
    "print(\"응답코드:\", res.status_code)\n",
    "\n"
   ]
  },
  {
   "cell_type": "markdown",
   "metadata": {},
   "source": []
  },
  {
   "cell_type": "code",
   "execution_count": 10,
   "metadata": {},
   "outputs": [
    {
     "name": "stdout",
     "output_type": "stream",
     "text": [
      "정상\n"
     ]
    }
   ],
   "source": [
    "if res.status_code == requests.codes.ok:\n",
    "    print('정상')\n",
    "\n",
    "else:\n",
    "    print('문제')"
   ]
  },
  {
   "cell_type": "code",
   "execution_count": 11,
   "metadata": {},
   "outputs": [
    {
     "name": "stdout",
     "output_type": "stream",
     "text": [
      "웹 스크래핑을 진행합니다.\n"
     ]
    }
   ],
   "source": [
    "res.raise_for_status()\n",
    "print(\"웹 스크래핑을 진행합니다.\")"
   ]
  },
  {
   "cell_type": "code",
   "execution_count": 14,
   "metadata": {},
   "outputs": [
    {
     "name": "stdout",
     "output_type": "stream",
     "text": [
      "15389\n"
     ]
    }
   ],
   "source": [
    "prettified_html = soup.prettify()"
   ]
  },
  {
   "cell_type": "code",
   "execution_count": 15,
   "metadata": {},
   "outputs": [],
   "source": [
    "with open(\"mygoogle.html\", 'w', encoding=\"utf-8\") as f:\n",
    "    f.write(res.text)\n"
   ]
  }
 ],
 "metadata": {
  "kernelspec": {
   "display_name": "Python 3",
   "language": "python",
   "name": "python3"
  },
  "language_info": {
   "codemirror_mode": {
    "name": "ipython",
    "version": 3
   },
   "file_extension": ".py",
   "mimetype": "text/x-python",
   "name": "python",
   "nbconvert_exporter": "python",
   "pygments_lexer": "ipython3",
   "version": "3.9.13"
  },
  "orig_nbformat": 4
 },
 "nbformat": 4,
 "nbformat_minor": 2
}
