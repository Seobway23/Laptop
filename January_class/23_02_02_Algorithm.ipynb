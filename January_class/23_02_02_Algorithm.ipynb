{
  "nbformat": 4,
  "nbformat_minor": 0,
  "metadata": {
    "colab": {
      "provenance": [],
      "authorship_tag": "ABX9TyOMCLbPChRct9IjUd3cqNaK",
      "include_colab_link": true
    },
    "kernelspec": {
      "name": "python3",
      "display_name": "Python 3"
    },
    "language_info": {
      "name": "python"
    }
  },
  "cells": [
    {
      "cell_type": "markdown",
      "metadata": {
        "id": "view-in-github",
        "colab_type": "text"
      },
      "source": [
        "<a href=\"https://colab.research.google.com/github/Seobway23/Laptop/blob/master/23_02_02_Algorithm.ipynb\" target=\"_parent\"><img src=\"https://colab.research.google.com/assets/colab-badge.svg\" alt=\"Open In Colab\"/></a>"
      ]
    },
    {
      "cell_type": "code",
      "execution_count": null,
      "metadata": {
        "id": "2tynDRryKg_U",
        "colab": {
          "base_uri": "https://localhost:8080/"
        },
        "outputId": "ea7c71d7-56eb-4378-d770-0df0e3932491"
      },
      "outputs": [
        {
          "output_type": "stream",
          "name": "stdout",
          "text": [
            "1\n",
            "5\n",
            "1 2 3 8 9 0 2 1\n",
            "5\n"
          ]
        }
      ],
      "source": [
        "#max, min 함수 만들기\n",
        "#sort 함수로 [0],[-1] 빼기\n",
        "\n",
        "def Max(lst):\n",
        "    for i in range(len(lst)):\n",
        "        for j in range(i+1,N):\n",
        "            if lst[i]<lst[j]:\n",
        "                lst[i],lst[j]=lst[j],lst[i]\n",
        "\n",
        "    return lst[0]\n",
        "\n",
        "def Max(lst):\n",
        "    for i in range(len(lst)):\n",
        "        for j in range(i+1,N):\n",
        "            if lst[i]<lst[j]:\n",
        "                lst[i],lst[j]=lst[j],lst[i]\n",
        "\n",
        "    return lst[0]\n",
        "\n",
        "\n",
        "\n",
        "T = int(input())\n",
        "\n",
        "for test_case in range(1, T + 1):\n",
        "    N=int(input())\n",
        "    lst=list(map(int,input().split()))\n",
        "    # max와 min값 판별불가함-> def를 사용해야 하나?\n",
        "    for i in range(1,N+1):\n",
        "        B = max(lst) - min(lst)\n",
        "        lst[lst.index(max(lst))] -= 1\n",
        "        lst[lst.index(min(lst))] += 1\n",
        "\n",
        "    print(B)\n",
        "\n",
        "\n",
        "#max와 min을 사용하면 풀 수 있음 그렇다면 max, min def를 해볼까?"
      ]
    },
    {
      "cell_type": "code",
      "source": [
        "#max, min 함수 만들기\n",
        "#sort 함수로 [0],[-1] 빼기\n",
        "\n",
        "\n",
        "\n",
        "T = int(input())\n",
        "\n",
        "for test_case in range(1, T + 1):\n",
        "    N=int(input())\n",
        "    lst=list(map(int,input().split()))\n",
        "\n",
        "    for k in range(1,N+1):\n",
        "        for i in range(len(lst)):\n",
        "            for j in range(i+1,N):\n",
        "                if lst[i]<lst[j]:\n",
        "                    lst[i],lst[j]=lst[j],lst[i]\n",
        "        print(lst)\n",
        "        \n",
        "        B = lst[0] - lst[-1]\n",
        "        lst[0]-=1\n",
        "        lst[-1]+=1\n",
        "\n",
        "    print(f\"#{test_case}\",B)\n",
        "\n",
        "\n",
        "#max와 min을 사용하면 풀 수 있음 그렇다면 max, min def를 해볼까?"
      ],
      "metadata": {
        "id": "r6wxgfyQP7_e",
        "colab": {
          "base_uri": "https://localhost:8080/"
        },
        "outputId": "504a6b56-a326-4652-b076-8acf4993b73d"
      },
      "execution_count": null,
      "outputs": [
        {
          "output_type": "stream",
          "name": "stdout",
          "text": [
            "1\n",
            "5\n",
            "1 5 3 2 1 6\n",
            "[5, 3, 2, 1, 1, 6]\n",
            "[4, 3, 2, 1, 1, 7]\n",
            "[3, 3, 2, 1, 1, 8]\n",
            "[3, 2, 2, 1, 1, 9]\n",
            "[2, 2, 2, 1, 1, 10]\n",
            "#1 -8\n"
          ]
        }
      ]
    },
    {
      "cell_type": "code",
      "source": [
        "    \n",
        "\n",
        "T = int(input())\n",
        "\n",
        "for test_case in range(1, T + 1):\n",
        "    N=int(input())\n",
        "    lst=list(map(int,input().split()))\n",
        "\n",
        "\n",
        "    N_0=0\n",
        "\n",
        "    while True:\n",
        "        if N==N_0:\n",
        "            print(f\"#{test_case}\",B)\n",
        "            break\n",
        "\n",
        "        else:\n",
        "            for i in range(N): #0부터 N-1까지\n",
        "                for j in range(i+1,N): #i+1부터 N-1까지\n",
        "                    if lst[i]<lst[j]:\n",
        "                        lst[i],lst[j]=lst[j],lst[i]\n",
        "            print(lst)\n",
        "            print(B,\"B\")\n",
        "\n",
        "            B = lst[0] - lst[-1]\n",
        "            lst[0]-=1\n",
        "            lst[-1]+=1\n",
        "\n",
        "            N_0+=1\n",
        "                \n"
      ],
      "metadata": {
        "colab": {
          "base_uri": "https://localhost:8080/"
        },
        "id": "Kpu1Pj10S_tk",
        "outputId": "ac000c2a-3836-4f20-8442-a5a0c45d3332"
      },
      "execution_count": null,
      "outputs": [
        {
          "output_type": "stream",
          "name": "stdout",
          "text": [
            "1\n",
            "5\n",
            "1 2 3 5 6 7 2 1\n",
            "[6, 5, 3, 2, 1, 7, 2, 1]\n",
            "53 B\n",
            "[5, 5, 3, 2, 1, 7, 2, 2]\n",
            "5 B\n",
            "[5, 4, 3, 2, 1, 7, 2, 3]\n",
            "3 B\n",
            "[4, 4, 3, 2, 1, 7, 2, 4]\n",
            "2 B\n",
            "[4, 3, 3, 2, 1, 7, 2, 5]\n",
            "0 B\n",
            "#1 -1\n"
          ]
        }
      ]
    },
    {
      "cell_type": "code",
      "source": [
        "1\n",
        "834\n",
        "42 68 35 1 70 25 79 59 63 65 6 46 82 28 62 92 96 43 28 37 92 5 3 54 93 83 22 17 19 96 48 27 72 39 70 13 68 100 36 95 4 12 23 34 74 65 42 12 54 69 48 45 63 58 38 60 24 42 30 79 17 36 91 43 89 7 41 43 65 49 47 6 91 30 71 51 7 2 94 49 30 24 85 55 57 41 67 77 32 9 45 40 27 24 38 39 19 83 30 42 \n"
      ],
      "metadata": {
        "id": "HUfL_dOvT_sk"
      },
      "execution_count": null,
      "outputs": []
    },
    {
      "cell_type": "code",
      "source": [
        "for TC in range(1,10+1):\n",
        "    N= int(input())\n",
        "    lst=list(map(int,input().split()))\n",
        "    \n",
        "    for H in range(1,N+1):\n",
        "        for i in range(len(lst)):\n",
        "            for j in range(i+1,len(lst)):\n",
        "                if lst[j]>lst[i]:\n",
        "                    lst[i],lst[j]=lst[j],lst[i]\n",
        "        \n",
        "        print(f\"#{H} {lst} lst\")\n",
        "        \n",
        "        B=lst[0]-lst[-1]\n",
        "        lst[0]-=1\n",
        "        lst[-1]+=1\n",
        "\n",
        "        print(f\"#{H} {B} B\")\n",
        "        \n",
        "        if B<=1:\n",
        "            print(f\"#{TC}\",B)\n",
        "            break\n",
        "\n",
        "    print(f\"#{TC}\",B)        \n",
        "\n"
      ],
      "metadata": {
        "id": "4HQMM7s8Ywbw"
      },
      "execution_count": null,
      "outputs": []
    },
    {
      "cell_type": "code",
      "source": [
        "T=int(input())\n",
        "for TC in range(1,T+1):\n",
        "    N= int(input())\n",
        "    lst=list(map(int,input().split()))\n",
        "    \n",
        "    lst.sort()\n",
        "    B=lst[-1]-lst[0]\n",
        "    lst[-1]-=1\n",
        "    lst[0]+=1\n",
        "        \n",
        "    if B<=1:\n",
        "        print(f\"#{TC}\",B)\n",
        "        break\n",
        "\n",
        "    print(f\"#{TC}\",B)"
      ],
      "metadata": {
        "id": "nl1X3l10dVf_"
      },
      "execution_count": null,
      "outputs": []
    },
    {
      "cell_type": "code",
      "source": [
        "\n",
        "N=int(input())\n",
        "A=[0]*(N+1) # N+1개의 리스트에  A,B 정보들을 저장\n",
        "B=[0]*(N+1)\n",
        "for i in range(1,N+1):\n",
        "    A[i],B[i]=map(int,input().split())\n",
        "\n",
        "P=int(input())\n",
        "C=[0]*(P+1)\n",
        "cnt=[0]*(P+1)\n",
        "for i in range(1,P+1):\n",
        "    C[i]=int(input())\n",
        "\n",
        "for i in range(1,N+1): #1부터 N까지 A, B범위 \n",
        "    for j in range(1,P+1): # 1부터 P까지 C가 A~B범위에 있는지 확인\n",
        "        if C[j] in range(A[i],B[i]+1):  #있다면,  cnt 리스트에 +1\n",
        "            cnt[j]+=1\n",
        "\n",
        "print(f\"#{test_case}\",*cnt[1:])\n",
        "\n",
        "\n",
        "\n",
        "\n",
        "\n"
      ],
      "metadata": {
        "colab": {
          "base_uri": "https://localhost:8080/"
        },
        "id": "-3zLD2eRdiHG",
        "outputId": "f9635da6-5ec4-45ee-efcd-fd476495a0ca"
      },
      "execution_count": 88,
      "outputs": [
        {
          "output_type": "stream",
          "name": "stdout",
          "text": [
            "2\n",
            "1 3\n",
            "2 5\n",
            "5\n",
            "1\n",
            "2\n",
            "3\n",
            "4\n",
            "5\n",
            "#1 1 2 2 1 1\n"
          ]
        }
      ]
    },
    {
      "cell_type": "code",
      "source": [
        "cnt=[0]*(P+1)\n",
        "for i in range(1,N+1): #1부터 N까지 A, B범위 \n",
        "    for j in range(1,P+1): # 1부터 P까지 C가 A~B범위에 있는지 확인\n",
        "        if C[j] in range(A[i],B[i]+1):  #있다면,  cnt 리스트에 +1\n",
        "            cnt[j]+=1\n",
        "    print(cnt,\"if cnt \")\n"
      ],
      "metadata": {
        "colab": {
          "base_uri": "https://localhost:8080/"
        },
        "id": "UWS09S9YwsmR",
        "outputId": "bbb3bbf8-fd6e-49d0-b191-84fc1d02c4d4"
      },
      "execution_count": 82,
      "outputs": [
        {
          "output_type": "stream",
          "name": "stdout",
          "text": [
            "[0, 1, 1, 1, 0, 0] if cnt \n",
            "[0, 1, 2, 2, 1, 1] if cnt \n"
          ]
        }
      ]
    },
    {
      "cell_type": "code",
      "source": [
        "# T=int(input())\n",
        "\n",
        "for test_case in range(1,T+1):\n",
        "    N=int(input())\n",
        "    lst=[2,3,5,7,11]\n",
        "    cnt=[0]*len(lst)\n",
        "    j=0\n",
        "    for i in lst:\n",
        "        N_cnt=N\n",
        "        while True:\n",
        "            if N_cnt%i!=0:\n",
        "                break\n",
        "                \n",
        "\n",
        "            else:\n",
        "                if N%i==0:\n",
        "                    cnt[j]+=1\n",
        "                    N_cnt=int(N_cnt/i)\n",
        "\n",
        "\n",
        "        j+=1        \n",
        "\n",
        "    print(cnt)\n",
        "\n"
      ],
      "metadata": {
        "colab": {
          "base_uri": "https://localhost:8080/"
        },
        "id": "i_WOOYOlyC65",
        "outputId": "d179aac5-fe73-475b-9b22-30daa2025c20"
      },
      "execution_count": 104,
      "outputs": [
        {
          "output_type": "stream",
          "name": "stdout",
          "text": [
            "6791400\n",
            "[3, 2, 2, 3, 1]\n"
          ]
        }
      ]
    },
    {
      "cell_type": "code",
      "source": [
        "#연속한 1회의 갯수\n",
        "T=int(input())\n",
        "for test_case in range(1,T+1):\n",
        "        N=int(input())\n",
        "        lst=list(map(int,input()))\n",
        "        cnt=0\n",
        "        mx=0\n",
        "\n",
        "        if lst[0]==1:\n",
        "            cnt+=1\n",
        "        else:\n",
        "            cnt=0\n",
        "\n",
        "        for i in range(1,N):\n",
        "\n",
        "            if lst[i]==1:\n",
        "                if lst[i-1]==1:\n",
        "                    cnt+=1\n",
        "                \n",
        "                elif lst[i-1]==0:\n",
        "                    cnt+=1\n",
        "\n",
        "                if cnt>mx:\n",
        "                    mx=cnt\n",
        "\n",
        "            elif lst[i]==0:\n",
        "                cnt=0\n",
        "\n",
        "        print(f\"#{test_case}\",mx)\n",
        "\n"
      ],
      "metadata": {
        "colab": {
          "base_uri": "https://localhost:8080/"
        },
        "id": "ULotEwF35BKM",
        "outputId": "ebfec797-a434-4982-9075-9385f99ee0b8"
      },
      "execution_count": 141,
      "outputs": [
        {
          "output_type": "stream",
          "name": "stdout",
          "text": [
            "1\n",
            "10\n",
            "1111111111\n",
            "#1 10\n"
          ]
        }
      ]
    },
    {
      "cell_type": "code",
      "source": [
        "lst=[1,2,3,4,5]\n",
        "min_a,max_a=min_max[lst]\n",
        "\n",
        "print(min_a)"
      ],
      "metadata": {
        "colab": {
          "base_uri": "https://localhost:8080/",
          "height": 232
        },
        "id": "HG1Tek7FB3gu",
        "outputId": "f8acf637-c969-4a8e-87bd-2ee79ab8633c"
      },
      "execution_count": 143,
      "outputs": [
        {
          "output_type": "error",
          "ename": "NameError",
          "evalue": "ignored",
          "traceback": [
            "\u001b[0;31m---------------------------------------------------------------------------\u001b[0m",
            "\u001b[0;31mNameError\u001b[0m                                 Traceback (most recent call last)",
            "\u001b[0;32m<ipython-input-143-4e08a5acb4bb>\u001b[0m in \u001b[0;36m<module>\u001b[0;34m\u001b[0m\n\u001b[1;32m      1\u001b[0m \u001b[0mlst\u001b[0m\u001b[0;34m=\u001b[0m\u001b[0;34m[\u001b[0m\u001b[0;36m1\u001b[0m\u001b[0;34m,\u001b[0m\u001b[0;36m2\u001b[0m\u001b[0;34m,\u001b[0m\u001b[0;36m3\u001b[0m\u001b[0;34m,\u001b[0m\u001b[0;36m4\u001b[0m\u001b[0;34m,\u001b[0m\u001b[0;36m5\u001b[0m\u001b[0;34m]\u001b[0m\u001b[0;34m\u001b[0m\u001b[0;34m\u001b[0m\u001b[0m\n\u001b[0;32m----> 2\u001b[0;31m \u001b[0mmin_a\u001b[0m\u001b[0;34m,\u001b[0m\u001b[0mmax_a\u001b[0m\u001b[0;34m=\u001b[0m\u001b[0mmin_max\u001b[0m\u001b[0;34m[\u001b[0m\u001b[0mlst\u001b[0m\u001b[0;34m]\u001b[0m\u001b[0;34m\u001b[0m\u001b[0;34m\u001b[0m\u001b[0m\n\u001b[0m\u001b[1;32m      3\u001b[0m \u001b[0;34m\u001b[0m\u001b[0m\n\u001b[1;32m      4\u001b[0m \u001b[0mprint\u001b[0m\u001b[0;34m(\u001b[0m\u001b[0mmin_a\u001b[0m\u001b[0;34m)\u001b[0m\u001b[0;34m\u001b[0m\u001b[0;34m\u001b[0m\u001b[0m\n",
            "\u001b[0;31mNameError\u001b[0m: name 'min_max' is not defined"
          ]
        }
      ]
    },
    {
      "cell_type": "code",
      "source": [
        "# 연속적으로 커진 경우 카운트하면 됨\n",
        "#테스트케이스 N의 리스트가 주어지면 만약 내가 뽑은게 전의 것과 같아면 +1하면 됨\n",
        "\n",
        "T=int(input())\n",
        "for test_case in range(1,T+1):\n",
        "    N=int(input())\n",
        "    lst=list(map(int,input().split()))\n",
        "    cnt=0\n",
        "    mx=0\n",
        "    for i in range(1,N):\n",
        "        if lst[i]-lst[i-1]==1:\n",
        "            cnt+=1\n",
        "            if cnt>mx:\n",
        "                mx=cnt\n",
        "\n",
        "        else:\n",
        "            cnt=0\n",
        "\n",
        "\n",
        "    print(f\"#{test_case}\", mx)"
      ],
      "metadata": {
        "colab": {
          "base_uri": "https://localhost:8080/",
          "height": 404
        },
        "id": "2WDWzGg6Jbsu",
        "outputId": "276ca6e6-02b4-451d-c7b9-b0a2072aadd0"
      },
      "execution_count": 144,
      "outputs": [
        {
          "output_type": "error",
          "ename": "KeyboardInterrupt",
          "evalue": "ignored",
          "traceback": [
            "\u001b[0;31m---------------------------------------------------------------------------\u001b[0m",
            "\u001b[0;31mKeyboardInterrupt\u001b[0m                         Traceback (most recent call last)",
            "\u001b[0;32m<ipython-input-144-e709ea5b17e0>\u001b[0m in \u001b[0;36m<module>\u001b[0;34m\u001b[0m\n\u001b[1;32m      2\u001b[0m \u001b[0;31m#테스트케이스 N의 리스트가 주어지면 만약 내가 뽑은게 전의 것과 같아면 +1하면 됨\u001b[0m\u001b[0;34m\u001b[0m\u001b[0;34m\u001b[0m\u001b[0;34m\u001b[0m\u001b[0m\n\u001b[1;32m      3\u001b[0m \u001b[0;34m\u001b[0m\u001b[0m\n\u001b[0;32m----> 4\u001b[0;31m \u001b[0mT\u001b[0m\u001b[0;34m=\u001b[0m\u001b[0mint\u001b[0m\u001b[0;34m(\u001b[0m\u001b[0minput\u001b[0m\u001b[0;34m(\u001b[0m\u001b[0;34m)\u001b[0m\u001b[0;34m)\u001b[0m\u001b[0;34m\u001b[0m\u001b[0;34m\u001b[0m\u001b[0m\n\u001b[0m\u001b[1;32m      5\u001b[0m \u001b[0mN\u001b[0m\u001b[0;34m=\u001b[0m\u001b[0mint\u001b[0m\u001b[0;34m(\u001b[0m\u001b[0minput\u001b[0m\u001b[0;34m(\u001b[0m\u001b[0;34m)\u001b[0m\u001b[0;34m)\u001b[0m\u001b[0;34m\u001b[0m\u001b[0;34m\u001b[0m\u001b[0m\n\u001b[1;32m      6\u001b[0m \u001b[0mlst\u001b[0m\u001b[0;34m=\u001b[0m\u001b[0mlist\u001b[0m\u001b[0;34m(\u001b[0m\u001b[0mmap\u001b[0m\u001b[0;34m(\u001b[0m\u001b[0mint\u001b[0m\u001b[0;34m,\u001b[0m\u001b[0minput\u001b[0m\u001b[0;34m(\u001b[0m\u001b[0;34m)\u001b[0m\u001b[0;34m.\u001b[0m\u001b[0msplit\u001b[0m\u001b[0;34m(\u001b[0m\u001b[0;34m)\u001b[0m\u001b[0;34m)\u001b[0m\u001b[0;34m)\u001b[0m\u001b[0;34m\u001b[0m\u001b[0;34m\u001b[0m\u001b[0m\n",
            "\u001b[0;32m/usr/local/lib/python3.8/dist-packages/ipykernel/kernelbase.py\u001b[0m in \u001b[0;36mraw_input\u001b[0;34m(self, prompt)\u001b[0m\n\u001b[1;32m    858\u001b[0m                 \u001b[0;34m\"raw_input was called, but this frontend does not support input requests.\"\u001b[0m\u001b[0;34m\u001b[0m\u001b[0;34m\u001b[0m\u001b[0m\n\u001b[1;32m    859\u001b[0m             )\n\u001b[0;32m--> 860\u001b[0;31m         return self._input_request(str(prompt),\n\u001b[0m\u001b[1;32m    861\u001b[0m             \u001b[0mself\u001b[0m\u001b[0;34m.\u001b[0m\u001b[0m_parent_ident\u001b[0m\u001b[0;34m,\u001b[0m\u001b[0;34m\u001b[0m\u001b[0;34m\u001b[0m\u001b[0m\n\u001b[1;32m    862\u001b[0m             \u001b[0mself\u001b[0m\u001b[0;34m.\u001b[0m\u001b[0m_parent_header\u001b[0m\u001b[0;34m,\u001b[0m\u001b[0;34m\u001b[0m\u001b[0;34m\u001b[0m\u001b[0m\n",
            "\u001b[0;32m/usr/local/lib/python3.8/dist-packages/ipykernel/kernelbase.py\u001b[0m in \u001b[0;36m_input_request\u001b[0;34m(self, prompt, ident, parent, password)\u001b[0m\n\u001b[1;32m    902\u001b[0m             \u001b[0;32mexcept\u001b[0m \u001b[0mKeyboardInterrupt\u001b[0m\u001b[0;34m:\u001b[0m\u001b[0;34m\u001b[0m\u001b[0;34m\u001b[0m\u001b[0m\n\u001b[1;32m    903\u001b[0m                 \u001b[0;31m# re-raise KeyboardInterrupt, to truncate traceback\u001b[0m\u001b[0;34m\u001b[0m\u001b[0;34m\u001b[0m\u001b[0;34m\u001b[0m\u001b[0m\n\u001b[0;32m--> 904\u001b[0;31m                 \u001b[0;32mraise\u001b[0m \u001b[0mKeyboardInterrupt\u001b[0m\u001b[0;34m(\u001b[0m\u001b[0;34m\"Interrupted by user\"\u001b[0m\u001b[0;34m)\u001b[0m \u001b[0;32mfrom\u001b[0m \u001b[0;32mNone\u001b[0m\u001b[0;34m\u001b[0m\u001b[0;34m\u001b[0m\u001b[0m\n\u001b[0m\u001b[1;32m    905\u001b[0m             \u001b[0;32mexcept\u001b[0m \u001b[0mException\u001b[0m \u001b[0;32mas\u001b[0m \u001b[0me\u001b[0m\u001b[0;34m:\u001b[0m\u001b[0;34m\u001b[0m\u001b[0;34m\u001b[0m\u001b[0m\n\u001b[1;32m    906\u001b[0m                 \u001b[0mself\u001b[0m\u001b[0;34m.\u001b[0m\u001b[0mlog\u001b[0m\u001b[0;34m.\u001b[0m\u001b[0mwarning\u001b[0m\u001b[0;34m(\u001b[0m\u001b[0;34m\"Invalid Message:\"\u001b[0m\u001b[0;34m,\u001b[0m \u001b[0mexc_info\u001b[0m\u001b[0;34m=\u001b[0m\u001b[0;32mTrue\u001b[0m\u001b[0;34m)\u001b[0m\u001b[0;34m\u001b[0m\u001b[0;34m\u001b[0m\u001b[0m\n",
            "\u001b[0;31mKeyboardInterrupt\u001b[0m: Interrupted by user"
          ]
        }
      ]
    },
    {
      "cell_type": "code",
      "source": [
        "1"
      ],
      "metadata": {
        "colab": {
          "base_uri": "https://localhost:8080/"
        },
        "id": "XAO6w4dcLiWQ",
        "outputId": "8d6b4fef-63de-4620-ed21-fbcbdeed2a2e"
      },
      "execution_count": 145,
      "outputs": [
        {
          "output_type": "execute_result",
          "data": {
            "text/plain": [
              "1"
            ]
          },
          "metadata": {},
          "execution_count": 145
        }
      ]
    },
    {
      "cell_type": "code",
      "source": [
        "T=int(input())\n",
        "for test_case in range(1,T+1):\n",
        "    N,Q=map(int,input().split())\n",
        "    lst=[0]*(N+1)\n",
        "    L_lst=[0]*(Q+1)\n",
        "    R_lst=[0]*(Q+1)\n",
        "    \n",
        "    for i in range(1,Q+1):\n",
        "        L,R=map(int,input().split())\n",
        "        L_lst[i]=L\n",
        "        R_lst[i]=R\n",
        "\n",
        "\n",
        "    for i in range(1,Q+1):\n",
        "        for j in range(L_lst[i],R_lst[i]+1):\n",
        "            lst[j]=i\n",
        "\n",
        "    \n",
        "    print(f\"#{test_case}\",*lst[1:])\n",
        "            \n"
      ],
      "metadata": {
        "colab": {
          "base_uri": "https://localhost:8080/"
        },
        "id": "-IW3_gEWh7Kz",
        "outputId": "2bde0315-1ee0-4992-94fe-467a9dc4d3cb"
      },
      "execution_count": 164,
      "outputs": [
        {
          "output_type": "stream",
          "name": "stdout",
          "text": [
            "1\n",
            "5 2\n",
            "1 3\n",
            "2 4\n",
            "#1 1 2 2 2 0\n"
          ]
        }
      ]
    },
    {
      "cell_type": "code",
      "source": [
        "lst=[0]+[0,2,3] #-> 리스트 추가하는 방법 알아보기\n",
        "print(lst)"
      ],
      "metadata": {
        "id": "2XKjdkAxjRaJ"
      },
      "execution_count": null,
      "outputs": []
    },
    {
      "cell_type": "code",
      "source": [
        "#두개의 숫자열\n",
        "# max가 -일수도 있음 -> +=이기 때문에 -일 때도 판별 됨 -> -일 때는 판별되지 않음 잘못 짠 코드임\n",
        "\n",
        "T=int(input())\n",
        "for test_case in range(1,T+1):\n",
        "    N,M=map(int,input().split())\n",
        "    A=list(map(int,input().split()))\n",
        "    B=list(map(int,input().split()))\n",
        "    mx=0\n",
        "    ans=0\n",
        "\n",
        "    if N>M:\n",
        "        for i in range(0,N-M+1):\n",
        "            mx=0\n",
        "            target=[0]*N\n",
        "            for j in range(M):\n",
        "                target[i+j]=B[j]\n",
        "                \n",
        "            for i in range(len(A)):\n",
        "                mx+=target[i]*A[i]\n",
        "\n",
        "            if mx>ans:\n",
        "                ans=mx\n",
        "            \n",
        "\n",
        "            \n",
        "            #print(target)\n",
        "                \n",
        "    \n",
        "    elif M>N:\n",
        "        for i in range(0,M-N+1):\n",
        "            mx=0\n",
        "            target=[0]*M\n",
        "            for j in range(N):\n",
        "                target[i+j]=A[j]   \n",
        "\n",
        "            \n",
        "            for i in range(len(B)):\n",
        "                mx+=target[i]*B[i]\n",
        "                #print(target)\n",
        "                #print(B)\n",
        "                print(mx)\n",
        "           \n",
        "            if mx>ans:\n",
        "                ans=mx\n",
        "                print(ans,\"ans\")\n",
        "            \n",
        "        \n",
        "\n",
        "    else:\n",
        "        for i in range(len(B)):\n",
        "                mx+=target[i]*B[i]\n",
        "                ans=mx\n",
        "\n",
        "\n",
        "    print(f\"#{test_case}\", ans )\n",
        "\n",
        "#주말 feedback해야 할 듯"
      ],
      "metadata": {
        "colab": {
          "base_uri": "https://localhost:8080/"
        },
        "id": "sAVvNHHFj-kB",
        "outputId": "282df59c-8053-41a6-d7c2-7248ebae5bb0"
      },
      "execution_count": 201,
      "outputs": [
        {
          "output_type": "stream",
          "name": "stdout",
          "text": [
            "1\n",
            "3 5\n",
            "1 2 3\n",
            "-1 -2 -3 -4 -5\n",
            "-1\n",
            "-5\n",
            "-14\n",
            "-14\n",
            "-14\n",
            "0\n",
            "-2\n",
            "-8\n",
            "-20\n",
            "-20\n",
            "0\n",
            "0\n",
            "-3\n",
            "-11\n",
            "-26\n",
            "#1 0\n"
          ]
        }
      ]
    },
    {
      "cell_type": "code",
      "source": [
        "#버스문제 다시 생각해볼 것\n",
        "\n",
        "T=int(input())\n",
        "for test_case in range(1,T+1):\n",
        "    N=int(input())\n",
        "    lst_A=[0]*(N+1)\n",
        "    lst_B=[0]*(N+1)\n",
        "    bus=[]\n",
        "\n",
        "        L, A, B=map(int,input().split())\n",
        "        \n",
        "        lst_A[i],lst_B[i]=A,B\n",
        "\n",
        "\n",
        "        # for j in range(lst_A[i],lst_B[i]):\n",
        "        #     bus[i].append(j)\n",
        "\n",
        "    \n",
        "    # print(bus)\n"
      ],
      "metadata": {
        "colab": {
          "base_uri": "https://localhost:8080/"
        },
        "id": "yY92e09JpKYt",
        "outputId": "82da7906-2417-4fee-e451-625dba6d6ccf"
      },
      "execution_count": 216,
      "outputs": [
        {
          "name": "stdout",
          "output_type": "stream",
          "text": [
            "1\n",
            "2\n",
            "3 4 5\n",
            "1 2 3\n"
          ]
        }
      ]
    },
    {
      "cell_type": "code",
      "source": [
        "#D 전면부 사이의 거리\n",
        "#A는 A기차의 속력\n",
        "#B는 B기차의 속력\n",
        "#F는 파리의 속력\n",
        "\n",
        "T=int(input())\n",
        "for test_case in range(1,T+1):\n",
        "    D,A,B,F=map(int,input().split())\n",
        "    #1 기차가 충돌할 때까지의 시간\n",
        "\n",
        "    F_sum=0\n",
        "    while True:\n",
        "        if 200-F_sum<=10**(-6):\n",
        "            print(f\"#{test_case} {F_sum}\")\n",
        "            break\n",
        "\n",
        "        \n",
        "        else:\n",
        "            i=D/35\n",
        "            F_sum+=F*i\n",
        "            D=D-35*i\n",
        "\n",
        "        \n"
      ],
      "metadata": {
        "colab": {
          "base_uri": "https://localhost:8080/",
          "height": 287
        },
        "id": "zXW0JMUjHZnb",
        "outputId": "a9b9d675-04a4-4f9b-e8d3-1c5f93c0ef75"
      },
      "execution_count": 228,
      "outputs": [
        {
          "name": "stdout",
          "output_type": "stream",
          "text": [
            "1\n",
            "250 10 15 20\n"
          ]
        },
        {
          "output_type": "error",
          "ename": "KeyboardInterrupt",
          "evalue": "ignored",
          "traceback": [
            "\u001b[0;31m---------------------------------------------------------------------------\u001b[0m",
            "\u001b[0;31mKeyboardInterrupt\u001b[0m                         Traceback (most recent call last)",
            "\u001b[0;32m<ipython-input-228-415a80894c20>\u001b[0m in \u001b[0;36m<module>\u001b[0;34m\u001b[0m\n\u001b[1;32m     20\u001b[0m             \u001b[0mi\u001b[0m\u001b[0;34m=\u001b[0m\u001b[0mD\u001b[0m\u001b[0;34m/\u001b[0m\u001b[0;36m35\u001b[0m\u001b[0;34m\u001b[0m\u001b[0;34m\u001b[0m\u001b[0m\n\u001b[1;32m     21\u001b[0m             \u001b[0mF_sum\u001b[0m\u001b[0;34m+=\u001b[0m\u001b[0;36m20\u001b[0m\u001b[0;34m*\u001b[0m\u001b[0mi\u001b[0m\u001b[0;34m\u001b[0m\u001b[0;34m\u001b[0m\u001b[0m\n\u001b[0;32m---> 22\u001b[0;31m             \u001b[0mD\u001b[0m\u001b[0;34m=\u001b[0m\u001b[0mD\u001b[0m\u001b[0;34m-\u001b[0m\u001b[0;36m35\u001b[0m\u001b[0;34m*\u001b[0m\u001b[0mi\u001b[0m\u001b[0;34m\u001b[0m\u001b[0;34m\u001b[0m\u001b[0m\n\u001b[0m\u001b[1;32m     23\u001b[0m \u001b[0;34m\u001b[0m\u001b[0m\n\u001b[1;32m     24\u001b[0m \u001b[0;34m\u001b[0m\u001b[0m\n",
            "\u001b[0;31mKeyboardInterrupt\u001b[0m: "
          ]
        }
      ]
    },
    {
      "cell_type": "code",
      "source": [
        "#기차, 파리 낚시 문제, 정공법이 아닌 흐름 파악이 우선\n",
        "T=int(input())\n",
        "for test_case in range(1,T+1):\n",
        "    D,A,B,F=map(int,input().split())\n",
        "\n",
        "    tme=D/(A+B)\n",
        "    D_sum=tme*F\n",
        "\n",
        "    print(f\"#{test_case} {D_sum}\")"
      ],
      "metadata": {
        "colab": {
          "base_uri": "https://localhost:8080/"
        },
        "id": "fVZtTqg0MmA_",
        "outputId": "a1ae7f67-5312-472e-a3e3-20733a1d15ed"
      },
      "execution_count": 230,
      "outputs": [
        {
          "output_type": "stream",
          "name": "stdout",
          "text": [
            "1\n",
            "250 10 15 20\n",
            "#1 200.0\n"
          ]
        }
      ]
    },
    {
      "cell_type": "code",
      "source": [
        "#오류 코드##\n",
        "T=int(input())\n",
        "for test_case in range(1,T+1):\n",
        "    N=int(input())\n",
        "    cnt=[0]*50\n",
        "    ans=0\n",
        "    \n",
        "\n",
        "    \n",
        "\n",
        "\n",
        "    for i in range(N):\n",
        "        L,A,B=map(int,input().split())\n",
        "        ans=0\n",
        "\n",
        "        for i in range(B+1-A):\n",
        "            if L==1:\n",
        "                cnt[A+i]+=1\n",
        "                if i>B:\n",
        "                    break\n",
        "\n",
        "            if L==2:\n",
        "                cnt[A+i*2]+=1\n",
        "                if i>B:\n",
        "                    break\n",
        "\n",
        "            if L==3:\n",
        "                if A%2==1:\n",
        "                    if (A+i*3)%10==0:\n",
        "                        pass\n",
        "\n",
        "                    else: \n",
        "                        cnt[A+i*3]+=1 \n",
        "                    if i>B:\n",
        "                        break\n",
        "                else:\n",
        "                    if A<4*i<=B+1:\n",
        "                        cnt[4*i]+=1\n",
        "                        if i>B:\n",
        "                            break\n",
        "\n",
        "                    \n",
        "            \n",
        "    ans=max(cnt)\n",
        "\n",
        "\n",
        "\n",
        "\n",
        "    print(f\"#{test_case} {ans}\")"
      ],
      "metadata": {
        "colab": {
          "base_uri": "https://localhost:8080/"
        },
        "id": "a14Y4sXbMmon",
        "outputId": "86fa81cb-c5b5-4779-fb71-934f6f8b6a0a"
      },
      "execution_count": 240,
      "outputs": [
        {
          "output_type": "stream",
          "name": "stdout",
          "text": [
            "1\n",
            "3\n",
            "1 2 5\n",
            "2 3 10\n",
            "3 2 9\n",
            "#1 2\n"
          ]
        }
      ]
    },
    {
      "cell_type": "code",
      "source": [
        "# 곱씹으면서 해보기\n",
        "T = int(input())\n",
        "ans=0\n",
        "for test_case in range(1, T + 1):\n",
        "    N = int(input())\n",
        "    cnts = [0] * 1001\n",
        "    for _ in range(N):\n",
        "        B, S, E = map(int, input().split())\n",
        "        if B == 1:  # 일반버스\n",
        "            for i in range(S, E + 1):\n",
        "                cnts[i] += 1\n",
        "\n",
        "        elif B == 2:  # 광역버스\n",
        "            cnts[E] += 1  # 홀수이던 짝수이던 무조건 +2\n",
        "            for i in range(S, E, 2):\n",
        "                cnts[i] += 1\n",
        "\n",
        "        else:\n",
        "            cnts[S] += 1\n",
        "            cnts[E] += 1\n",
        "            for i in range(S + 1, E):\n",
        "                # 짝수이면서 4의 배수 또는 홀수& 3의 배수& 10의 배수\n",
        "                if (S % 2 == 0 and i % 4 == 0) or (S % 2 != 0 and i % 3 == 0 and i % 10 != 0):\n",
        "                    cnts[i] += 1\n",
        "\n",
        "    for n in cnts:  # 최댓값\n",
        "        if ans < n:\n",
        "            ans = n\n",
        "\n",
        "    print(ans)"
      ],
      "metadata": {
        "id": "ub0aEaYUdBeN"
      },
      "execution_count": null,
      "outputs": []
    }
  ]
}