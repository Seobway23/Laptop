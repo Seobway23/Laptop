{
  "nbformat": 4,
  "nbformat_minor": 0,
  "metadata": {
    "colab": {
      "provenance": [],
      "authorship_tag": "ABX9TyMtmSsAQfxbSAlUThm/z9F3",
      "include_colab_link": true
    },
    "kernelspec": {
      "name": "python3",
      "display_name": "Python 3"
    },
    "language_info": {
      "name": "python"
    }
  },
  "cells": [
    {
      "cell_type": "markdown",
      "metadata": {
        "id": "view-in-github",
        "colab_type": "text"
      },
      "source": [
        "<a href=\"https://colab.research.google.com/github/Seobway23/Laptop/blob/master/0305.ipynb\" target=\"_parent\"><img src=\"https://colab.research.google.com/assets/colab-badge.svg\" alt=\"Open In Colab\"/></a>"
      ]
    },
    {
      "cell_type": "code",
      "execution_count": null,
      "metadata": {
        "colab": {
          "base_uri": "https://localhost:8080/"
        },
        "id": "NXUHCMxnmnH6",
        "outputId": "b6def1b5-ff3f-4112-9212-d62d46896c2c"
      },
      "outputs": [
        {
          "output_type": "stream",
          "name": "stdout",
          "text": [
            "4\n",
            "0 2 10 10\n",
            "7 9 8 4\n",
            "8 4 10 6\n",
            "6 0 12 10\n",
            "62\n",
            "24\n",
            "0\n",
            "120\n"
          ]
        }
      ],
      "source": [
        "#색종이\n",
        "T = int(input())\n",
        "N = 100\n",
        "arr = [[0]*N for _ in range(N) ]\n",
        "#색종이 놓기\n",
        "for t in range(1, T+1):\n",
        "    si, sj, ei, ej = map(int, input().split())\n",
        "\n",
        "    for i in range(si, si + ei):\n",
        "        for j in range(sj, sj + ej):\n",
        "            arr[i][j] = t\n",
        "\n",
        "#판별 시작\n",
        "v = [0] * (T+1)\n",
        "for i in range(N):\n",
        "    for j in range(N):\n",
        "        if arr[i][j]>0:\n",
        "            v[arr[i][j]] += 1\n",
        "\n",
        "for k in v[1:]:\n",
        "    print(k)\n",
        "\n",
        "\n",
        "\n",
        "\n"
      ]
    },
    {
      "cell_type": "code",
      "source": [],
      "metadata": {
        "id": "2MkKpD0Arpng"
      },
      "execution_count": null,
      "outputs": []
    }
  ]
}