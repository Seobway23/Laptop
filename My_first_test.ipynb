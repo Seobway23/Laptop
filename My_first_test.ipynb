{
  "nbformat": 4,
  "nbformat_minor": 0,
  "metadata": {
    "colab": {
      "provenance": [],
      "authorship_tag": "ABX9TyNUCpmEEFS1epwTLni3oEPj",
      "include_colab_link": true
    },
    "kernelspec": {
      "name": "python3",
      "display_name": "Python 3"
    },
    "language_info": {
      "name": "python"
    }
  },
  "cells": [
    {
      "cell_type": "markdown",
      "metadata": {
        "id": "view-in-github",
        "colab_type": "text"
      },
      "source": [
        "<a href=\"https://colab.research.google.com/github/Seobway23/Laptop/blob/master/My_first_test.ipynb\" target=\"_parent\"><img src=\"https://colab.research.google.com/assets/colab-badge.svg\" alt=\"Open In Colab\"/></a>"
      ]
    },
    {
      "cell_type": "markdown",
      "source": [
        "### 1번 review\n",
        "- 다행히 잘 품\n",
        "- list, sum 이용하면 됨"
      ],
      "metadata": {
        "id": "V4NHbLStw2Jm"
      }
    },
    {
      "cell_type": "code",
      "execution_count": null,
      "metadata": {
        "id": "pEXa8WISuyEY"
      },
      "outputs": [],
      "source": [
        "#1\n",
        "# sum / len을 통해 average 구함\n",
        "def average(scores):\n",
        "\n",
        "    list_average=sum(scores)/len(scores)\n",
        "\n",
        "    return list_average\n",
        "\n",
        "#ㅡㅡㅡㅡㅡㅡㅡㅡㅡㅡㅡㅡㅡㅡㅡㅡㅡㅡㅡㅡㅡㅡㅡㅡㅡㅡㅡㅡ\n",
        "if __name__ == '__main__':\n",
        "    scores = [80, 90, 85, 75]\n",
        "    print(average(scores))    # 82.5"
      ]
    },
    {
      "cell_type": "markdown",
      "source": [
        "### 2번 review\n",
        "- 내장함수 사용 없이 min, max 뽑아내기\n",
        "- sorted함수 사용했음\n",
        "- 튜플로 묶어 반환한다-> 숫자로 나타내라"
      ],
      "metadata": {
        "id": "oy6qDdlDxlq9"
      }
    },
    {
      "cell_type": "code",
      "source": [
        "#2\n",
        "# python 내장함수 min, max 사용 금지\n",
        "def min_max(scores):\n",
        "\n",
        "    len_scores=len(scores)\n",
        "    sorted_scores=sorted(scores)\n",
        "\n",
        "    min_max_lst=tuple((sorted_scores[0],sorted_scores[len_scores-1]))\n",
        "\n",
        "    return min_max_lst\n",
        "\n",
        "\n",
        "#ㅡㅡㅡㅡㅡㅡㅡㅡㅡㅡㅡㅡㅡㅡㅡㅡㅡㅡㅡㅡㅡㅡㅡㅡㅡㅡㅡㅡ\n",
        "if __name__ == '__main__':\n",
        "    scores = [80, 90, 85, 75]\n",
        "    print(min_max(scores))    #답 (75, 90)\n"
      ],
      "metadata": {
        "id": "I9xs3lPSxjI9"
      },
      "execution_count": null,
      "outputs": []
    },
    {
      "cell_type": "markdown",
      "source": [
        "### 3번 review\n",
        "- values -> sum 이용\n"
      ],
      "metadata": {
        "id": "fSyZ2RUUyA_d"
      }
    },
    {
      "cell_type": "code",
      "source": [],
      "metadata": {
        "id": "JtWG-yKwyAkV"
      },
      "execution_count": null,
      "outputs": []
    },
    {
      "cell_type": "markdown",
      "source": [
        "### 4번 review\n",
        "- user_rating 키의 value-> get함수 이용\n"
      ],
      "metadata": {
        "id": "-Hz8eQcHzyLs"
      }
    },
    {
      "cell_type": "code",
      "source": [],
      "metadata": {
        "id": "UKPKhMX6z3T0"
      },
      "execution_count": null,
      "outputs": []
    },
    {
      "cell_type": "markdown",
      "source": [
        "### 5번 review\n",
        "- dictionary의 비용key의 value값 .values()\n",
        "- 1번째꺼 list()화 시킨 후 sum으로 합 구함"
      ],
      "metadata": {
        "id": "qRv5u7U00GVb"
      }
    },
    {
      "cell_type": "code",
      "source": [],
      "metadata": {
        "id": "PMogeFBp0EQ7"
      },
      "execution_count": null,
      "outputs": []
    },
    {
      "cell_type": "markdown",
      "source": [
        "### 6번 review\n",
        "- 나이 age의 value if 문 이용하여 초과하면 +1"
      ],
      "metadata": {
        "id": "EPNcmnyp0YLk"
      }
    },
    {
      "cell_type": "code",
      "source": [],
      "metadata": {
        "id": "6YxVVWfk0XEM"
      },
      "execution_count": null,
      "outputs": []
    },
    {
      "cell_type": "markdown",
      "source": [
        "### 7번 review\n",
        "- *number의 경우 tuple로 들어옴\n",
        "- 입력 1개 일 땐 반드시 [0] 인덱스 추가해야 함\n",
        "- 2개의 경우 a,b=numbers로 해도 됨\n",
        "- 3개의 경우 바로 sum(numbers)하면 끝"
      ],
      "metadata": {
        "id": "CzdCj7OT0ZQU"
      }
    },
    {
      "cell_type": "code",
      "source": [],
      "metadata": {
        "id": "RikMFO8133KB"
      },
      "execution_count": null,
      "outputs": []
    },
    {
      "cell_type": "markdown",
      "source": [
        "### 8번  review\n",
        "- 1) Alp>=97 and Alp>122:\n",
        "- 2) Alp>65 and Alp>90:\n",
        "- 사실 이 2개 밖에 모름, 100, 200일 때는 어떻게 해야 할 지 막막함.....\n"
      ],
      "metadata": {
        "id": "ET7YXz_J1CQD"
      }
    },
    {
      "cell_type": "code",
      "source": [],
      "metadata": {
        "id": "CQsTjUff0Yrb"
      },
      "execution_count": null,
      "outputs": []
    },
    {
      "cell_type": "markdown",
      "source": [
        "### 9번 review -> 아예 못풀었음\n",
        "- 재귀함수-> 함수 안에 함수가 있는 함수(내 안에 나 있다)\n",
        "\n",
        "- if 안에 if"
      ],
      "metadata": {
        "id": "JbEFV0uH2U7q"
      }
    },
    {
      "cell_type": "code",
      "source": [
        "def dec_to_bin(number):\n",
        "\n",
        "    if number==0:      # 기저조건1\n",
        "        return '0'\n",
        "\n",
        "    elif number==1:    # 기저조건 2\n",
        "        return '1'\n",
        "\n",
        "    if (number%2==0):\n",
        "        return dec_to_bin(number//2)+'0' #재귀 호출\n",
        "\n",
        "    else:\n",
        "        return dec_to_bin(number//2)+'1' \n",
        "\n",
        "\n",
        "#ㅡㅡㅡㅡㅡㅡㅡㅡㅡㅡㅡㅡㅡㅡㅡㅡㅡㅡㅡㅡㅡㅡㅡㅡㅡㅡㅡㅡ\n",
        "if __name__ == '__main__':\n",
        "    print(dec_to_bin(10))  # 답1010\n",
        "    print(dec_to_bin(5))   # 답101\n",
        "    print(dec_to_bin(51))  # 답110011\n"
      ],
      "metadata": {
        "colab": {
          "base_uri": "https://localhost:8080/"
        },
        "id": "McFVswPu2VPi",
        "outputId": "592b0eea-4561-4799-e2c6-d9a8dbb26c73"
      },
      "execution_count": null,
      "outputs": [
        {
          "output_type": "stream",
          "name": "stdout",
          "text": [
            "1010\n",
            "101\n",
            "110010\n"
          ]
        }
      ]
    },
    {
      "cell_type": "code",
      "source": [
        "def A_2(num):\n",
        "\n",
        "    if num==0:\n",
        "        return '0'\n",
        "\n",
        "    if num==1:\n",
        "        return '1'\n",
        "\n",
        "    if num%2==0:\n",
        "        return A_2(num//2)\n"
      ],
      "metadata": {
        "id": "kbvv84kEAdJM"
      },
      "execution_count": null,
      "outputs": []
    },
    {
      "cell_type": "markdown",
      "source": [
        "### 10번  review\n",
        "- 풀 수 있었지만 풀지 못했던 이유  \n",
        "  1) 쫄았음  \n",
        "  2) 따로따로 생각했지만, 범위 나누려고 생각못함  \n",
        "  3) 막상 해보니 쉬움-다행"
      ],
      "metadata": {
        "id": "gvGdiGKswPd-"
      }
    },
    {
      "cell_type": "code",
      "source": [],
      "metadata": {
        "colab": {
          "base_uri": "https://localhost:8080/"
        },
        "id": "76kn_Ys1uyyp",
        "outputId": "838c3d88-1add-4d87-f9d8-8522b47a7dee"
      },
      "execution_count": null,
      "outputs": [
        {
          "output_type": "stream",
          "name": "stdout",
          "text": [
            "True\n",
            "False\n"
          ]
        }
      ]
    }
  ]
}