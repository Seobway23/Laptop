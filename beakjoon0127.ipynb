{
  "nbformat": 4,
  "nbformat_minor": 0,
  "metadata": {
    "colab": {
      "provenance": [],
      "authorship_tag": "ABX9TyMgN3GQ5XCDQQ8WkCnjgXNL",
      "include_colab_link": true
    },
    "kernelspec": {
      "name": "python3",
      "display_name": "Python 3"
    },
    "language_info": {
      "name": "python"
    }
  },
  "cells": [
    {
      "cell_type": "markdown",
      "metadata": {
        "id": "view-in-github",
        "colab_type": "text"
      },
      "source": [
        "<a href=\"https://colab.research.google.com/github/Seobway23/Laptop/blob/master/beakjoon0127.ipynb\" target=\"_parent\"><img src=\"https://colab.research.google.com/assets/colab-badge.svg\" alt=\"Open In Colab\"/></a>"
      ]
    },
    {
      "cell_type": "markdown",
      "source": [
        "### 더하기 사이클\n",
        "\n",
        "2자리 수가 아니면 앞에 0을 붙여 2자리 수로 만들고 각 자리의 숫자를 더한다\n",
        "\n",
        "\n"
      ],
      "metadata": {
        "id": "d4FDwYvb_zY4"
      }
    },
    {
      "cell_type": "code",
      "execution_count": 2,
      "metadata": {
        "colab": {
          "base_uri": "https://localhost:8080/"
        },
        "id": "A9dDQC9j_xu1",
        "outputId": "c585b14f-07c8-466f-ed4f-35e8b577541f"
      },
      "outputs": [
        {
          "output_type": "stream",
          "name": "stdout",
          "text": [
            "02\n"
          ]
        }
      ],
      "source": [
        "x = 2\n",
        "print(str(x).zfill(2))"
      ]
    },
    {
      "cell_type": "code",
      "source": [
        "N=int(input())\n",
        "\n",
        "\n",
        "def count_A(N):\n",
        "\n",
        "    lst_A=[]\n",
        "    count_A=0   \n",
        "\n",
        "    while True:\n",
        "\n",
        "        ten_num=N//10\n",
        "        one_number=N%10\n",
        "        B=ten_num+one_number #더했을 때 새로운 수\n",
        "        # if B<10:\n",
        "        #     return one_number*10+one_number\n",
        "\n",
        "        C=str(B)[-1] #더했을 때 첫번째 숫자\n",
        "\n",
        "\n",
        "        if N in lst_A:\n",
        "            return count_A\n",
        "\n",
        "        else:\n",
        "            B_dd=one_number*10+int(C)\n",
        "            lst_A.append(N)\n",
        "            count_A+=1\n",
        "            N=B_dd\n",
        "            #print(A)\n",
        "            #print(lst_A)\n",
        "\n",
        "count_A(N)\n",
        "\n",
        "\n",
        "#뭔가 지금 이상함ㅜㅜㅜㅜ"
      ],
      "metadata": {
        "colab": {
          "base_uri": "https://localhost:8080/"
        },
        "id": "v8ZeclHaABjY",
        "outputId": "101ea6e8-1dc1-493c-b1ec-1ea236b074de"
      },
      "execution_count": 96,
      "outputs": [
        {
          "name": "stdout",
          "output_type": "stream",
          "text": [
            "26\n"
          ]
        },
        {
          "output_type": "execute_result",
          "data": {
            "text/plain": [
              "4"
            ]
          },
          "metadata": {},
          "execution_count": 96
        }
      ]
    },
    {
      "cell_type": "code",
      "source": [
        "B=200\n",
        "\n",
        "A=f'{B}'\n",
        "\n",
        "A[-1]"
      ],
      "metadata": {
        "colab": {
          "base_uri": "https://localhost:8080/",
          "height": 35
        },
        "id": "nczHlIBMDIhs",
        "outputId": "6b07e72e-85a6-4d3c-de7c-7fa00a951aee"
      },
      "execution_count": 94,
      "outputs": [
        {
          "output_type": "execute_result",
          "data": {
            "text/plain": [
              "'0'"
            ],
            "application/vnd.google.colaboratory.intrinsic+json": {
              "type": "string"
            }
          },
          "metadata": {},
          "execution_count": 94
        }
      ]
    },
    {
      "cell_type": "code",
      "source": [
        "N=int(input())\n",
        "\n",
        "\n",
        "lst_A=[]\n",
        "count_A=0   \n",
        "\n",
        "while True:\n",
        "\n",
        "    ten_num=N//10\n",
        "    one_number=N%10\n",
        "\n",
        "    B=ten_num+one_number #더했을 때 새로운 수\n",
        "    C=str(B)[-1] #더했을 때 첫번째 숫자\n",
        "\n",
        "if N in lst_A: \n",
        "    return count_A\n",
        "\n",
        "else:\n",
        "    B_dd=one_number*10+int(C)\n",
        "    lst_A.append(N)\n",
        "    count_A+=1\n",
        "    N=B_dd\n",
        "    #print(A)\n",
        "    #print(lst_A)\n"
      ],
      "metadata": {
        "id": "V-dwi-SrLuAY"
      },
      "execution_count": null,
      "outputs": []
    }
  ]
}