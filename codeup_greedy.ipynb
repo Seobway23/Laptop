{
  "nbformat": 4,
  "nbformat_minor": 0,
  "metadata": {
    "colab": {
      "provenance": [],
      "authorship_tag": "ABX9TyN+m+o3Yy50HGI91wWRCrbp",
      "include_colab_link": true
    },
    "kernelspec": {
      "name": "python3",
      "display_name": "Python 3"
    },
    "language_info": {
      "name": "python"
    }
  },
  "cells": [
    {
      "cell_type": "markdown",
      "metadata": {
        "id": "view-in-github",
        "colab_type": "text"
      },
      "source": [
        "<a href=\"https://colab.research.google.com/github/Seobway23/Laptop/blob/master/codeup_greedy.ipynb\" target=\"_parent\"><img src=\"https://colab.research.google.com/assets/colab-badge.svg\" alt=\"Open In Colab\"/></a>"
      ]
    },
    {
      "cell_type": "markdown",
      "source": [
        "# 2001: 최소 대금\n",
        "\n",
        "input 5개-> 대금의 최솟값\n",
        "3개는 파스타\n",
        "2개는 쥬스\n",
        "\n",
        "최소 파스타와 쥬스를 설정한 후\n",
        "합계의 10% 부가세 넣기\n"
      ],
      "metadata": {
        "id": "kHmqOZOLyFyn"
      }
    },
    {
      "cell_type": "code",
      "execution_count": 10,
      "metadata": {
        "colab": {
          "base_uri": "https://localhost:8080/"
        },
        "id": "DM0nGaI-x6eh",
        "outputId": "6ff44056-a5c6-482c-9f65-7e7ba706e91b"
      },
      "outputs": [
        {
          "output_type": "stream",
          "name": "stdout",
          "text": [
            "800\n",
            "700\n",
            "900\n",
            "198\n",
            "330\n",
            "[800, 700, 900]\n",
            "[198, 330]\n",
            "987.8\n"
          ]
        }
      ],
      "source": [
        "pasta_list=[]\n",
        "juice_list=[]\n",
        "for i in range(3):\n",
        "    N=int(input())\n",
        "    pasta_list.append(N)\n",
        "\n",
        "\n",
        "for i in range(2):\n",
        "    N=int(input())\n",
        "    juice_list.append(N)\n",
        "\n",
        "min_list=min(pasta_list)+min(juice_list)\n",
        "final_cost=min_list*(1+0.1)\n",
        "\n",
        "\n",
        "print(round(final_cost,1))\n",
        "\n"
      ]
    },
    {
      "cell_type": "markdown",
      "source": [
        "# 3120: 리모컨\n",
        "\n",
        "a,b input받음  \n",
        "a= 현재 온도  \n",
        "b= 목표 온도\n"
      ],
      "metadata": {
        "id": "5203ZeUO1r4F"
      }
    },
    {
      "cell_type": "code",
      "source": [],
      "metadata": {
        "id": "EQIymMS1zKpe"
      },
      "execution_count": null,
      "outputs": []
    }
  ]
}