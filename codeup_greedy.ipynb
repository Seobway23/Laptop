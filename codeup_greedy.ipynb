{
  "nbformat": 4,
  "nbformat_minor": 0,
  "metadata": {
    "colab": {
      "provenance": [],
      "authorship_tag": "ABX9TyOXCvG7eBWR5Slurnwtm1qC",
      "include_colab_link": true
    },
    "kernelspec": {
      "name": "python3",
      "display_name": "Python 3"
    },
    "language_info": {
      "name": "python"
    }
  },
  "cells": [
    {
      "cell_type": "markdown",
      "metadata": {
        "id": "view-in-github",
        "colab_type": "text"
      },
      "source": [
        "<a href=\"https://colab.research.google.com/github/Seobway23/Laptop/blob/master/codeup_greedy.ipynb\" target=\"_parent\"><img src=\"https://colab.research.google.com/assets/colab-badge.svg\" alt=\"Open In Colab\"/></a>"
      ]
    },
    {
      "cell_type": "markdown",
      "source": [
        "# 2001: 최소 대금\n",
        "\n",
        "input 5개-> 대금의 최솟값\n",
        "3개는 파스타\n",
        "2개는 쥬스\n",
        "\n",
        "최소 파스타와 쥬스를 설정한 후\n",
        "합계의 10% 부가세 넣기\n"
      ],
      "metadata": {
        "id": "kHmqOZOLyFyn"
      }
    },
    {
      "cell_type": "code",
      "execution_count": null,
      "metadata": {
        "colab": {
          "base_uri": "https://localhost:8080/"
        },
        "id": "DM0nGaI-x6eh",
        "outputId": "6ff44056-a5c6-482c-9f65-7e7ba706e91b"
      },
      "outputs": [
        {
          "output_type": "stream",
          "name": "stdout",
          "text": [
            "800\n",
            "700\n",
            "900\n",
            "198\n",
            "330\n",
            "[800, 700, 900]\n",
            "[198, 330]\n",
            "987.8\n"
          ]
        }
      ],
      "source": [
        "pasta_list=[]\n",
        "juice_list=[]\n",
        "for i in range(3):\n",
        "    N=int(input())\n",
        "    pasta_list.append(N)\n",
        "\n",
        "\n",
        "for i in range(2):\n",
        "    N=int(input())\n",
        "    juice_list.append(N)\n",
        "\n",
        "min_list=min(pasta_list)+min(juice_list)\n",
        "final_cost=min_list*(1+0.1)\n",
        "\n",
        "\n",
        "print(round(final_cost,1))\n",
        "\n"
      ]
    },
    {
      "cell_type": "markdown",
      "source": [
        "# 3120: 리모컨\n",
        "\n",
        "a,b input받음  \n",
        "a= 현재 온도  \n",
        "b= 목표 온도\n"
      ],
      "metadata": {
        "id": "5203ZeUO1r4F"
      }
    },
    {
      "cell_type": "code",
      "source": [
        "# 잘못 접근함\n",
        "# 22 3 의 경우 19인데 -> 20 -1 로 할 수 있음\n",
        "# 이렇게 될 경우, -1은 고려하지 않게 되므로 더 효율적인 버튼 누르기가 될 수 없음\n",
        "\n",
        "a,b=map(int,input().split())\n",
        "cnt=0\n",
        "\n",
        "# 목표 온도가 더 큰 경우(겨울일 때)\n",
        "if a<b:\n",
        "    while True:\n",
        "        if b-a==0:\n",
        "            print(cnt)\n",
        "            break\n",
        "\n",
        "        else:\n",
        "            if b-a>=10:\n",
        "                b=b-10\n",
        "                cnt+=1\n",
        "\n",
        "\n",
        "            elif 10>b-a and b-a>=5:\n",
        "                b=b-5\n",
        "                cnt+=1\n",
        "\n",
        "\n",
        "            elif 5>b-a and b-a>=1:\n",
        "                b=b-1\n",
        "                cnt+=1\n",
        "\n",
        "            elif b-a==4 or 9:\n",
        "                cnt+=2\n",
        "                break\n",
        "\n",
        "            elif b-a==8:\n",
        "                cnt+=3\n",
        "                break\n",
        "\n",
        "\n",
        "\n",
        "# 목표 온도가 더 작은 경우(여름일 때)\n",
        "elif a>b:\n",
        "    \n",
        "    while True:\n",
        "        if a-b==0:\n",
        "            print(cnt)\n",
        "            break\n",
        "\n",
        "        else:\n",
        "            if a-b>=10:\n",
        "                a=a-10\n",
        "                cnt+=1\n",
        "                print(a-b,'10')\n",
        "                print(cnt,'cnt10')\n",
        "\n",
        "            elif 10>a-b and a-b>=5:\n",
        "                a=a-5\n",
        "                cnt+=1\n",
        "                print(a-b,'5')\n",
        "                print(cnt,'cnt5')\n",
        "\n",
        "            elif 5>a-b and a-b>=1:\n",
        "                a=a-1\n",
        "                cnt+=1\n",
        "                print(a-b,'1')\n",
        "                print(cnt,'cnt1')                \n",
        "\n",
        "#목표 온도가 같은 경우\n",
        "elif a==b:\n",
        "    print(0)\n",
        "            \n",
        "\n",
        "\n"
      ],
      "metadata": {
        "id": "EQIymMS1zKpe",
        "colab": {
          "base_uri": "https://localhost:8080/"
        },
        "outputId": "e937fe74-58d6-4a72-e74a-63a9aba5c6fd"
      },
      "execution_count": null,
      "outputs": [
        {
          "output_type": "stream",
          "name": "stdout",
          "text": [
            "22 3\n",
            "9 10\n",
            "1 cnt10\n",
            "4 5\n",
            "2 cnt5\n",
            "3 1\n",
            "3 cnt1\n",
            "2 1\n",
            "4 cnt1\n",
            "1 1\n",
            "5 cnt1\n",
            "0 1\n",
            "6 cnt1\n",
            "6\n"
          ]
        }
      ]
    },
    {
      "cell_type": "code",
      "source": [
        "a,b=map(int,input().split())\n",
        "cnt=0\n",
        "c=abs(b-a) #절댓값을 사용하여 b-a가 양수이거나 음수일 경우를 고려하지 않아도 됨\n",
        "\n",
        "while True:\n",
        "    if c==0:\n",
        "        break\n",
        "\n",
        "    else:\n",
        "        if c>=10:\n",
        "            c=c-10\n",
        "            cnt+=1\n",
        "\n",
        "\n",
        "        elif c==4 or c==9: #c==4 or 9 와 c==4 or c==9의 차이는?\n",
        "            cnt+=2\n",
        "\n",
        "            break\n",
        "\n",
        "        elif c==8:\n",
        "            cnt+=3\n",
        "            break  \n",
        "\n",
        "        elif 10>c and c>=5:\n",
        "            c=c-5\n",
        "            cnt+=1\n",
        "\n",
        "        elif 5>c and c>=1:\n",
        "            c=c-1\n",
        "            cnt+=1\n",
        "\n",
        "\n",
        "print(cnt)\n",
        "\n",
        "# 키포인트는 +뿐만 아니라 -도 사용한다는 것!\n",
        "\n",
        "\n",
        "#https://hei-jayden.tistory.com/40"
      ],
      "metadata": {
        "colab": {
          "base_uri": "https://localhost:8080/"
        },
        "id": "a8Mzez3jPquu",
        "outputId": "eb8b209b-1871-453f-9714-037a501e8b99"
      },
      "execution_count": null,
      "outputs": [
        {
          "output_type": "stream",
          "name": "stdout",
          "text": [
            "7 34\n",
            "5\n"
          ]
        }
      ]
    },
    {
      "cell_type": "code",
      "source": [
        "#이런식으로도 풀어볼까\n",
        "\n",
        "a,b = map(int,input().split())\n",
        "#7 34\n",
        "btn=[10,5,1]\n",
        "c=abs(b-a)\n",
        "\n",
        "cnt=0; i=0\n",
        "while c!=0:\n",
        "    if c>=btn[i]:\n",
        "        c=c-btn[i]\n",
        "        cnt+=1\n",
        "    else:\n",
        "        i+=1\n",
        "\n",
        "print(cnt)\n",
        "\n"
      ],
      "metadata": {
        "id": "hmFqmzbU_C5v",
        "colab": {
          "base_uri": "https://localhost:8080/"
        },
        "outputId": "5e5aad5e-0b8d-4a4d-afd9-e45fd4e7adbd"
      },
      "execution_count": null,
      "outputs": [
        {
          "output_type": "stream",
          "name": "stdout",
          "text": [
            "7 34\n",
            "5\n"
          ]
        }
      ]
    },
    {
      "cell_type": "code",
      "source": [
        "a,b=map(int,input().split())\n",
        "btn=[10,5,1]\n",
        "c=abs(b-a)\n",
        "\n",
        "\n",
        "cnt=0; i=0\n",
        "while c!=0: #c가 0이 되면 그만!\n",
        "    if c>=btn[i]:\n",
        "        c=c-btn[i]\n",
        "        cnt+=1\n",
        "\n",
        "    elif c==4 or c== 9:\n",
        "        cnt+=2\n",
        "        break\n",
        "\n",
        "    elif c==7 or 8:\n",
        "        cnt+=3\n",
        "        break\n",
        "\n",
        "    else:\n",
        "        i+=1\n",
        "\n",
        "print(cnt)\n",
        "\n"
      ],
      "metadata": {
        "colab": {
          "base_uri": "https://localhost:8080/"
        },
        "id": "xy4_PhwaJQQK",
        "outputId": "8a7b2023-f7ca-4b5d-9915-0b1ab9a5bdcc"
      },
      "execution_count": null,
      "outputs": [
        {
          "output_type": "stream",
          "name": "stdout",
          "text": [
            "0 31\n",
            "6\n"
          ]
        }
      ]
    },
    {
      "cell_type": "code",
      "source": [
        "#이런식으로도 풀어볼까\n",
        "\n",
        "a,b = map(int,input().split())\n",
        "#7 34\n",
        "btn=[10,5,1]\n",
        "c=abs(b-a)\n",
        "\n",
        "cnt=0; i=0\n",
        "while c!=0:\n",
        "    if c>=btn[i]:\n",
        "        c=c-btn[i]\n",
        "        cnt+=1\n",
        "    else:\n",
        "        i+=1\n",
        "\n",
        "print(cnt)\n",
        "\n"
      ],
      "metadata": {
        "id": "L4NmyySgKcb5"
      },
      "execution_count": null,
      "outputs": []
    },
    {
      "cell_type": "markdown",
      "source": [
        "# Array "
      ],
      "metadata": {
        "id": "meUQQz9f9pJx"
      }
    },
    {
      "cell_type": "code",
      "source": [
        "# 오름 차순 정렬 \n",
        "\n",
        "\n",
        "T=int(input())\n",
        "\n",
        "for i in range(T):\n",
        "    N=int(input())\n",
        "    B=list(map(int,input().split()))\n",
        "\n",
        "    #오름차순 정렬\n",
        "\n",
        "#-> 이거는 지금 리스트 하나에서만 어떻게 되는지 판별하는 것\n",
        "\n",
        "    for  i in range(1,N): #-> 0,1,2,3,4\n",
        "        print(B[i-1])\n",
        "        print(B[i])\n",
        "\n",
        "\n",
        "\n"
      ],
      "metadata": {
        "colab": {
          "base_uri": "https://localhost:8080/"
        },
        "id": "AhOrn1Qg8Cnq",
        "outputId": "394281d5-ef3e-44bd-b125-e56ceaf1eba3"
      },
      "execution_count": 22,
      "outputs": [
        {
          "output_type": "stream",
          "name": "stdout",
          "text": [
            "1\n",
            "3\n",
            "12 5 1\n",
            "12\n",
            "5\n",
            "5\n",
            "1\n"
          ]
        }
      ]
    },
    {
      "cell_type": "code",
      "source": [
        "arr10=[[0]*3 for _ in range(3)]\n",
        "\n",
        "arr=[[0,0,0],[0,0,0],[0,0,0]]\n",
        "#list comprehension\n",
        "N=int(input())\n",
        "arr11=[[0]+list(map(int,input().split()))+[0] for _ in range(N)]"
      ],
      "metadata": {
        "colab": {
          "base_uri": "https://localhost:8080/"
        },
        "id": "fMTrID_lJO4a",
        "outputId": "1495fb9d-628d-4539-b16a-d48068f5d5a3"
      },
      "execution_count": 28,
      "outputs": [
        {
          "name": "stdout",
          "output_type": "stream",
          "text": [
            "3\n",
            "1 2 3\n",
            "4 5 6\n",
            "7 8 9\n"
          ]
        }
      ]
    },
    {
      "cell_type": "code",
      "source": [
        "#Gravity 문제 풀기\n",
        "#7 4 2 0 0 6 0 7 0\n",
        "\n",
        "def bubbleSort(a,N):\n",
        "    for i in range(N-1,0,-1):\n",
        "        for J in range(0,i):\n",
        "            if j in range(0,i):\n",
        "                if a[j]>a[j+1]:\n",
        "                    a[j],a[j+1]=a[j+1],a[j]\n",
        "\n",
        "    return a[0]\n",
        "\n",
        "\n",
        "Box_TC=int(input()) \n",
        "N=int(input())\n",
        "box=list(map(int,input().split()))\n",
        "ans=[0]*N\n",
        "\n",
        "# i 0부터 N-1 박스 i의 오른쪽에 있는 애들 중에 작은 애들 개수\n",
        "for i in range(N):\n",
        "    cnt=0\n",
        "\n",
        "    for j in range(i+1,N-1):\n",
        "        if box[i]>box[j]:\n",
        "            cnt+=1\n",
        "\n",
        "    ans[i]=cnt\n",
        "\n",
        "print(max(ans))\n",
        "\n",
        "### 잘 모르겠음!!"
      ],
      "metadata": {
        "colab": {
          "base_uri": "https://localhost:8080/"
        },
        "id": "1_kqXLb_ZGOf",
        "outputId": "c4e4d2bd-6366-4c80-8cfd-6eb8cd3eb2bb"
      },
      "execution_count": 34,
      "outputs": [
        {
          "output_type": "stream",
          "name": "stdout",
          "text": [
            "1\n",
            "5\n",
            "5 4 3 2 1\n",
            "3\n"
          ]
        }
      ]
    },
    {
      "cell_type": "code",
      "source": [
        "T=int(input())\n",
        "for test_case in range(1,T+1):\n",
        "    N=int(input())\n",
        "    lst=list(map(int,input().split()))\n",
        "    #ans는 인트형으로 놓고 최종 프린트 할 것\n",
        "    ans=0\n",
        "\n",
        "    for i in range(N-1):\n",
        "        cnt=0# 각 i 마다 cnt 초기화\n",
        "        for j in range(i+1,N): #N-1을 빼야 하므로 N까지 설정\n",
        "            if lst[i]>lst[j]:\n",
        "                cnt+=1\n",
        "            \n",
        "            if ans<cnt:      #최댓 값 갱신\n",
        "                ans=cnt\n",
        "\n",
        "    print(f\"#{test_case} {ans}\")\n"
      ],
      "metadata": {
        "colab": {
          "base_uri": "https://localhost:8080/"
        },
        "id": "PDa-80KFhc7C",
        "outputId": "a14ad830-4a9f-43b1-dd72-3d2d491ba2a4"
      },
      "execution_count": 37,
      "outputs": [
        {
          "output_type": "stream",
          "name": "stdout",
          "text": [
            "1\n",
            "5\n",
            "5 0 0 2 3\n",
            "#1 4\n"
          ]
        }
      ]
    },
    {
      "cell_type": "code",
      "source": [
        "# 가장 큰 수와 가장 작은 수의 차이\n",
        "\n",
        "T = int(input())\n",
        "for test_case in range(1, T + 1):\n",
        "    N=int(input())\n",
        "    lst=list(map(int,input().split()))\n",
        "\n",
        "    max_N=lst[0]\n",
        "    min_N=lst[0]\n",
        "    for i in range(N-1):\n",
        "        for j in range(i+1,N):\n",
        "\n",
        "            if lst[i]<lst[j]:\n",
        "                if lst[i]<min_N:\n",
        "                    min_N=lst[i]\n",
        "                   \n",
        "                if lst[j]>max_N:\n",
        "                    max_N=lst[j]\n",
        "                                    \n",
        "\n",
        "            if lst[i]>lst[j]:\n",
        "\n",
        "                if min_N>lst[j]:\n",
        "                    min_N=lst[j]\n",
        "   \n",
        "                #print(max_N,'max')\n",
        "\n",
        "\n",
        "    print(f\"#{test_case} {max_N-min_N}\")   \n"
      ],
      "metadata": {
        "colab": {
          "base_uri": "https://localhost:8080/"
        },
        "id": "eYTm239vrXq2",
        "outputId": "b0e9a5dc-8450-42b1-f147-b93e6f24f46d"
      },
      "execution_count": 53,
      "outputs": [
        {
          "output_type": "stream",
          "name": "stdout",
          "text": [
            "1\n",
            "10\n",
            "784386 279993 982220 996285 614710 992232 195265 359810 919192 158175\n",
            "#1 838110\n"
          ]
        }
      ]
    },
    {
      "cell_type": "code",
      "source": [
        "max_N=0\n",
        "min_N=0\n",
        "for i in range(N-1):\n",
        "    for j in range(i+1,N):\n",
        "\n",
        "        if lst[i]<lst[j]:\n",
        "            min_N=lst[i]\n",
        "            #print('min',min_N)        \n",
        "        \n",
        "        if lst[i]>lst[j]:\n",
        "\n",
        "            if min_N>lst[j]:\n",
        "                min_N=lst[j]\n",
        "\n",
        "            max_N=lst[i]\n",
        "            max_N\n",
        "            #print(max_N,'max')\n",
        "\n",
        "\n",
        "print(f\"#{test_case} {max_N-min_N}\")\n",
        "    \n"
      ],
      "metadata": {
        "colab": {
          "base_uri": "https://localhost:8080/"
        },
        "id": "qstGMMgYsoxb",
        "outputId": "611abf2b-a9a6-44e8-d3c6-3494688520b8"
      },
      "execution_count": 49,
      "outputs": [
        {
          "output_type": "stream",
          "name": "stdout",
          "text": [
            "min 477162\n",
            "min 477162\n",
            "min 477162\n",
            "477162 max\n",
            "min 658880\n",
            "min 658880\n",
            "658880 max\n",
            "min 751280\n",
            "751280 max\n",
            "927930 max\n",
            "#1 630739\n"
          ]
        }
      ]
    },
    {
      "cell_type": "code",
      "source": [],
      "metadata": {
        "id": "lMgh7RoEsuVj"
      },
      "execution_count": null,
      "outputs": []
    }
  ]
}