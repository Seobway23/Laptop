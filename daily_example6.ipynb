{
  "nbformat": 4,
  "nbformat_minor": 0,
  "metadata": {
    "colab": {
      "provenance": [],
      "authorship_tag": "ABX9TyN7SqaUmnnkyl49C6j4Znwt",
      "include_colab_link": true
    },
    "kernelspec": {
      "name": "python3",
      "display_name": "Python 3"
    },
    "language_info": {
      "name": "python"
    }
  },
  "cells": [
    {
      "cell_type": "markdown",
      "metadata": {
        "id": "view-in-github",
        "colab_type": "text"
      },
      "source": [
        "<a href=\"https://colab.research.google.com/github/Seobway23/laptop/blob/master/daily_example6.ipynb\" target=\"_parent\"><img src=\"https://colab.research.google.com/assets/colab-badge.svg\" alt=\"Open In Colab\"/></a>"
      ]
    },
    {
      "cell_type": "markdown",
      "source": [
        "## 2023.01.26 데일리 예제 코딩 연습"
      ],
      "metadata": {
        "id": "cUGcLfM55s5F"
      }
    },
    {
      "cell_type": "code",
      "execution_count": null,
      "metadata": {
        "id": "OqASge6C01Bs"
      },
      "outputs": [],
      "source": [
        "# A. 입력예시\n",
        "# print(de_identify('970103-1234567'))\n",
        "# print(de_identify('8611232345678'))\n",
        "\n",
        "# B. 출력예시\n",
        "# 970103*******\n",
        "# 861123******* \n"
      ]
    },
    {
      "cell_type": "code",
      "source": [
        "def de_identify(num):\n",
        "\n",
        "    return num[0:6]+'*******'\n",
        "\n",
        "\n",
        "\n",
        "print(de_identify('970103-1234567'))\n",
        "print(de_identify('8611232345678'))\n"
      ],
      "metadata": {
        "colab": {
          "base_uri": "https://localhost:8080/"
        },
        "id": "vDlD_etF2w1X",
        "outputId": "7957ebcc-b639-40fc-d357-c084dfce5e6a"
      },
      "execution_count": 13,
      "outputs": [
        {
          "output_type": "stream",
          "name": "stdout",
          "text": [
            "970103*******\n",
            "861123*******\n"
          ]
        }
      ]
    },
    {
      "cell_type": "code",
      "source": [
        "# list값으로 index 찾기\n",
        "\n",
        "lst=[1,2,3,4,6]\n",
        "\n",
        "lst.index(6) #4\n",
        "\n",
        "\n"
      ],
      "metadata": {
        "id": "Dft4ZRTCLTuR"
      },
      "execution_count": null,
      "outputs": []
    },
    {
      "cell_type": "code",
      "source": [
        "#리스트의 최고값의 작물 이름을 출력하시오 \n",
        "\n",
        "grain_lst = [('고구마',3000), ('감자',2000), ('옥수수',4500),('토란',1300)]\n",
        "\n",
        "def grain_max_price(grain_lst):\n",
        "    A=[]\n",
        "    for lst in grain_lst:\n",
        "        A.append(lst[1])\n",
        "\n",
        "    return grain_lst[A.index(max(A))][0] #max(A)=4500인 인덱스 2의 1인 작물을 return\n",
        "\n",
        "\n",
        "grain_max_price(grain_lst)"
      ],
      "metadata": {
        "colab": {
          "base_uri": "https://localhost:8080/",
          "height": 35
        },
        "id": "lDcqIDGj5o00",
        "outputId": "db0a1aa7-4312-49ae-d7f0-e41c6e0a3413"
      },
      "execution_count": 49,
      "outputs": [
        {
          "output_type": "execute_result",
          "data": {
            "text/plain": [
              "'옥수수'"
            ],
            "application/vnd.google.colaboratory.intrinsic+json": {
              "type": "string"
            }
          },
          "metadata": {},
          "execution_count": 49
        }
      ]
    },
    {
      "cell_type": "code",
      "source": [
        "# 문자열을 입력받아 모음 갯수를 반환하는 함수를 만드시오.\n",
        "count_vowels('apple') #=> 2\n",
        "count_vowels('banana') #=> 3"
      ],
      "metadata": {
        "id": "gS7pg_0LKSH6"
      },
      "execution_count": null,
      "outputs": []
    },
    {
      "cell_type": "code",
      "source": [
        "def count_vowels(word):\n",
        "    vowel='aeiou'  \n",
        "    ans=0\n",
        "\n",
        "    for i in vowel:\n",
        "        ans+=word.count(i)\n",
        "        print(i, ans)\n",
        "\n",
        "    return ans\n",
        "\n",
        "count_vowels('banana')"
      ],
      "metadata": {
        "colab": {
          "base_uri": "https://localhost:8080/"
        },
        "id": "MqsQLaYAN36Y",
        "outputId": "d85b536f-0503-4c60-a4d8-b955a1d0f280"
      },
      "execution_count": 53,
      "outputs": [
        {
          "output_type": "stream",
          "name": "stdout",
          "text": [
            "a 3\n",
            "e 3\n",
            "i 3\n",
            "o 3\n",
            "u 3\n"
          ]
        },
        {
          "output_type": "execute_result",
          "data": {
            "text/plain": [
              "3"
            ]
          },
          "metadata": {},
          "execution_count": 53
        }
      ]
    },
    {
      "cell_type": "markdown",
      "source": [
        "1) vowel='aeiou' 모음을 설정하고\n",
        "한 단어씩 for문을 돌면서 count하는 것\n",
        "\n",
        "2) word.count(i) >> word의 i의 개수!"
      ],
      "metadata": {
        "id": "32RN2t5oOsif"
      }
    },
    {
      "cell_type": "code",
      "source": [
        "entry_record = ['이싸피', '박장고', '조실습', '이싸피', '조실습', '오디비', '임온실', '조실습', '조실습', '이싸피', '안도둑', '임온실', '최이썬', '오디비', '안도둑', '염자바', '박장고', '조실습',\n",
        "                '최이썬', '조실습', '염자바', '박장고', '임온실', '임온실', '이싸피', '임온실', '오디비', '조실습', '염자바', '임온실', '박장고', '최이썬', '안도둑', '염자바', '임온실', '박장고', '이싸피', '안도둑',\n",
        "                '임온실', '오디비', '최이썬', '안도둑', '이싸피', '오디비', '안도둑', '이싸피', '박장고', '박장고', '안도둑', '안도둑', '안도둑', '염자바', '최이썬', '오디비', '오디비', '최이썬', '이싸피', '임온실', '안도둑']\n",
        "\n",
        "exit_record = ['최이썬', '조실습', '이싸피', '안도둑', '임온실', '안도둑', '이싸피', '오디비', '염자바', '박장고', '최이썬', '이싸피', '염자바', '염자바', '박장고', '임온실', '이싸피',\n",
        "               '박장고', '안도둑', '염자바', '이싸피', '조실습', '조실습', '임온실', '박장고', '이싸피', '조실습', '박장고', '오디비', '안도둑', '조실습', '임온실', '안도둑', '안도둑', '임온실', '조실습', '최이썬', '안도둑', '임온실',\n",
        "               '염자바', '이싸피', '임온실', '안도둑', '오디비', '안도둑', '오디비', '임온실', '염자바', '임온실', '박장고', '조실습', '이싸피', '최이썬', '최이썬', '오디비', '오디비', '염자바', '오디비', '안도둑', '박장고']\n",
        "\n",
        "\n",
        "from collections import Counter\n",
        "\n",
        "A=Counter(entry_record)\n",
        "B=Counter(exit_record)\n",
        "\n",
        "T=A+B\n",
        "C=A-B\n",
        "D=B-A\n",
        "\n",
        "\n",
        "\n",
        "\n",
        "A=Counter(entry_record)\n",
        "\n",
        "entry_max3_cnt=A.most_common(3)\n",
        "#most_common(i)   1부터 i번까지의 인덱스값 추출 가능 \n",
        "\n",
        "print('입장 기록 많은 Top3')\n",
        "for i in entry_max3_cnt:\n",
        "    print(f\" {i[0]} {i[1]}회\")\n",
        "\n",
        "\n",
        "entry_more=C.most_common()\n",
        "exit_more=D.most_common()\n",
        "\n",
        "print(entry_more)\n",
        "print(exit_more)\n",
        "\n",
        "\n",
        "print('\\n출입 기록이 수상한 사람')\n",
        "\n",
        "print(f\"{entry_more[0][0]}은 입장 기록이 {entry_more[0][1]}회 더 많아 수상합니다.\")\n",
        "print(f\"{exit_more[0][0]}은 퇴장 기록이 {exit_more[0][1]}회 더 많아 수상합니다.\")\n",
        "\n",
        "\n",
        "\n"
      ],
      "metadata": {
        "colab": {
          "base_uri": "https://localhost:8080/"
        },
        "id": "t1psifXUkiLy",
        "outputId": "35865bb9-1758-4fde-cf6a-5ef77ffe2082"
      },
      "execution_count": 133,
      "outputs": [
        {
          "output_type": "stream",
          "name": "stdout",
          "text": [
            "입장 기록 많은 Top3\n",
            " 안도둑 10회\n",
            " 임온실 9회\n",
            " 이싸피 8회\n",
            "[('최이썬', 1)]\n",
            "[('염자바', 2)]\n",
            "\n",
            "출입 기록이 수상한 사람\n",
            "최이썬은 입장 기록이 1회 더 많아 수상합니다.\n",
            "염자바은 퇴장 기록이 2회 더 많아 수상합니다.\n"
          ]
        }
      ]
    },
    {
      "cell_type": "markdown",
      "source": [
        "### most_common\n",
        "Counter의 오름차순화 시켜 앞에서 몇번째까지 추출 가능함\n",
        "\n",
        "-> 위 예제와 같이 데이터의 기록이 가장 많은 몇번째까지 추출과 같은 상황에서 유용하게 쓰일 수 있음"
      ],
      "metadata": {
        "id": "k-_VdYiwvmli"
      }
    },
    {
      "cell_type": "code",
      "source": [],
      "metadata": {
        "id": "S41rWT0rtNxk"
      },
      "execution_count": null,
      "outputs": []
    }
  ]
}