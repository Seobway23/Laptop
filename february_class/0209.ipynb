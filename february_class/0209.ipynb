{
  "nbformat": 4,
  "nbformat_minor": 0,
  "metadata": {
    "colab": {
      "provenance": [],
      "authorship_tag": "ABX9TyNoJpJGXkBkhST9wRx76wHB",
      "include_colab_link": true
    },
    "kernelspec": {
      "name": "python3",
      "display_name": "Python 3"
    },
    "language_info": {
      "name": "python"
    }
  },
  "cells": [
    {
      "cell_type": "markdown",
      "metadata": {
        "id": "view-in-github",
        "colab_type": "text"
      },
      "source": [
        "<a href=\"https://colab.research.google.com/github/Seobway23/Laptop/blob/master/0209.ipynb\" target=\"_parent\"><img src=\"https://colab.research.google.com/assets/colab-badge.svg\" alt=\"Open In Colab\"/></a>"
      ]
    },
    {
      "cell_type": "code",
      "source": [
        "import copy\n",
        "T=9\n",
        "lst=[]\n",
        "\n",
        "for test_case in range(T):\n",
        "    N=int(input())\n",
        "    lst.append(N)\n",
        "\n",
        "for i in range(T-1):\n",
        "    for j in range(i+1,T):\n",
        "        lst_s=copy.deepcopy(lst) #list의 초기화 모르겠음, 깊은 복사 다른 법 모르겠음\n",
        "        lst_s.remove(lst[i])\n",
        "        lst_s.remove(lst[j])\n",
        "\n",
        "        if sum(lst_s)==100:\n",
        "            break\n",
        "\n",
        "for i in lst_s:\n",
        "    print(i)"
      ],
      "metadata": {
        "id": "ODVHFtMvgOrB"
      },
      "execution_count": null,
      "outputs": []
    },
    {
      "cell_type": "code",
      "source": [
        "T=int(input())\n",
        "lst=[]\n",
        "for test_case in range(1,T+1):\n",
        "    N,S=map(int,input().split())\n",
        "    lst.append((N,S))\n",
        "    cnt=0\n",
        "\n",
        "lst.sort()\n",
        "\n",
        "for idx in range(len(lst)-1):\n",
        "    if lst[idx][0]==lst[idx+1][0]:\n",
        "        if lst[idx][1]!=lst[idx+1][1]:\n",
        "            cnt+=1\n",
        "    \n",
        "        else:\n",
        "            pass\n",
        "\n",
        "\n",
        "    else:\n",
        "        pass \n",
        "\n",
        "\n",
        "print(cnt)\n",
        "\n",
        "\n",
        "\n"
      ],
      "metadata": {
        "colab": {
          "base_uri": "https://localhost:8080/"
        },
        "id": "gjz1wR2SX54U",
        "outputId": "718eaa18-4683-4fc4-9b49-40a330df05a3"
      },
      "execution_count": null,
      "outputs": [
        {
          "output_type": "stream",
          "name": "stdout",
          "text": [
            "4\n",
            "3 0\n",
            "4 0\n",
            "2 0\n",
            "4 1\n",
            "1\n"
          ]
        }
      ]
    },
    {
      "cell_type": "code",
      "source": [
        "A=[[0,5],[2,4],[3,2],[6,1],[8,3]]\n",
        "\n",
        "A.sort(key=lambda x:x[0])\n",
        "print(A)"
      ],
      "metadata": {
        "colab": {
          "base_uri": "https://localhost:8080/"
        },
        "id": "ZM21FkysIcIG",
        "outputId": "1b3733f3-f4ce-4f89-f732-27b963a31145"
      },
      "execution_count": null,
      "outputs": [
        {
          "output_type": "stream",
          "name": "stdout",
          "text": [
            "[[6, 1], [3, 2], [8, 3], [2, 4], [0, 5]]\n"
          ]
        }
      ]
    },
    {
      "cell_type": "code",
      "source": [
        "ord('N')"
      ],
      "metadata": {
        "colab": {
          "base_uri": "https://localhost:8080/"
        },
        "id": "DXsaaOXoQ58w",
        "outputId": "b74abab6-d55c-4e63-faaf-709999920150"
      },
      "execution_count": null,
      "outputs": [
        {
          "output_type": "execute_result",
          "data": {
            "text/plain": [
              "78"
            ]
          },
          "metadata": {},
          "execution_count": 54
        }
      ]
    },
    {
      "cell_type": "code",
      "source": [
        "ord1='Abcefghhhhhh'\n",
        "ord2=ord1.lower()\n",
        "dic={}\n",
        "cnt=0\n",
        "\n",
        "for i in ord2:\n",
        "    dic[i]=1\n",
        "\n",
        "    if i in dic:\n",
        "        dic[i]+=1\n",
        "\n",
        "\n",
        "mx=dic[max(dic)]\n",
        "mx_a=max(dic)\n",
        "del dic[max(dic)]\n",
        "\n",
        "for i in dic:\n",
        "    if dic[i]==mx:\n",
        "        cnt+=1\n",
        "        break\n",
        "    \n",
        "\n",
        "if cnt==0:\n",
        "    print(mx_a)\n",
        "\n",
        "else:\n",
        "    print('?')"
      ],
      "metadata": {
        "colab": {
          "base_uri": "https://localhost:8080/"
        },
        "id": "-K8vkiSxV8Et",
        "outputId": "b4a2fdb5-a35d-4112-aa9b-7380fb8e68ef"
      },
      "execution_count": null,
      "outputs": [
        {
          "output_type": "stream",
          "name": "stdout",
          "text": [
            "?\n"
          ]
        }
      ]
    },
    {
      "cell_type": "code",
      "source": [
        "dic[max(dic)]"
      ],
      "metadata": {
        "colab": {
          "base_uri": "https://localhost:8080/"
        },
        "id": "zW6s_51bZ3mL",
        "outputId": "d7b7fc74-4817-4a64-c11c-4d070fd7480a"
      },
      "execution_count": null,
      "outputs": [
        {
          "output_type": "execute_result",
          "data": {
            "text/plain": [
              "2"
            ]
          },
          "metadata": {},
          "execution_count": 71
        }
      ]
    },
    {
      "cell_type": "code",
      "source": [
        "dic={'a': 1, 'b': 2, 'c': 3, 'd': 4, 'e': 5}"
      ],
      "metadata": {
        "id": "7hYg_DSSaVEK"
      },
      "execution_count": null,
      "outputs": []
    },
    {
      "cell_type": "code",
      "source": [
        "\n",
        "\n",
        "for i in dic:\n",
        "    print(dic[i])\n",
        "    if dic[i]==dic[max(dic)]:\n"
      ],
      "metadata": {
        "colab": {
          "base_uri": "https://localhost:8080/"
        },
        "id": "thNH0yhHaox5",
        "outputId": "91c239a0-a418-48f8-d40b-ad9b3e8504fe"
      },
      "execution_count": null,
      "outputs": [
        {
          "output_type": "stream",
          "name": "stdout",
          "text": [
            "2\n",
            "2\n",
            "2\n",
            "2\n",
            "2\n"
          ]
        }
      ]
    },
    {
      "cell_type": "code",
      "source": [
        "#딕셔너리 밸류의 최댓값 구하기\n",
        "\n",
        "#딕셔너리 밸류의 키 값\n",
        "b=max(dic,key=dic.get)\n",
        "\n",
        "#딕셔너리 최대밸류 값\n",
        "dic[b]"
      ],
      "metadata": {
        "colab": {
          "base_uri": "https://localhost:8080/"
        },
        "id": "_5fscpoOas5B",
        "outputId": "e73dc357-90ea-4486-d59b-23538c7e720b"
      },
      "execution_count": null,
      "outputs": [
        {
          "output_type": "execute_result",
          "data": {
            "text/plain": [
              "5"
            ]
          },
          "metadata": {},
          "execution_count": 95
        }
      ]
    },
    {
      "cell_type": "code",
      "source": [
        "def count_palin(N, arr):\n",
        "    std_r = int((8 - N + 1 - 1) / 2) + 1\n",
        "    cnt = 0\n",
        "    for i in range(8):\n",
        "        cnt2 = 0\n",
        "        for j in range(8 - N):\n",
        "            # j_end=j + N - 1\n",
        "            # A=arr[i][j]\n",
        "            # B=arr[i][j+N-1]\n",
        "\n",
        "            if arr[i][j] == arr[i][j + N - 1]:  # N길이의 반을 잡아서 양쪽에서 같은지 확인\n",
        "                cnt2 = 0\n",
        "                for k in range(std_r):\n",
        "                    # C=arr[i][j + k]\n",
        "                    # number_i= j+k\n",
        "                    # number_e=j+N-1-k\n",
        "                    # D=arr[i][j+N-1-k]\n",
        "                    if arr[i][j + k] == arr[i][j + N - 1 - k]:\n",
        "                        cnt2 += 1\n",
        "                    # 디버그용\n",
        "                    if cnt2 == std_r:\n",
        "                        cnt += 1\n",
        "\n",
        "    return cnt\n",
        "\n",
        "\n",
        "T=1 #10\n",
        "for test_case in range(1,T+1):\n",
        "    N=int(input())\n",
        "    arr=[list(input()) for _ in range(V)]\n",
        "    print(f\"#{test_case} {count_palin(N,arr)}\")"
      ],
      "metadata": {
        "id": "tNZXheI_e_QQ"
      },
      "execution_count": null,
      "outputs": []
    }
  ]
}