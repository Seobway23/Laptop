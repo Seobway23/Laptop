{
  "nbformat": 4,
  "nbformat_minor": 0,
  "metadata": {
    "colab": {
      "provenance": [],
      "authorship_tag": "ABX9TyPyFKCW73M6oLylZzo5p7CT",
      "include_colab_link": true
    },
    "kernelspec": {
      "name": "python3",
      "display_name": "Python 3"
    },
    "language_info": {
      "name": "python"
    }
  },
  "cells": [
    {
      "cell_type": "markdown",
      "metadata": {
        "id": "view-in-github",
        "colab_type": "text"
      },
      "source": [
        "<a href=\"https://colab.research.google.com/github/Seobway23/Laptop/blob/master/0131_study.ipynb\" target=\"_parent\"><img src=\"https://colab.research.google.com/assets/colab-badge.svg\" alt=\"Open In Colab\"/></a>"
      ]
    },
    {
      "cell_type": "markdown",
      "source": [
        "# 0131 객체 클래스"
      ],
      "metadata": {
        "id": "7vkpc8VEowtu"
      }
    },
    {
      "cell_type": "code",
      "execution_count": null,
      "metadata": {
        "colab": {
          "base_uri": "https://localhost:8080/"
        },
        "id": "sq5lXgRQMDtU",
        "outputId": "a3051baa-4607-44e7-86d7-6238e6e28a83"
      },
      "outputs": [
        {
          "output_type": "stream",
          "name": "stdout",
          "text": [
            "안녕하세요, aiden님 ^~^//\n",
            "^~^//\n"
          ]
        }
      ],
      "source": [
        "def ko_hello(name):\n",
        "    print(f'안녕하세요, {name}님 ^~^//')\n",
        "\n",
        "def en_hello(name):\n",
        "    print(f'hello {name} ^~^//')\n",
        "\n",
        "\n",
        "def add_emoji(name,func):\n",
        "    func(name)\n",
        "    print('^~^//')\n",
        "\n",
        "add_emoji('aiden',ko_hello)\n"
      ]
    },
    {
      "cell_type": "code",
      "source": [
        "def emoji_decorator(func):\n",
        "    def wrapper(name):\n",
        "        func(name)\n",
        "        print('^~^//')\n",
        "\n",
        "    return wrapper\n",
        "\n"
      ],
      "metadata": {
        "id": "NZjFUkumMXKR"
      },
      "execution_count": null,
      "outputs": []
    },
    {
      "cell_type": "code",
      "source": [
        "class MyClass:\n",
        "    def method(self):\n",
        "        return '인스턴스메서드'\n",
        "\n",
        "    @classmethod\n",
        "    def classmethod(cls):\n",
        "        return '클래스 메서드'\n",
        "\n",
        "    @staticmethod\n",
        "    def staticmethod():\n",
        "        return '슽탯팃 메서드'\n",
        "\n",
        "my_class=MyClass()\n",
        "print(my_class.method())\n",
        "print(my_class.classmethod())\n",
        "print(my_class.staticmethod())"
      ],
      "metadata": {
        "colab": {
          "base_uri": "https://localhost:8080/"
        },
        "id": "UXsKeaskZfmn",
        "outputId": "dd2acbeb-a799-4e39-b1ac-cbdcf2e10b56"
      },
      "execution_count": null,
      "outputs": [
        {
          "output_type": "stream",
          "name": "stdout",
          "text": [
            "인스턴스메서드\n",
            "클래스 메서드\n",
            "슽탯팃 메서드\n"
          ]
        }
      ]
    },
    {
      "cell_type": "code",
      "source": [
        "class Person:\n",
        "    def __init__(self):\n",
        "        self._age=0\n",
        "\n",
        "    def get_age(self): #getter\n",
        "        print('getter 호출!')\n",
        "        return self._age\n",
        "\n",
        "    def set_age(self,age):\n",
        "        print('setter 호출!')\n",
        "        self._age=age\n",
        "        \n",
        "    age = property(get_age,set_age)\n",
        "    #age public \n",
        "\n",
        "p1=Person()\n",
        "p1.age=25\n",
        "print(p1.age)\n",
        "\n",
        "#불편해..\n",
        "# p1.set_age(25)\n",
        "# print(p1.get_age())\n"
      ],
      "metadata": {
        "colab": {
          "base_uri": "https://localhost:8080/"
        },
        "id": "9EymzFJIZfbX",
        "outputId": "c12d930c-044f-4797-adb7-ee1b8a6cde7c"
      },
      "execution_count": null,
      "outputs": [
        {
          "output_type": "stream",
          "name": "stdout",
          "text": [
            "setter 호출!\n",
            "getter 호출!\n",
            "25\n"
          ]
        }
      ]
    },
    {
      "cell_type": "code",
      "source": [
        "#decorator\n",
        "\n",
        "class Person:\n",
        "    def __init__(self):\n",
        "        self._age=0\n",
        "\n",
        "    @property\n",
        "    def age(self): #getter\n",
        "        print('getter 호출!')\n",
        "        return self._age\n",
        "\n",
        "    @age.setter\n",
        "    def age(self,age):\n",
        "        print('setter 호출!')\n",
        "        self._age=age\n",
        "\n",
        "        \n",
        "\n",
        "p1=Person()\n",
        "p1.age=25\n",
        "print(p1.age)"
      ],
      "metadata": {
        "colab": {
          "base_uri": "https://localhost:8080/"
        },
        "id": "Yp-IYVrvfpEE",
        "outputId": "795aa84e-f8f6-4ab2-e040-c1e919b6b54e"
      },
      "execution_count": null,
      "outputs": [
        {
          "output_type": "stream",
          "name": "stdout",
          "text": [
            "setter 호출!\n",
            "getter 호출!\n",
            "25\n"
          ]
        }
      ]
    },
    {
      "cell_type": "code",
      "source": [
        "#8-2예제\n",
        "\n",
        "class Point:\n",
        "    def __init__(self,x,y):\n",
        "        self.x=x\n",
        "        self.y=y\n",
        "\n",
        "\n",
        "\n",
        "class Rectangle:\n",
        "    def __init__ (self,p1,p2):\n",
        "        self.p1=p1\n",
        "        self.p2=p2\n",
        "        self.getarea=abs(p2.x-p1.x)*abs(p2.y-p1.y)\n",
        "        self.getperimeter=2*(abs(p2.x-p1.x)+abs(p2.y-p1.y))\n",
        "        \n",
        "\n",
        "\n",
        "    def get_area(self,):\n",
        "        return self.getarea\n",
        "\n",
        "    def get_perimeter(self,):\n",
        "        return self.getperimeter\n",
        "\n",
        "    def is_square(self,):#self-> class변수 사용 가능\n",
        "            #p2.x -> x에 접근하겠음, p2.y ->y에 접근하겠음\n",
        "        if abs(self.p2.x-self.p1.x)==abs(self.p2.y-self.p1.y):\n",
        "            return True\n",
        "\n",
        "        else:\n",
        "            return False\n",
        "\n",
        "\n",
        "p1 = Point(1, 3)\n",
        "p2 = Point(3, 1)\n",
        "r1 = Rectangle(p1, p2)\n",
        "print(r1.get_area())\n",
        "print(r1.get_perimeter())\n",
        "print(r1.is_square())\n",
        "\n",
        "p3 = Point(3, 7)\n",
        "p4 = Point(6, 4)\n",
        "r2 = Rectangle(p3, p4)\n",
        "print(r2.get_area())\n",
        "print(r2.get_perimeter())\n",
        "print(r2.is_square())\n",
        "\n",
        "# 출력 예시\n",
        "# 4\n",
        "# 8\n",
        "# True\n",
        "\n",
        "# 9\n",
        "# 12\n",
        "# True"
      ],
      "metadata": {
        "id": "hsRJdq_Ogyh7",
        "colab": {
          "base_uri": "https://localhost:8080/",
          "height": 248
        },
        "outputId": "272cc497-7f6f-4053-994f-952958b7cd49"
      },
      "execution_count": 11,
      "outputs": [
        {
          "output_type": "error",
          "ename": "TypeError",
          "evalue": "ignored",
          "traceback": [
            "\u001b[0;31m---------------------------------------------------------------------------\u001b[0m",
            "\u001b[0;31mTypeError\u001b[0m                                 Traceback (most recent call last)",
            "\u001b[0;32m<ipython-input-11-866cf51bf305>\u001b[0m in \u001b[0;36m<module>\u001b[0;34m\u001b[0m\n\u001b[1;32m     35\u001b[0m \u001b[0mp2\u001b[0m \u001b[0;34m=\u001b[0m \u001b[0mPoint\u001b[0m\u001b[0;34m(\u001b[0m\u001b[0;36m3\u001b[0m\u001b[0;34m,\u001b[0m \u001b[0;36m1\u001b[0m\u001b[0;34m)\u001b[0m\u001b[0;34m\u001b[0m\u001b[0;34m\u001b[0m\u001b[0m\n\u001b[1;32m     36\u001b[0m \u001b[0mr1\u001b[0m \u001b[0;34m=\u001b[0m \u001b[0mRectangle\u001b[0m\u001b[0;34m(\u001b[0m\u001b[0mp1\u001b[0m\u001b[0;34m,\u001b[0m \u001b[0mp2\u001b[0m\u001b[0;34m)\u001b[0m\u001b[0;34m\u001b[0m\u001b[0;34m\u001b[0m\u001b[0m\n\u001b[0;32m---> 37\u001b[0;31m \u001b[0mprint\u001b[0m\u001b[0;34m(\u001b[0m\u001b[0mr1\u001b[0m\u001b[0;34m.\u001b[0m\u001b[0mget_area\u001b[0m\u001b[0;34m(\u001b[0m\u001b[0;34m)\u001b[0m\u001b[0;34m)\u001b[0m\u001b[0;34m\u001b[0m\u001b[0;34m\u001b[0m\u001b[0m\n\u001b[0m\u001b[1;32m     38\u001b[0m \u001b[0mprint\u001b[0m\u001b[0;34m(\u001b[0m\u001b[0mr1\u001b[0m\u001b[0;34m.\u001b[0m\u001b[0mget_perimeter\u001b[0m\u001b[0;34m(\u001b[0m\u001b[0;34m)\u001b[0m\u001b[0;34m)\u001b[0m\u001b[0;34m\u001b[0m\u001b[0;34m\u001b[0m\u001b[0m\n\u001b[1;32m     39\u001b[0m \u001b[0mprint\u001b[0m\u001b[0;34m(\u001b[0m\u001b[0mr1\u001b[0m\u001b[0;34m.\u001b[0m\u001b[0mis_square\u001b[0m\u001b[0;34m(\u001b[0m\u001b[0;34m)\u001b[0m\u001b[0;34m)\u001b[0m\u001b[0;34m\u001b[0m\u001b[0;34m\u001b[0m\u001b[0m\n",
            "\u001b[0;31mTypeError\u001b[0m: get_area() takes 0 positional arguments but 1 was given"
          ]
        }
      ]
    },
    {
      "cell_type": "code",
      "source": [
        "#스택은 last in first out으로 구조화된 자료구조를 의미한다.\n",
        "\n",
        "class Stack:\n",
        "    def __init__(self):\n",
        "        self.stack=[]\n",
        "\n",
        "    def empty(self):\n",
        "        if len(self.stack)==0:\n",
        "            return True\n",
        "        else:\n",
        "            return False\n",
        "\n",
        "\n",
        "    def top(self):\n",
        "        if len(self.stack)==0:\n",
        "            return None\n",
        "        else:\n",
        "            return self.stack[-1]\n",
        "            #list의 가장 마지막 데이터\n",
        "\n",
        "    def pop(self):\n",
        "        if len(self.stack)==0:\n",
        "            return None\n",
        "        \n",
        "        else:\n",
        "            C=self.stack\n",
        "            B=C.pop(-1)\n",
        "            return B\n",
        "        \n",
        "    def push(self,add_list):\n",
        "        self.add_list=add_list\n",
        "        self.stack.append(add_list)\n",
        "\n",
        "    def __repr__():\n",
        "        return self.stack\n",
        "\n",
        "\n",
        "\n",
        "st1.empty()\n",
        "print(st1.empty())"
      ],
      "metadata": {
        "colab": {
          "base_uri": "https://localhost:8080/",
          "height": 248
        },
        "id": "CInFJJZlc3Ll",
        "outputId": "21a01099-a55c-4e37-bc96-991cc0444afb"
      },
      "execution_count": 18,
      "outputs": [
        {
          "output_type": "error",
          "ename": "TypeError",
          "evalue": "ignored",
          "traceback": [
            "\u001b[0;31m---------------------------------------------------------------------------\u001b[0m",
            "\u001b[0;31mTypeError\u001b[0m                                 Traceback (most recent call last)",
            "\u001b[0;32m<ipython-input-18-46f985e802de>\u001b[0m in \u001b[0;36m<module>\u001b[0;34m\u001b[0m\n\u001b[1;32m     38\u001b[0m \u001b[0;34m\u001b[0m\u001b[0m\n\u001b[1;32m     39\u001b[0m \u001b[0;34m\u001b[0m\u001b[0m\n\u001b[0;32m---> 40\u001b[0;31m \u001b[0mst1\u001b[0m\u001b[0;34m=\u001b[0m\u001b[0mStack\u001b[0m\u001b[0;34m(\u001b[0m\u001b[0;34m[\u001b[0m\u001b[0;36m2\u001b[0m\u001b[0;34m,\u001b[0m\u001b[0;36m3\u001b[0m\u001b[0;34m,\u001b[0m\u001b[0;36m4\u001b[0m\u001b[0;34m]\u001b[0m\u001b[0;34m)\u001b[0m\u001b[0;34m\u001b[0m\u001b[0;34m\u001b[0m\u001b[0m\n\u001b[0m\u001b[1;32m     41\u001b[0m \u001b[0mst1\u001b[0m\u001b[0;34m.\u001b[0m\u001b[0mempty\u001b[0m\u001b[0;34m(\u001b[0m\u001b[0;34m)\u001b[0m\u001b[0;34m\u001b[0m\u001b[0;34m\u001b[0m\u001b[0m\n\u001b[1;32m     42\u001b[0m \u001b[0mprint\u001b[0m\u001b[0;34m(\u001b[0m\u001b[0mst1\u001b[0m\u001b[0;34m.\u001b[0m\u001b[0mempty\u001b[0m\u001b[0;34m(\u001b[0m\u001b[0;34m)\u001b[0m\u001b[0;34m)\u001b[0m\u001b[0;34m\u001b[0m\u001b[0;34m\u001b[0m\u001b[0m\n",
            "\u001b[0;31mTypeError\u001b[0m: __init__() takes 1 positional argument but 2 were given"
          ]
        }
      ]
    },
    {
      "cell_type": "code",
      "source": [],
      "metadata": {
        "id": "BCkaheqDtq7a"
      },
      "execution_count": null,
      "outputs": []
    }
  ]
}