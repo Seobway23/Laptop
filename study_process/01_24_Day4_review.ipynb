{
  "nbformat": 4,
  "nbformat_minor": 0,
  "metadata": {
    "colab": {
      "provenance": [],
      "authorship_tag": "ABX9TyMIlPIE1+GVPMnvPyMDK9gz",
      "include_colab_link": true
    },
    "kernelspec": {
      "name": "python3",
      "display_name": "Python 3"
    },
    "language_info": {
      "name": "python"
    }
  },
  "cells": [
    {
      "cell_type": "markdown",
      "metadata": {
        "id": "view-in-github",
        "colab_type": "text"
      },
      "source": [
        "<a href=\"https://colab.research.google.com/github/Seobway23/laptop/blob/master/01_24_Day4_review.ipynb\" target=\"_parent\"><img src=\"https://colab.research.google.com/assets/colab-badge.svg\" alt=\"Open In Colab\"/></a>"
      ]
    },
    {
      "cell_type": "markdown",
      "source": [
        "1. list 합 구하기\n",
        "\n",
        "ex)\n",
        "input 10/ output= 1 2 5 10"
      ],
      "metadata": {
        "id": "pqqodYF-uNVv"
      }
    },
    {
      "cell_type": "code",
      "execution_count": 4,
      "metadata": {
        "colab": {
          "base_uri": "https://localhost:8080/"
        },
        "id": "lGgbxVqmtJBC",
        "outputId": "ed619ca8-d6bb-45da-e798-16d7e53292bf"
      },
      "outputs": [
        {
          "output_type": "stream",
          "name": "stdout",
          "text": [
            "10\n",
            "1 2 5 10 "
          ]
        }
      ],
      "source": [
        "N=int(input())\n",
        "\n",
        "for number in range(1,N+1):\n",
        "    if N%number==0:    \n",
        "        print(number,end=' ')\n",
        "        \n"
      ]
    },
    {
      "cell_type": "markdown",
      "source": [
        "2. List 합 구하기 \n"
      ],
      "metadata": {
        "id": "CRqNaZCfvlkd"
      }
    },
    {
      "cell_type": "code",
      "source": [
        "lst=[1,2,3,4,5]\n",
        "\n",
        "def list_sum(lst):\n",
        "    list2_sum=0\n",
        "    for idx in lst:\n",
        "        list2_sum+=idx\n",
        "\n",
        "    return list2_sum\n",
        "\n",
        "list_sum([1,2,3,4,5])\n"
      ],
      "metadata": {
        "colab": {
          "base_uri": "https://localhost:8080/"
        },
        "id": "mX4_2ELut04G",
        "outputId": "328b4325-472e-459f-8499-c2add577d31b"
      },
      "execution_count": 6,
      "outputs": [
        {
          "output_type": "execute_result",
          "data": {
            "text/plain": [
              "15"
            ]
          },
          "metadata": {},
          "execution_count": 6
        }
      ]
    },
    {
      "cell_type": "markdown",
      "source": [
        "3. Dictionary로 이루어진 list의 합을 구하기"
      ],
      "metadata": {
        "id": "ufc-wwHYvq54"
      }
    },
    {
      "cell_type": "code",
      "source": [
        "lst3= ({'name':'kim', 'age':12},{'name':'lee','age':4})\n",
        "\n",
        "def dict_list_sum(lst3):\n",
        "    sum_dic=0\n",
        "    for dic in lst3:\n",
        "        a=dic.get('age')\n",
        "        sum_dic+=a\n",
        "\n",
        "    return sum_dic\n",
        "\n",
        "dict_list_sum(lst3)"
      ],
      "metadata": {
        "colab": {
          "base_uri": "https://localhost:8080/"
        },
        "id": "KBXY99PcvJmE",
        "outputId": "dc5b7fe5-069a-4d9a-b017-d6a4d746c66d"
      },
      "execution_count": 9,
      "outputs": [
        {
          "output_type": "execute_result",
          "data": {
            "text/plain": [
              "16"
            ]
          },
          "metadata": {},
          "execution_count": 9
        }
      ]
    },
    {
      "cell_type": "markdown",
      "source": [
        "4. 2차원 list의 전체 합 구하기"
      ],
      "metadata": {
        "id": "P32YicJuyUlP"
      }
    },
    {
      "cell_type": "code",
      "source": [
        "lst4=([1],[2,3],[4,5,6],[7,8,9,10])\n",
        "\n",
        "def all_list_sum(lst4):\n",
        "    sum_lst4=0\n",
        "    for idx1 in lst4:\n",
        "        for idx2 in idx1:\n",
        "            sum_lst4+=idx2\n",
        "\n",
        "    return sum_lst4\n",
        "\n",
        "all_list_sum(lst4)"
      ],
      "metadata": {
        "colab": {
          "base_uri": "https://localhost:8080/"
        },
        "id": "TjglbyJ1w3TK",
        "outputId": "4397fac6-9225-41bf-d305-fa4c26947aed"
      },
      "execution_count": 11,
      "outputs": [
        {
          "output_type": "execute_result",
          "data": {
            "text/plain": [
              "55"
            ]
          },
          "metadata": {},
          "execution_count": 11
        }
      ]
    },
    {
      "cell_type": "markdown",
      "source": [
        "ASCII 코드\n",
        "\n",
        "A-> 65  /  Z->90 /N->97  \n",
        "Z-> 109  \n",
        "a-> 110  \n",
        "z-> 122"
      ],
      "metadata": {
        "id": "DlTrpaux9IJ9"
      }
    },
    {
      "cell_type": "markdown",
      "source": [
        "5. 숫자의 의미\n",
        "정수 숫자-> 영어 아스키 코드 만들기"
      ],
      "metadata": {
        "id": "o7mgMlcl9bXL"
      }
    },
    {
      "cell_type": "code",
      "source": [
        "#알파벳-> 아스키 코드 chr  ex) chr(83)='S'\n",
        "#아스키 -> 알바펫 ord\n",
        "\n",
        "lst5=[83,115,65,102,89]\n",
        "\n",
        "def get_secret_word(lst5):\n",
        "    ssafy=''\n",
        "    for ascii in lst5:\n",
        "        a=chr(ascii)\n",
        "        #print(a)\n",
        "\n",
        "        #a=ord(ascii)\n",
        "        #print(a)\n",
        "        #print(type(a))\n",
        "        ssafy+=a\n",
        "\n",
        "    return ssafy\n",
        "\n",
        "\n",
        "get_secret_word(lst5)\n"
      ],
      "metadata": {
        "colab": {
          "base_uri": "https://localhost:8080/",
          "height": 35
        },
        "id": "YjNBgMm_8kjh",
        "outputId": "bbe59729-d076-4be0-af65-dede603c397f"
      },
      "execution_count": 30,
      "outputs": [
        {
          "output_type": "execute_result",
          "data": {
            "text/plain": [
              "'SsAfY'"
            ],
            "application/vnd.google.colaboratory.intrinsic+json": {
              "type": "string"
            }
          },
          "metadata": {},
          "execution_count": 30
        }
      ]
    },
    {
      "cell_type": "markdown",
      "source": [
        "6. 내이름은 몇일까?"
      ],
      "metadata": {
        "id": "2IcS54hPAmXo"
      }
    },
    {
      "cell_type": "code",
      "source": [
        "lst6='happy'\n",
        "\n",
        "def get_secret_number(lst6):\n",
        "    name_sum=0\n",
        "    for a in lst6:\n",
        "        A=ord(a)\n",
        "        name_sum+=A\n",
        "\n",
        "    return name_sum\n",
        "\n",
        "get_secret_number(lst6)\n"
      ],
      "metadata": {
        "colab": {
          "base_uri": "https://localhost:8080/"
        },
        "id": "OjbUkizJ9nSz",
        "outputId": "edeb5c59-22b7-4a4b-8c64-ca202b6665ec"
      },
      "execution_count": 41,
      "outputs": [
        {
          "output_type": "execute_result",
          "data": {
            "text/plain": [
              "546"
            ]
          },
          "metadata": {},
          "execution_count": 41
        }
      ]
    },
    {
      "cell_type": "markdown",
      "source": [
        "7. 강한 이름  \n",
        "  아스키 변환 합이 큰 이름을 반환"
      ],
      "metadata": {
        "id": "Q2oo-ymyBdfm"
      }
    },
    {
      "cell_type": "code",
      "source": [
        "def get_strong_word(A,B):\n",
        "    name_sum_A=0\n",
        "    name_sum_B=0\n",
        "\n",
        "    for a in A:\n",
        "        name_sum_A+=ord(a)\n",
        "        #print(name_sum_A)\n",
        "\n",
        "    for b in B:\n",
        "        name_sum_B+=ord(b)\n",
        "        #print(name_sum_B)\n",
        "    #print(name_sum_A, name_sum_B)\n",
        "\n",
        "    if name_sum_A>name_sum_B:\n",
        "        C=print(A)\n",
        "\n",
        "\n",
        "    elif name_sum_A<name_sum_B:\n",
        "        C=print(B)\n",
        "    \n",
        "    else:\n",
        "        C=print(A,B)\n",
        "\n",
        "    return C\n",
        "\n",
        "get_strong_word('delilah','dixon')"
      ],
      "metadata": {
        "colab": {
          "base_uri": "https://localhost:8080/"
        },
        "id": "eoIedkbfABIT",
        "outputId": "c3d8cb23-472e-447b-c481-48b987b52fbd"
      },
      "execution_count": 55,
      "outputs": [
        {
          "output_type": "stream",
          "name": "stdout",
          "text": [
            "723 546\n",
            "delilah\n"
          ]
        }
      ]
    }
  ]
}