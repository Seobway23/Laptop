{
  "nbformat": 4,
  "nbformat_minor": 0,
  "metadata": {
    "colab": {
      "provenance": [],
      "authorship_tag": "ABX9TyPkyXnJIRTc0Hi++Mbr6FS/",
      "include_colab_link": true
    },
    "kernelspec": {
      "name": "python3",
      "display_name": "Python 3"
    },
    "language_info": {
      "name": "python"
    }
  },
  "cells": [
    {
      "cell_type": "markdown",
      "metadata": {
        "id": "view-in-github",
        "colab_type": "text"
      },
      "source": [
        "<a href=\"https://colab.research.google.com/github/Seobway23/laptop/blob/master/01_25.ipynb\" target=\"_parent\"><img src=\"https://colab.research.google.com/assets/colab-badge.svg\" alt=\"Open In Colab\"/></a>"
      ]
    },
    {
      "cell_type": "code",
      "execution_count": 7,
      "metadata": {
        "colab": {
          "base_uri": "https://localhost:8080/"
        },
        "id": "VCMRoUJcQwvc",
        "outputId": "08f5677c-a3c3-418b-9fb8-4f1d1e0d6ab6"
      },
      "outputs": [
        {
          "output_type": "stream",
          "name": "stdout",
          "text": [
            "new\n"
          ]
        }
      ],
      "source": [
        "#1 replace -> 대체\n",
        "str='old'\n",
        "A=str.replace('old','new')\n",
        "print(A)"
      ]
    },
    {
      "cell_type": "code",
      "source": [
        "#겹 운->받"
      ],
      "metadata": {
        "id": "HiuAONngR3UR"
      },
      "execution_count": null,
      "outputs": []
    },
    {
      "cell_type": "code",
      "source": [
        "#1 .find \n",
        "#문자열 조회/ 탐색 'p'의 위치 탐색-> 없으면 -1 반환 /오류 X\n",
        "'apple'.find('p')\n",
        "\n",
        "#2 .index\n",
        "# value error 남\n",
        "'apple'.index('p')\n",
        "\n"
      ],
      "metadata": {
        "colab": {
          "base_uri": "https://localhost:8080/"
        },
        "id": "Wd3bKKSNVBeo",
        "outputId": "5929f04d-ac1a-412a-bc8c-c36bcd42eeeb"
      },
      "execution_count": 25,
      "outputs": [
        {
          "output_type": "execute_result",
          "data": {
            "text/plain": [
              "1"
            ]
          },
          "metadata": {},
          "execution_count": 25
        }
      ]
    },
    {
      "cell_type": "code",
      "source": [
        "A='a b c '\n",
        "A.islower()\n",
        "\n",
        "#strip\n",
        "A='a b c '\n",
        "A.strip()"
      ],
      "metadata": {
        "colab": {
          "base_uri": "https://localhost:8080/",
          "height": 36
        },
        "id": "b01zBbmtVDXv",
        "outputId": "c9b051bd-36aa-4b34-e6ce-cf98045b069d"
      },
      "execution_count": 27,
      "outputs": [
        {
          "output_type": "execute_result",
          "data": {
            "text/plain": [
              "'a b c'"
            ],
            "application/vnd.google.colaboratory.intrinsic+json": {
              "type": "string"
            }
          },
          "metadata": {},
          "execution_count": 27
        }
      ]
    },
    {
      "cell_type": "code",
      "source": [
        "# .insert(i,x)\n",
        "a=[1,2,3,4,5]\n",
        "a.insert(5,0)\n",
        "\n",
        "print(a)"
      ],
      "metadata": {
        "colab": {
          "base_uri": "https://localhost:8080/"
        },
        "id": "RFWQosdCWQO3",
        "outputId": "23e74ac7-968d-4c0c-ec89-23d117987994"
      },
      "execution_count": 34,
      "outputs": [
        {
          "output_type": "stream",
          "name": "stdout",
          "text": [
            "[1, 2, 3, 4, 5, 0]\n"
          ]
        }
      ]
    },
    {
      "cell_type": "code",
      "source": [
        "cafe=['starbucks','tomnmoms','hollys']\n",
        "print(cafe)\n",
        "\n",
        "cafe.extend('coffee')\n",
        "print(cafe)"
      ],
      "metadata": {
        "colab": {
          "base_uri": "https://localhost:8080/"
        },
        "id": "a_qtvYu_WV2v",
        "outputId": "7c2b33ae-5ef1-46ae-cc97-073404deb04f"
      },
      "execution_count": 38,
      "outputs": [
        {
          "output_type": "stream",
          "name": "stdout",
          "text": [
            "['starbucks', 'tomnmoms', 'hollys']\n",
            "['starbucks', 'tomnmoms', 'hollys', 'c', 'o', 'f', 'f', 'e', 'e']\n"
          ]
        }
      ]
    },
    {
      "cell_type": "code",
      "source": [
        "# 함수 내부에 불필요한 print문이 있는 경우 오답으로 처리가 됩니다.\n",
        "def calculator(*numbers):\n",
        "    pass\n",
        "    # 여기에 코드를 작성하여 함수를 완성합니다.\n",
        "\n",
        "\n",
        "# 아래의 코드를 수정하거나 새롭게 추가하지 않습니다.\n",
        "########## 코드 변경 금지 ############\n",
        "if __name__ == '__main__':\n",
        "    print(calculator(5))                # 78.5\n",
        "    print(calculator(10, 20))           # 200\n",
        "    print(calculator(10, 20, 30, 40))   # (100, 25.0)\n",
        "    print(calculator())                 # 0"
      ],
      "metadata": {
        "id": "LHChxpSxZCNE"
      },
      "execution_count": null,
      "outputs": []
    },
    {
      "cell_type": "code",
      "source": [
        "# 입력에 따라 달라지는 결과 값 구하기 예시\n",
        "\n",
        "def calculator(*numbers):\n",
        "\n",
        "    if len(numbers)==1:\n",
        "            \n",
        "        r=numbers[0]\n",
        "        value=r*r*(3.14)\n",
        "\n",
        "    if len(numbers)==2:\n",
        "        a,b=numbers\n",
        "        value=a+b\n",
        "\n",
        "    if len(numbers)>=3:\n",
        "        value=sum(numbers)\n",
        "\n",
        "    return value\n",
        "\n",
        "calculator(5,6,7,8)\n"
      ],
      "metadata": {
        "colab": {
          "base_uri": "https://localhost:8080/"
        },
        "id": "AgL6wsYEbiE7",
        "outputId": "3b3530c3-7518-4c55-e38a-631bc69e4f7a"
      },
      "execution_count": 48,
      "outputs": [
        {
          "output_type": "execute_result",
          "data": {
            "text/plain": [
              "26"
            ]
          },
          "metadata": {},
          "execution_count": 48
        }
      ]
    },
    {
      "cell_type": "code",
      "source": [
        "#재귀 함수로 구현할 것\n",
        "\n",
        "def dec_to_bin(number):\n",
        "\n",
        "    if number<2:\n",
        "        a=[]\n",
        "        a=print(number%2,end='')\n",
        "\n",
        "    else:\n",
        "        dec_to_bin(number//2)\n",
        "        a=print(number%2,end='')\n",
        "\n",
        "\n",
        "# 아래의 코드를 수정하거나 새롭게 추가하지 않습니다.\n",
        "########## 코드 변경 금지 ############\n",
        "if __name__ == '__main__':\n",
        "    print(dec_to_bin(10))  # 1010\n",
        "    print(dec_to_bin(5))   # 101\n",
        "    print(dec_to_bin(50))  # 110010\n"
      ],
      "metadata": {
        "colab": {
          "base_uri": "https://localhost:8080/"
        },
        "id": "ju4nruM7lyDd",
        "outputId": "b38eae04-4871-46ec-e092-0f4505392ece"
      },
      "execution_count": 92,
      "outputs": [
        {
          "output_type": "stream",
          "name": "stdout",
          "text": [
            "1010None\n",
            "101None\n",
            "110010None\n"
          ]
        }
      ]
    },
    {
      "cell_type": "code",
      "source": [
        "print(1010)"
      ],
      "metadata": {
        "colab": {
          "base_uri": "https://localhost:8080/"
        },
        "id": "gygtTaAQmOyX",
        "outputId": "dd075336-09fd-4113-af59-3c808dc17c0c"
      },
      "execution_count": 76,
      "outputs": [
        {
          "output_type": "stream",
          "name": "stdout",
          "text": [
            "1010\n"
          ]
        }
      ]
    },
    {
      "cell_type": "code",
      "source": [],
      "metadata": {
        "id": "Ktoe-HM_sS7S"
      },
      "execution_count": null,
      "outputs": []
    }
  ]
}